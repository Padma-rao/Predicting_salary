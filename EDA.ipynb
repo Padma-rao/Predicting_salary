{
 "cells": [
  {
   "cell_type": "markdown",
   "metadata": {},
   "source": [
    "**EDA**"
   ]
  },
  {
   "cell_type": "markdown",
   "metadata": {},
   "source": [
    "Data has been scrapped from seek.com.au website. I scrapped mainly data analyst and data scientist jobs. This file is of only data cleaning and EDA."
   ]
  },
  {
   "cell_type": "code",
   "execution_count": 1,
   "metadata": {},
   "outputs": [],
   "source": [
    "# Import required libraries\n",
    "import pandas as pd\n",
    "import seaborn as sns\n",
    "import matplotlib.pyplot as plt\n",
    "from itertools import product\n",
    "import warnings\n",
    "\n",
    "warnings.filterwarnings('ignore')\n",
    "sns.set_style('darkgrid')"
   ]
  },
  {
   "cell_type": "markdown",
   "metadata": {},
   "source": [
    "Scrapped data scientist related jobs from seek site."
   ]
  },
  {
   "cell_type": "code",
   "execution_count": 2,
   "metadata": {},
   "outputs": [],
   "source": [
    "seek = pd.read_csv('seek_site_jobs.csv')"
   ]
  },
  {
   "cell_type": "code",
   "execution_count": 3,
   "metadata": {},
   "outputs": [
    {
     "data": {
      "text/html": [
       "<div>\n",
       "<style scoped>\n",
       "    .dataframe tbody tr th:only-of-type {\n",
       "        vertical-align: middle;\n",
       "    }\n",
       "\n",
       "    .dataframe tbody tr th {\n",
       "        vertical-align: top;\n",
       "    }\n",
       "\n",
       "    .dataframe thead th {\n",
       "        text-align: right;\n",
       "    }\n",
       "</style>\n",
       "<table border=\"1\" class=\"dataframe\">\n",
       "  <thead>\n",
       "    <tr style=\"text-align: right;\">\n",
       "      <th></th>\n",
       "      <th>Unnamed: 0</th>\n",
       "      <th>Unnamed: 0.1</th>\n",
       "      <th>Salary Range</th>\n",
       "      <th>Link</th>\n",
       "      <th>Title</th>\n",
       "      <th>Listing Date</th>\n",
       "      <th>Expiry Date</th>\n",
       "      <th>Job Title</th>\n",
       "      <th>Job Teaser</th>\n",
       "      <th>Advertiser</th>\n",
       "      <th>Area</th>\n",
       "      <th>Work Type</th>\n",
       "      <th>Classification</th>\n",
       "      <th>Salary</th>\n",
       "      <th>Salary Type</th>\n",
       "      <th>JD</th>\n",
       "      <th>Location</th>\n",
       "      <th>Job Description</th>\n",
       "      <th>Strong Words</th>\n",
       "    </tr>\n",
       "  </thead>\n",
       "  <tbody>\n",
       "    <tr>\n",
       "      <th>0</th>\n",
       "      <td>0</td>\n",
       "      <td>0</td>\n",
       "      <td>0-70000</td>\n",
       "      <td>https://www.seek.com.au/job/40345298</td>\n",
       "      <td>Junior Data Scientist</td>\n",
       "      <td>2019-11-08T01:16:08.000Z</td>\n",
       "      <td>2019-12-08T12:59:59.000Z</td>\n",
       "      <td>Junior Data Scientist</td>\n",
       "      <td>JUNIOR DATA SCIENTIST | SYDNEY CBD | OPPORTUNI...</td>\n",
       "      <td>Opus Recruitment Solutions</td>\n",
       "      <td>NaN</td>\n",
       "      <td>Full Time</td>\n",
       "      <td>Information &amp; Communication Technology</td>\n",
       "      <td>$70000 - $80000 per annum</td>\n",
       "      <td>AnnualPackage</td>\n",
       "      <td>&lt;div class=\"_2e4Pi2B\" data-automation=\"mobileT...</td>\n",
       "      <td>Sydney</td>\n",
       "      <td>JUNIOR DATA SCIENTIST | SYDNEY CBD | OPPORTUNI...</td>\n",
       "      <td>['JUNIOR DATA SCIENTIST | SYDNEY CBD | OPPORTU...</td>\n",
       "    </tr>\n",
       "    <tr>\n",
       "      <th>1</th>\n",
       "      <td>1</td>\n",
       "      <td>1</td>\n",
       "      <td>0-70000</td>\n",
       "      <td>https://www.seek.com.au/job/40369561</td>\n",
       "      <td>Quantitative Analyst / Data Scientist</td>\n",
       "      <td>2019-11-12T02:46:05.000Z</td>\n",
       "      <td>2019-12-12T12:59:59.000Z</td>\n",
       "      <td>Quantitative Analyst / Data Scientist</td>\n",
       "      <td>Exciting opportunity for an experienced Data S...</td>\n",
       "      <td>Ethos BeathChapman</td>\n",
       "      <td>CBD, Inner West &amp; Eastern Suburbs</td>\n",
       "      <td>Full Time</td>\n",
       "      <td>Banking &amp; Financial Services</td>\n",
       "      <td>NaN</td>\n",
       "      <td>AnnualPackage</td>\n",
       "      <td>&lt;div class=\"_2e4Pi2B\" data-automation=\"mobileT...</td>\n",
       "      <td>Sydney</td>\n",
       "      <td>Data Scientist – Investment ManagementAre you ...</td>\n",
       "      <td>['Data Scientist – Investment Management', 'Re...</td>\n",
       "    </tr>\n",
       "    <tr>\n",
       "      <th>2</th>\n",
       "      <td>2</td>\n",
       "      <td>2</td>\n",
       "      <td>0-70000</td>\n",
       "      <td>https://www.seek.com.au/job/40285384</td>\n",
       "      <td>Data Scientist</td>\n",
       "      <td>2019-10-31T00:31:30.000Z</td>\n",
       "      <td>2019-11-30T12:59:59.000Z</td>\n",
       "      <td>Data Scientist</td>\n",
       "      <td>Conduct innovative research by utilising state...</td>\n",
       "      <td>Swinburne University of Technology</td>\n",
       "      <td>CBD &amp; Inner Suburbs</td>\n",
       "      <td>Full Time</td>\n",
       "      <td>Science &amp; Technology</td>\n",
       "      <td>NaN</td>\n",
       "      <td>AnnualPackage</td>\n",
       "      <td>&lt;div class=\"_2e4Pi2B\" data-automation=\"mobileT...</td>\n",
       "      <td>Melbourne</td>\n",
       "      <td>About the JobIn this exciting role, you could ...</td>\n",
       "      <td>['About the Job', 'About Swinburne University ...</td>\n",
       "    </tr>\n",
       "    <tr>\n",
       "      <th>3</th>\n",
       "      <td>3</td>\n",
       "      <td>3</td>\n",
       "      <td>0-70000</td>\n",
       "      <td>https://www.seek.com.au/job/40285385</td>\n",
       "      <td>Data Scientist</td>\n",
       "      <td>2019-10-31T00:31:30.000Z</td>\n",
       "      <td>2019-11-30T12:59:59.000Z</td>\n",
       "      <td>Data Scientist</td>\n",
       "      <td>Conduct innovative research by utilising state...</td>\n",
       "      <td>Swinburne University of Technology</td>\n",
       "      <td>CBD &amp; Inner Suburbs</td>\n",
       "      <td>Full Time</td>\n",
       "      <td>Education &amp; Training</td>\n",
       "      <td>NaN</td>\n",
       "      <td>AnnualPackage</td>\n",
       "      <td>&lt;div class=\"_2e4Pi2B\" data-automation=\"mobileT...</td>\n",
       "      <td>Melbourne</td>\n",
       "      <td>About the JobIn this exciting role, you could ...</td>\n",
       "      <td>['About the Job', 'About Swinburne University ...</td>\n",
       "    </tr>\n",
       "    <tr>\n",
       "      <th>4</th>\n",
       "      <td>4</td>\n",
       "      <td>4</td>\n",
       "      <td>0-70000</td>\n",
       "      <td>https://www.seek.com.au/job/40241958</td>\n",
       "      <td>Data Scientist</td>\n",
       "      <td>2019-10-24T15:25:27.000Z</td>\n",
       "      <td>2019-11-24T12:59:59.000Z</td>\n",
       "      <td>Data Scientist</td>\n",
       "      <td>Data Scientist Role with Deloitte Consulting  ...</td>\n",
       "      <td>Deloitte</td>\n",
       "      <td>CBD &amp; Inner Suburbs</td>\n",
       "      <td>Full Time</td>\n",
       "      <td>Consulting &amp; Strategy</td>\n",
       "      <td>NaN</td>\n",
       "      <td>AnnualPackage</td>\n",
       "      <td>&lt;div class=\"_2e4Pi2B\" data-automation=\"mobileT...</td>\n",
       "      <td>Melbourne</td>\n",
       "      <td>Salary packaging - to suit your personal and f...</td>\n",
       "      <td>['About the team', '', 'What will your typical...</td>\n",
       "    </tr>\n",
       "  </tbody>\n",
       "</table>\n",
       "</div>"
      ],
      "text/plain": [
       "   Unnamed: 0 Unnamed: 0.1 Salary Range                                  Link  \\\n",
       "0           0            0      0-70000  https://www.seek.com.au/job/40345298   \n",
       "1           1            1      0-70000  https://www.seek.com.au/job/40369561   \n",
       "2           2            2      0-70000  https://www.seek.com.au/job/40285384   \n",
       "3           3            3      0-70000  https://www.seek.com.au/job/40285385   \n",
       "4           4            4      0-70000  https://www.seek.com.au/job/40241958   \n",
       "\n",
       "                                   Title              Listing Date  \\\n",
       "0                  Junior Data Scientist  2019-11-08T01:16:08.000Z   \n",
       "1  Quantitative Analyst / Data Scientist  2019-11-12T02:46:05.000Z   \n",
       "2                         Data Scientist  2019-10-31T00:31:30.000Z   \n",
       "3                         Data Scientist  2019-10-31T00:31:30.000Z   \n",
       "4                         Data Scientist  2019-10-24T15:25:27.000Z   \n",
       "\n",
       "                Expiry Date                              Job Title  \\\n",
       "0  2019-12-08T12:59:59.000Z                  Junior Data Scientist   \n",
       "1  2019-12-12T12:59:59.000Z  Quantitative Analyst / Data Scientist   \n",
       "2  2019-11-30T12:59:59.000Z                         Data Scientist   \n",
       "3  2019-11-30T12:59:59.000Z                         Data Scientist   \n",
       "4  2019-11-24T12:59:59.000Z                        Data Scientist    \n",
       "\n",
       "                                          Job Teaser  \\\n",
       "0  JUNIOR DATA SCIENTIST | SYDNEY CBD | OPPORTUNI...   \n",
       "1  Exciting opportunity for an experienced Data S...   \n",
       "2  Conduct innovative research by utilising state...   \n",
       "3  Conduct innovative research by utilising state...   \n",
       "4  Data Scientist Role with Deloitte Consulting  ...   \n",
       "\n",
       "                           Advertiser                               Area  \\\n",
       "0          Opus Recruitment Solutions                                NaN   \n",
       "1                  Ethos BeathChapman  CBD, Inner West & Eastern Suburbs   \n",
       "2  Swinburne University of Technology                CBD & Inner Suburbs   \n",
       "3  Swinburne University of Technology                CBD & Inner Suburbs   \n",
       "4                            Deloitte                CBD & Inner Suburbs   \n",
       "\n",
       "   Work Type                          Classification  \\\n",
       "0  Full Time  Information & Communication Technology   \n",
       "1  Full Time            Banking & Financial Services   \n",
       "2  Full Time                    Science & Technology   \n",
       "3  Full Time                    Education & Training   \n",
       "4  Full Time                   Consulting & Strategy   \n",
       "\n",
       "                      Salary    Salary Type  \\\n",
       "0  $70000 - $80000 per annum  AnnualPackage   \n",
       "1                        NaN  AnnualPackage   \n",
       "2                        NaN  AnnualPackage   \n",
       "3                        NaN  AnnualPackage   \n",
       "4                        NaN  AnnualPackage   \n",
       "\n",
       "                                                  JD   Location  \\\n",
       "0  <div class=\"_2e4Pi2B\" data-automation=\"mobileT...     Sydney   \n",
       "1  <div class=\"_2e4Pi2B\" data-automation=\"mobileT...     Sydney   \n",
       "2  <div class=\"_2e4Pi2B\" data-automation=\"mobileT...  Melbourne   \n",
       "3  <div class=\"_2e4Pi2B\" data-automation=\"mobileT...  Melbourne   \n",
       "4  <div class=\"_2e4Pi2B\" data-automation=\"mobileT...  Melbourne   \n",
       "\n",
       "                                     Job Description  \\\n",
       "0  JUNIOR DATA SCIENTIST | SYDNEY CBD | OPPORTUNI...   \n",
       "1  Data Scientist – Investment ManagementAre you ...   \n",
       "2  About the JobIn this exciting role, you could ...   \n",
       "3  About the JobIn this exciting role, you could ...   \n",
       "4  Salary packaging - to suit your personal and f...   \n",
       "\n",
       "                                        Strong Words  \n",
       "0  ['JUNIOR DATA SCIENTIST | SYDNEY CBD | OPPORTU...  \n",
       "1  ['Data Scientist – Investment Management', 'Re...  \n",
       "2  ['About the Job', 'About Swinburne University ...  \n",
       "3  ['About the Job', 'About Swinburne University ...  \n",
       "4  ['About the team', '', 'What will your typical...  "
      ]
     },
     "execution_count": 3,
     "metadata": {},
     "output_type": "execute_result"
    }
   ],
   "source": [
    "seek.head()"
   ]
  },
  {
   "cell_type": "code",
   "execution_count": 4,
   "metadata": {},
   "outputs": [
    {
     "data": {
      "text/plain": [
       "70000-120000                         1426\n",
       "120000-999999                        1351\n",
       "0-70000                              1088\n",
       "CBD, Inner West & Eastern Suburbs       3\n",
       "Finite Banking & Finance                1\n",
       "Name: Salary Range, dtype: int64"
      ]
     },
     "execution_count": 4,
     "metadata": {},
     "output_type": "execute_result"
    }
   ],
   "source": [
    "seek['Salary Range'].value_counts()"
   ]
  },
  {
   "cell_type": "code",
   "execution_count": 5,
   "metadata": {},
   "outputs": [
    {
     "data": {
      "text/plain": [
       "(3872, 19)"
      ]
     },
     "execution_count": 5,
     "metadata": {},
     "output_type": "execute_result"
    }
   ],
   "source": [
    "seek.shape"
   ]
  },
  {
   "cell_type": "markdown",
   "metadata": {},
   "source": [
    "Locating first row of scrapped data"
   ]
  },
  {
   "cell_type": "code",
   "execution_count": 6,
   "metadata": {},
   "outputs": [
    {
     "data": {
      "text/html": [
       "<div>\n",
       "<style scoped>\n",
       "    .dataframe tbody tr th:only-of-type {\n",
       "        vertical-align: middle;\n",
       "    }\n",
       "\n",
       "    .dataframe tbody tr th {\n",
       "        vertical-align: top;\n",
       "    }\n",
       "\n",
       "    .dataframe thead th {\n",
       "        text-align: right;\n",
       "    }\n",
       "</style>\n",
       "<table border=\"1\" class=\"dataframe\">\n",
       "  <thead>\n",
       "    <tr style=\"text-align: right;\">\n",
       "      <th></th>\n",
       "      <th>Unnamed: 0</th>\n",
       "      <th>Unnamed: 0.1</th>\n",
       "      <th>Salary Range</th>\n",
       "      <th>Link</th>\n",
       "      <th>Title</th>\n",
       "      <th>Listing Date</th>\n",
       "      <th>Expiry Date</th>\n",
       "      <th>Job Title</th>\n",
       "      <th>Job Teaser</th>\n",
       "      <th>Advertiser</th>\n",
       "      <th>Area</th>\n",
       "      <th>Work Type</th>\n",
       "      <th>Classification</th>\n",
       "      <th>Salary</th>\n",
       "      <th>Salary Type</th>\n",
       "      <th>JD</th>\n",
       "      <th>Location</th>\n",
       "      <th>Job Description</th>\n",
       "      <th>Strong Words</th>\n",
       "    </tr>\n",
       "  </thead>\n",
       "  <tbody>\n",
       "    <tr>\n",
       "      <th>0</th>\n",
       "      <td>0</td>\n",
       "      <td>0</td>\n",
       "      <td>0-70000</td>\n",
       "      <td>https://www.seek.com.au/job/40345298</td>\n",
       "      <td>Junior Data Scientist</td>\n",
       "      <td>2019-11-08T01:16:08.000Z</td>\n",
       "      <td>2019-12-08T12:59:59.000Z</td>\n",
       "      <td>Junior Data Scientist</td>\n",
       "      <td>JUNIOR DATA SCIENTIST | SYDNEY CBD | OPPORTUNI...</td>\n",
       "      <td>Opus Recruitment Solutions</td>\n",
       "      <td>NaN</td>\n",
       "      <td>Full Time</td>\n",
       "      <td>Information &amp; Communication Technology</td>\n",
       "      <td>$70000 - $80000 per annum</td>\n",
       "      <td>AnnualPackage</td>\n",
       "      <td>&lt;div class=\"_2e4Pi2B\" data-automation=\"mobileT...</td>\n",
       "      <td>Sydney</td>\n",
       "      <td>JUNIOR DATA SCIENTIST | SYDNEY CBD | OPPORTUNI...</td>\n",
       "      <td>['JUNIOR DATA SCIENTIST | SYDNEY CBD | OPPORTU...</td>\n",
       "    </tr>\n",
       "  </tbody>\n",
       "</table>\n",
       "</div>"
      ],
      "text/plain": [
       "   Unnamed: 0 Unnamed: 0.1 Salary Range                                  Link  \\\n",
       "0           0            0      0-70000  https://www.seek.com.au/job/40345298   \n",
       "\n",
       "                   Title              Listing Date               Expiry Date  \\\n",
       "0  Junior Data Scientist  2019-11-08T01:16:08.000Z  2019-12-08T12:59:59.000Z   \n",
       "\n",
       "               Job Title                                         Job Teaser  \\\n",
       "0  Junior Data Scientist  JUNIOR DATA SCIENTIST | SYDNEY CBD | OPPORTUNI...   \n",
       "\n",
       "                   Advertiser Area  Work Type  \\\n",
       "0  Opus Recruitment Solutions  NaN  Full Time   \n",
       "\n",
       "                           Classification                     Salary  \\\n",
       "0  Information & Communication Technology  $70000 - $80000 per annum   \n",
       "\n",
       "     Salary Type                                                 JD Location  \\\n",
       "0  AnnualPackage  <div class=\"_2e4Pi2B\" data-automation=\"mobileT...   Sydney   \n",
       "\n",
       "                                     Job Description  \\\n",
       "0  JUNIOR DATA SCIENTIST | SYDNEY CBD | OPPORTUNI...   \n",
       "\n",
       "                                        Strong Words  \n",
       "0  ['JUNIOR DATA SCIENTIST | SYDNEY CBD | OPPORTU...  "
      ]
     },
     "execution_count": 6,
     "metadata": {},
     "output_type": "execute_result"
    }
   ],
   "source": [
    "seek.iloc[:1]"
   ]
  },
  {
   "cell_type": "markdown",
   "metadata": {},
   "source": [
    "Deleting Unnmed:0, Unnanmed:0.1 columns"
   ]
  },
  {
   "cell_type": "code",
   "execution_count": 7,
   "metadata": {},
   "outputs": [],
   "source": [
    "seek.drop(columns=['Unnamed: 0', 'Unnamed: 0.1'], inplace=True)"
   ]
  },
  {
   "cell_type": "code",
   "execution_count": 8,
   "metadata": {},
   "outputs": [
    {
     "data": {
      "text/html": [
       "<div>\n",
       "<style scoped>\n",
       "    .dataframe tbody tr th:only-of-type {\n",
       "        vertical-align: middle;\n",
       "    }\n",
       "\n",
       "    .dataframe tbody tr th {\n",
       "        vertical-align: top;\n",
       "    }\n",
       "\n",
       "    .dataframe thead th {\n",
       "        text-align: right;\n",
       "    }\n",
       "</style>\n",
       "<table border=\"1\" class=\"dataframe\">\n",
       "  <thead>\n",
       "    <tr style=\"text-align: right;\">\n",
       "      <th></th>\n",
       "      <th>Salary Range</th>\n",
       "      <th>Link</th>\n",
       "      <th>Title</th>\n",
       "      <th>Listing Date</th>\n",
       "      <th>Expiry Date</th>\n",
       "      <th>Job Title</th>\n",
       "      <th>Job Teaser</th>\n",
       "      <th>Advertiser</th>\n",
       "      <th>Area</th>\n",
       "      <th>Work Type</th>\n",
       "      <th>Classification</th>\n",
       "      <th>Salary</th>\n",
       "      <th>Salary Type</th>\n",
       "      <th>JD</th>\n",
       "      <th>Location</th>\n",
       "      <th>Job Description</th>\n",
       "      <th>Strong Words</th>\n",
       "    </tr>\n",
       "  </thead>\n",
       "  <tbody>\n",
       "    <tr>\n",
       "      <th>0</th>\n",
       "      <td>0-70000</td>\n",
       "      <td>https://www.seek.com.au/job/40345298</td>\n",
       "      <td>Junior Data Scientist</td>\n",
       "      <td>2019-11-08T01:16:08.000Z</td>\n",
       "      <td>2019-12-08T12:59:59.000Z</td>\n",
       "      <td>Junior Data Scientist</td>\n",
       "      <td>JUNIOR DATA SCIENTIST | SYDNEY CBD | OPPORTUNI...</td>\n",
       "      <td>Opus Recruitment Solutions</td>\n",
       "      <td>NaN</td>\n",
       "      <td>Full Time</td>\n",
       "      <td>Information &amp; Communication Technology</td>\n",
       "      <td>$70000 - $80000 per annum</td>\n",
       "      <td>AnnualPackage</td>\n",
       "      <td>&lt;div class=\"_2e4Pi2B\" data-automation=\"mobileT...</td>\n",
       "      <td>Sydney</td>\n",
       "      <td>JUNIOR DATA SCIENTIST | SYDNEY CBD | OPPORTUNI...</td>\n",
       "      <td>['JUNIOR DATA SCIENTIST | SYDNEY CBD | OPPORTU...</td>\n",
       "    </tr>\n",
       "    <tr>\n",
       "      <th>1</th>\n",
       "      <td>0-70000</td>\n",
       "      <td>https://www.seek.com.au/job/40369561</td>\n",
       "      <td>Quantitative Analyst / Data Scientist</td>\n",
       "      <td>2019-11-12T02:46:05.000Z</td>\n",
       "      <td>2019-12-12T12:59:59.000Z</td>\n",
       "      <td>Quantitative Analyst / Data Scientist</td>\n",
       "      <td>Exciting opportunity for an experienced Data S...</td>\n",
       "      <td>Ethos BeathChapman</td>\n",
       "      <td>CBD, Inner West &amp; Eastern Suburbs</td>\n",
       "      <td>Full Time</td>\n",
       "      <td>Banking &amp; Financial Services</td>\n",
       "      <td>NaN</td>\n",
       "      <td>AnnualPackage</td>\n",
       "      <td>&lt;div class=\"_2e4Pi2B\" data-automation=\"mobileT...</td>\n",
       "      <td>Sydney</td>\n",
       "      <td>Data Scientist – Investment ManagementAre you ...</td>\n",
       "      <td>['Data Scientist – Investment Management', 'Re...</td>\n",
       "    </tr>\n",
       "    <tr>\n",
       "      <th>2</th>\n",
       "      <td>0-70000</td>\n",
       "      <td>https://www.seek.com.au/job/40285384</td>\n",
       "      <td>Data Scientist</td>\n",
       "      <td>2019-10-31T00:31:30.000Z</td>\n",
       "      <td>2019-11-30T12:59:59.000Z</td>\n",
       "      <td>Data Scientist</td>\n",
       "      <td>Conduct innovative research by utilising state...</td>\n",
       "      <td>Swinburne University of Technology</td>\n",
       "      <td>CBD &amp; Inner Suburbs</td>\n",
       "      <td>Full Time</td>\n",
       "      <td>Science &amp; Technology</td>\n",
       "      <td>NaN</td>\n",
       "      <td>AnnualPackage</td>\n",
       "      <td>&lt;div class=\"_2e4Pi2B\" data-automation=\"mobileT...</td>\n",
       "      <td>Melbourne</td>\n",
       "      <td>About the JobIn this exciting role, you could ...</td>\n",
       "      <td>['About the Job', 'About Swinburne University ...</td>\n",
       "    </tr>\n",
       "    <tr>\n",
       "      <th>3</th>\n",
       "      <td>0-70000</td>\n",
       "      <td>https://www.seek.com.au/job/40285385</td>\n",
       "      <td>Data Scientist</td>\n",
       "      <td>2019-10-31T00:31:30.000Z</td>\n",
       "      <td>2019-11-30T12:59:59.000Z</td>\n",
       "      <td>Data Scientist</td>\n",
       "      <td>Conduct innovative research by utilising state...</td>\n",
       "      <td>Swinburne University of Technology</td>\n",
       "      <td>CBD &amp; Inner Suburbs</td>\n",
       "      <td>Full Time</td>\n",
       "      <td>Education &amp; Training</td>\n",
       "      <td>NaN</td>\n",
       "      <td>AnnualPackage</td>\n",
       "      <td>&lt;div class=\"_2e4Pi2B\" data-automation=\"mobileT...</td>\n",
       "      <td>Melbourne</td>\n",
       "      <td>About the JobIn this exciting role, you could ...</td>\n",
       "      <td>['About the Job', 'About Swinburne University ...</td>\n",
       "    </tr>\n",
       "    <tr>\n",
       "      <th>4</th>\n",
       "      <td>0-70000</td>\n",
       "      <td>https://www.seek.com.au/job/40241958</td>\n",
       "      <td>Data Scientist</td>\n",
       "      <td>2019-10-24T15:25:27.000Z</td>\n",
       "      <td>2019-11-24T12:59:59.000Z</td>\n",
       "      <td>Data Scientist</td>\n",
       "      <td>Data Scientist Role with Deloitte Consulting  ...</td>\n",
       "      <td>Deloitte</td>\n",
       "      <td>CBD &amp; Inner Suburbs</td>\n",
       "      <td>Full Time</td>\n",
       "      <td>Consulting &amp; Strategy</td>\n",
       "      <td>NaN</td>\n",
       "      <td>AnnualPackage</td>\n",
       "      <td>&lt;div class=\"_2e4Pi2B\" data-automation=\"mobileT...</td>\n",
       "      <td>Melbourne</td>\n",
       "      <td>Salary packaging - to suit your personal and f...</td>\n",
       "      <td>['About the team', '', 'What will your typical...</td>\n",
       "    </tr>\n",
       "  </tbody>\n",
       "</table>\n",
       "</div>"
      ],
      "text/plain": [
       "  Salary Range                                  Link  \\\n",
       "0      0-70000  https://www.seek.com.au/job/40345298   \n",
       "1      0-70000  https://www.seek.com.au/job/40369561   \n",
       "2      0-70000  https://www.seek.com.au/job/40285384   \n",
       "3      0-70000  https://www.seek.com.au/job/40285385   \n",
       "4      0-70000  https://www.seek.com.au/job/40241958   \n",
       "\n",
       "                                   Title              Listing Date  \\\n",
       "0                  Junior Data Scientist  2019-11-08T01:16:08.000Z   \n",
       "1  Quantitative Analyst / Data Scientist  2019-11-12T02:46:05.000Z   \n",
       "2                         Data Scientist  2019-10-31T00:31:30.000Z   \n",
       "3                         Data Scientist  2019-10-31T00:31:30.000Z   \n",
       "4                         Data Scientist  2019-10-24T15:25:27.000Z   \n",
       "\n",
       "                Expiry Date                              Job Title  \\\n",
       "0  2019-12-08T12:59:59.000Z                  Junior Data Scientist   \n",
       "1  2019-12-12T12:59:59.000Z  Quantitative Analyst / Data Scientist   \n",
       "2  2019-11-30T12:59:59.000Z                         Data Scientist   \n",
       "3  2019-11-30T12:59:59.000Z                         Data Scientist   \n",
       "4  2019-11-24T12:59:59.000Z                        Data Scientist    \n",
       "\n",
       "                                          Job Teaser  \\\n",
       "0  JUNIOR DATA SCIENTIST | SYDNEY CBD | OPPORTUNI...   \n",
       "1  Exciting opportunity for an experienced Data S...   \n",
       "2  Conduct innovative research by utilising state...   \n",
       "3  Conduct innovative research by utilising state...   \n",
       "4  Data Scientist Role with Deloitte Consulting  ...   \n",
       "\n",
       "                           Advertiser                               Area  \\\n",
       "0          Opus Recruitment Solutions                                NaN   \n",
       "1                  Ethos BeathChapman  CBD, Inner West & Eastern Suburbs   \n",
       "2  Swinburne University of Technology                CBD & Inner Suburbs   \n",
       "3  Swinburne University of Technology                CBD & Inner Suburbs   \n",
       "4                            Deloitte                CBD & Inner Suburbs   \n",
       "\n",
       "   Work Type                          Classification  \\\n",
       "0  Full Time  Information & Communication Technology   \n",
       "1  Full Time            Banking & Financial Services   \n",
       "2  Full Time                    Science & Technology   \n",
       "3  Full Time                    Education & Training   \n",
       "4  Full Time                   Consulting & Strategy   \n",
       "\n",
       "                      Salary    Salary Type  \\\n",
       "0  $70000 - $80000 per annum  AnnualPackage   \n",
       "1                        NaN  AnnualPackage   \n",
       "2                        NaN  AnnualPackage   \n",
       "3                        NaN  AnnualPackage   \n",
       "4                        NaN  AnnualPackage   \n",
       "\n",
       "                                                  JD   Location  \\\n",
       "0  <div class=\"_2e4Pi2B\" data-automation=\"mobileT...     Sydney   \n",
       "1  <div class=\"_2e4Pi2B\" data-automation=\"mobileT...     Sydney   \n",
       "2  <div class=\"_2e4Pi2B\" data-automation=\"mobileT...  Melbourne   \n",
       "3  <div class=\"_2e4Pi2B\" data-automation=\"mobileT...  Melbourne   \n",
       "4  <div class=\"_2e4Pi2B\" data-automation=\"mobileT...  Melbourne   \n",
       "\n",
       "                                     Job Description  \\\n",
       "0  JUNIOR DATA SCIENTIST | SYDNEY CBD | OPPORTUNI...   \n",
       "1  Data Scientist – Investment ManagementAre you ...   \n",
       "2  About the JobIn this exciting role, you could ...   \n",
       "3  About the JobIn this exciting role, you could ...   \n",
       "4  Salary packaging - to suit your personal and f...   \n",
       "\n",
       "                                        Strong Words  \n",
       "0  ['JUNIOR DATA SCIENTIST | SYDNEY CBD | OPPORTU...  \n",
       "1  ['Data Scientist – Investment Management', 'Re...  \n",
       "2  ['About the Job', 'About Swinburne University ...  \n",
       "3  ['About the Job', 'About Swinburne University ...  \n",
       "4  ['About the team', '', 'What will your typical...  "
      ]
     },
     "execution_count": 8,
     "metadata": {},
     "output_type": "execute_result"
    }
   ],
   "source": [
    "seek.head()\n"
   ]
  },
  {
   "cell_type": "markdown",
   "metadata": {},
   "source": [
    "Delete the duplicates"
   ]
  },
  {
   "cell_type": "code",
   "execution_count": 9,
   "metadata": {},
   "outputs": [],
   "source": [
    "seek.drop_duplicates(subset = ['Link', 'Title', 'Job Description', 'Work Type', 'Location'], inplace = True )"
   ]
  },
  {
   "cell_type": "code",
   "execution_count": 10,
   "metadata": {},
   "outputs": [
    {
     "data": {
      "text/plain": [
       "(2885, 17)"
      ]
     },
     "execution_count": 10,
     "metadata": {},
     "output_type": "execute_result"
    }
   ],
   "source": [
    "seek.shape"
   ]
  },
  {
   "cell_type": "markdown",
   "metadata": {},
   "source": [
    "988 Duplicates!!"
   ]
  },
  {
   "cell_type": "code",
   "execution_count": 11,
   "metadata": {},
   "outputs": [],
   "source": [
    "# reset index\n",
    "seek.reset_index(drop=True, inplace=True)"
   ]
  },
  {
   "cell_type": "code",
   "execution_count": 12,
   "metadata": {},
   "outputs": [
    {
     "data": {
      "text/plain": [
       "Sydney                                  1254\n",
       "Melbourne                                699\n",
       "Brisbane                                 323\n",
       "ACT                                      201\n",
       "Perth                                    161\n",
       "Adelaide                                  72\n",
       "Newcastle, Maitland & Hunter              24\n",
       "Gold Coast                                17\n",
       "South West Coast VIC                      15\n",
       "Gosford & Central Coast                   14\n",
       "Northern QLD                              12\n",
       "Darwin                                     9\n",
       "Hobart                                     8\n",
       "Wollongong, Illawarra & South Coast        7\n",
       "Bendigo, Goldfields & Macedon Ranges       5\n",
       "Sunshine Coast                             5\n",
       "Port Macquarie & Mid North Coast           5\n",
       "Cairns & Far North                         4\n",
       "Horsham & Grampians                        4\n",
       "Wagga Wagga & Riverina                     4\n",
       "Mackay & Coalfields                        4\n",
       "Tamworth & North West NSW                  3\n",
       "Asia Pacific                               3\n",
       "Blue Mountains & Central West              3\n",
       "Southern Highlands & Tablelands            2\n",
       "Toowoomba & Darling Downs                  2\n",
       "Yarra Valley & High Country                2\n",
       "Launceston & North East                    2\n",
       "Mornington Peninsula & Bass Coast          2\n",
       "Rockhampton & Capricorn Coast              2\n",
       "Gladstone & Central QLD                    1\n",
       "Bunbury & South West                       1\n",
       "Ballarat & Central Highlands               1\n",
       "Mildura & Murray                           1\n",
       "Mandurah & Peel                            1\n",
       "London                                     1\n",
       "Americas                                   1\n",
       "West Gippsland & Latrobe Valley            1\n",
       "Bairnsdale & Gippsland                     1\n",
       "Kalgoorlie, Goldfields & Esperance         1\n",
       "Name: Location, dtype: int64"
      ]
     },
     "execution_count": 12,
     "metadata": {},
     "output_type": "execute_result"
    }
   ],
   "source": [
    "#looking at locations\n",
    "seek['Location'].value_counts()"
   ]
  },
  {
   "cell_type": "code",
   "execution_count": 13,
   "metadata": {},
   "outputs": [],
   "source": [
    "def loctruc(string):\n",
    "    if string == \"Sydney\":\n",
    "        use = string\n",
    "    elif string == \"Melbourne\":\n",
    "        use = string\n",
    "    else:\n",
    "        use = \"other\"\n",
    "    \n",
    "    return use"
   ]
  },
  {
   "cell_type": "code",
   "execution_count": 14,
   "metadata": {},
   "outputs": [],
   "source": [
    "seek['Location_few'] = seek['Location'].apply(loctruc)"
   ]
  },
  {
   "cell_type": "code",
   "execution_count": 15,
   "metadata": {},
   "outputs": [
    {
     "data": {
      "text/plain": [
       "Sydney       1254\n",
       "other         932\n",
       "Melbourne     699\n",
       "Name: Location_few, dtype: int64"
      ]
     },
     "execution_count": 15,
     "metadata": {},
     "output_type": "execute_result"
    }
   ],
   "source": [
    "seek['Location_few'].value_counts()"
   ]
  },
  {
   "cell_type": "code",
   "execution_count": 16,
   "metadata": {},
   "outputs": [
    {
     "data": {
      "text/plain": [
       "array(['Junior Data Scientist', 'Quantitative Analyst / Data Scientist',\n",
       "       'Data Scientist', ..., 'Business Analyst -  TSPV - Canberra',\n",
       "       'PowerBI Specialist', 'Principal Systems Analyst'], dtype=object)"
      ]
     },
     "execution_count": 16,
     "metadata": {},
     "output_type": "execute_result"
    }
   ],
   "source": [
    "seek['Job Title'].unique()"
   ]
  },
  {
   "cell_type": "code",
   "execution_count": 17,
   "metadata": {},
   "outputs": [
    {
     "data": {
      "text/plain": [
       "1839"
      ]
     },
     "execution_count": 17,
     "metadata": {},
     "output_type": "execute_result"
    }
   ],
   "source": [
    "seek['Job Title'].nunique()"
   ]
  },
  {
   "cell_type": "markdown",
   "metadata": {},
   "source": [
    "There are total of 1839 jobtitles which need to be cleaned to make it simpler."
   ]
  },
  {
   "cell_type": "markdown",
   "metadata": {},
   "source": [
    "**Extracting Job Titles**"
   ]
  },
  {
   "cell_type": "code",
   "execution_count": 18,
   "metadata": {},
   "outputs": [],
   "source": [
    "# Function for keyword search of relevant job postings\n",
    "def refined(x):\n",
    "    x = x.lower()\n",
    "    if any(word in x for word in ['data scientist', 'statistician', 'big data']):\n",
    "        return 'data scientist'\n",
    "    elif any(word in x for word in ['analy']):\n",
    "        if 'data entry' in x:\n",
    "            return None\n",
    "        elif any(word in x for word in ['business', 'bi ', 'insights', 'customer', 'intelligence']):\n",
    "            return 'business analyst'\n",
    "        elif any(word in x for word in ['etl', 'data', 'implementation', 'reporting', 'model', 'quantitat']):\n",
    "            return 'data analyst'\n",
    "    elif 'business' in x:\n",
    "        return 'business analyst'\n",
    "    elif any(word in x for word in ['data engineer', 'data migration', 'data governance', 'data modeller']):\n",
    "        return 'data engineer'\n",
    "    else:\n",
    "        return None"
   ]
  },
  {
   "cell_type": "code",
   "execution_count": 19,
   "metadata": {},
   "outputs": [],
   "source": [
    "seek=seek.dropna(subset=['Title'])"
   ]
  },
  {
   "cell_type": "code",
   "execution_count": 20,
   "metadata": {},
   "outputs": [
    {
     "name": "stdout",
     "output_type": "stream",
     "text": [
      "Total jobs before filter: 2,884\n",
      "Total jobs after filter: 1,440\n",
      "\n",
      "Counts of Refined Jobs:\n",
      "------------------------\n",
      "business analyst    638\n",
      "data analyst        464\n",
      "data engineer       173\n",
      "data scientist      165\n",
      "Name: new_job_title, dtype: int64\n"
     ]
    }
   ],
   "source": [
    "# Filter out unrelated job postings\n",
    "print('Total jobs before filter: {:,}'.format(seek.shape[0]))\n",
    "seek['new_job_title'] = seek['Title'].map(refined)\n",
    "seek = seek[~seek['new_job_title'].isnull()].reset_index(drop=True)\n",
    "print('Total jobs after filter: {:,}'.format(seek.shape[0]))\n",
    "\n",
    "print('\\nCounts of Refined Jobs:')\n",
    "print('------------------------')\n",
    "print(seek['new_job_title'].value_counts())"
   ]
  },
  {
   "cell_type": "markdown",
   "metadata": {},
   "source": [
    "Hmm, jobs are filtered out"
   ]
  },
  {
   "cell_type": "code",
   "execution_count": 21,
   "metadata": {
    "scrolled": true
   },
   "outputs": [
    {
     "data": {
      "text/plain": [
       "160"
      ]
     },
     "execution_count": 21,
     "metadata": {},
     "output_type": "execute_result"
    }
   ],
   "source": [
    "#other way of combining keywords together for data scientist\n",
    "len(seek[seek['Title'].str.contains('Data Scientist') | seek['Title'].str.contains('Statistician') | seek['Title'].str.contains('Big Data')]['Title'])"
   ]
  },
  {
   "cell_type": "code",
   "execution_count": 22,
   "metadata": {},
   "outputs": [
    {
     "name": "stdout",
     "output_type": "stream",
     "text": [
      "Salary             908\n",
      "Area               415\n",
      "Work Type            3\n",
      "Strong Words         3\n",
      "Job Description      3\n",
      "Location             3\n",
      "JD                   3\n",
      "Salary Type          3\n",
      "Classification       3\n",
      "Advertiser           3\n",
      "Job Teaser           1\n",
      "Listing Date         0\n",
      "Link                 0\n",
      "Title                0\n",
      "new_job_title        0\n",
      "Expiry Date          0\n",
      "Job Title            0\n",
      "Location_few         0\n",
      "Salary Range         0\n",
      "dtype: int64\n"
     ]
    }
   ],
   "source": [
    "# Print nulls in the dataframe\n",
    "\n",
    "print (seek.isnull().sum().sort_values(ascending=False))"
   ]
  },
  {
   "cell_type": "code",
   "execution_count": 23,
   "metadata": {},
   "outputs": [
    {
     "data": {
      "text/plain": [
       "(1440, 19)"
      ]
     },
     "execution_count": 23,
     "metadata": {},
     "output_type": "execute_result"
    }
   ],
   "source": [
    "seek.shape"
   ]
  },
  {
   "cell_type": "markdown",
   "metadata": {},
   "source": [
    "Now I want to work on classification column and then will come to salary "
   ]
  },
  {
   "cell_type": "markdown",
   "metadata": {},
   "source": [
    "**Seek Classification of job industries**"
   ]
  },
  {
   "cell_type": "code",
   "execution_count": 24,
   "metadata": {},
   "outputs": [
    {
     "data": {
      "text/plain": [
       "Information & Communication Technology    981\n",
       "Banking & Financial Services               96\n",
       "Government & Defence                       57\n",
       "Science & Technology                       57\n",
       "Consulting & Strategy                      52\n",
       "Accounting                                 46\n",
       "Marketing & Communications                 28\n",
       "Mining, Resources & Energy                 20\n",
       "Education & Training                       19\n",
       "Sales                                      15\n",
       "Insurance & Superannuation                 13\n",
       "Human Resources & Recruitment               9\n",
       "Manufacturing, Transport & Logistics        8\n",
       "Administration & Office Support             6\n",
       "Engineering                                 6\n",
       "Community Services & Development            6\n",
       "Retail & Consumer Products                  5\n",
       "Advertising, Arts & Media                   3\n",
       "Legal                                       3\n",
       "Call Centre & Customer Service              3\n",
       "Healthcare & Medical                        2\n",
       "Real Estate & Property                      1\n",
       "Construction                                1\n",
       "Name: Classification, dtype: int64"
      ]
     },
     "execution_count": 24,
     "metadata": {},
     "output_type": "execute_result"
    }
   ],
   "source": [
    "seek['Classification'].value_counts()"
   ]
  },
  {
   "cell_type": "code",
   "execution_count": 25,
   "metadata": {},
   "outputs": [
    {
     "data": {
      "text/plain": [
       "information_technology    1039\n",
       "accounting_services        109\n",
       "science_technology         105\n",
       "other                       86\n",
       "govt_health                 65\n",
       "sales_marketing             33\n",
       "Name: new_category, dtype: int64"
      ]
     },
     "execution_count": 25,
     "metadata": {},
     "output_type": "execute_result"
    }
   ],
   "source": [
    "def industry (x):\n",
    "    if any (y in x for y in ['Information & Communication Technology', 'Consulting & Strategy', 'Engineering']):\n",
    "        return 'information_technology'\n",
    "    elif any (y in x for y in ['Science & Technology', 'Education & Training', 'Manufacturing, Transport & Logistics', 'Mining, Resources & Energy', 'Construction' ]):\n",
    "        return 'science_technology'\n",
    "    elif any (y in x for y in ['Banking & Financial Services',' Accounting', 'Insurance & Superannuation' ]):\n",
    "        return 'accounting_services'\n",
    "    elif any (y in x for y in ['Government & Defence', 'Community Services & Development', 'Healthcare & Medical']):\n",
    "        return 'govt_health'\n",
    "    elif any (y in x for y in ['Marketing & Communications',' Sales', 'Retail & Consumer Products']):\n",
    "        return 'sales_marketing'\n",
    "    else:\n",
    "        return 'other'\n",
    "    \n",
    "seek=seek.dropna(subset=['Classification'])\n",
    "seek['new_category'] = seek['Classification'].map(industry)\n",
    "seek['new_category'].value_counts()\n",
    "        "
   ]
  },
  {
   "cell_type": "markdown",
   "metadata": {},
   "source": [
    "**Extracting Experiences**"
   ]
  },
  {
   "cell_type": "markdown",
   "metadata": {},
   "source": [
    "Salaries generally based on experience. Unfortunately, with this data experience information is not present to extract the data. By using keywords of advertisement I will try to extract."
   ]
  },
  {
   "cell_type": "code",
   "execution_count": 26,
   "metadata": {},
   "outputs": [
    {
     "data": {
      "text/plain": [
       "2 Mid-Level    1169\n",
       "3 Senior        234\n",
       "1 Junior         34\n",
       "Name: exp_level, dtype: int64"
      ]
     },
     "execution_count": 26,
     "metadata": {},
     "output_type": "execute_result"
    }
   ],
   "source": [
    "# Extracting experience level from seek job site title\n",
    "def experience(x):\n",
    "    x = x.lower()\n",
    "    if any (y in x for y in ['junior', 'entry']):\n",
    "        return '1 Junior'\n",
    "    elif 'senior' in x:\n",
    "        return '3 Senior'\n",
    "    elif 'manager' in x or 'head' in x:\n",
    "        if 'to manager' not in x:\n",
    "            return '3 Senior'\n",
    "    else:\n",
    "        return '2 Mid-Level'\n",
    "\n",
    "seek['exp_level'] = seek['Title'].map(experience)\n",
    "seek['exp_level'].value_counts(dropna=False)"
   ]
  },
  {
   "cell_type": "markdown",
   "metadata": {},
   "source": [
    "The distribution is highly skewed towards Mid-Level jobs."
   ]
  },
  {
   "cell_type": "markdown",
   "metadata": {},
   "source": [
    "**Extracting Salary**"
   ]
  },
  {
   "cell_type": "code",
   "execution_count": 27,
   "metadata": {},
   "outputs": [
    {
     "data": {
      "text/plain": [
       "array(['$70000 - $80000 per annum', nan, 'Competitive',\n",
       "       '$55,000 - $80,000 plus super', '$75-90k + Super + Bonus',\n",
       "       '$55,000 - $59,999', 'Paxus Pays Weekly!',\n",
       "       'Salary commensurate with experience',\n",
       "       'Competitive salary on offer', 'package',\n",
       "       '$105,000 - $118,000 package',\n",
       "       '$106,000 - $111,000 pa + super + salary packaging',\n",
       "       'Enjoy flexible working and a Flexi Day on us!',\n",
       "       '$80,669 - $92,150 (plus super)', 'Base + super + incentive',\n",
       "       '$125k - $130k p.a.', '$125,000 - $130,000 p.a.',\n",
       "       '$100,226- $106,884 (G08) plus 17% superannuation',\n",
       "       'Your pathway to many career opportunities',\n",
       "       'Competitive salary and salary packaging benefits  ',\n",
       "       'Access to staff discounts & free onsite gym!',\n",
       "       '$100,000 - $130,000',\n",
       "       'Great Remuneration & Location + Organic Growth Opp',\n",
       "       'Up to $125K Base + Super + Bonis', ' + Bonus',\n",
       "       '$120k - $135k p.a. + bonus', 'Great company benefits!',\n",
       "       '$110k - $130k p.a.', '$120,000 - $139,999 plus super.',\n",
       "       'Salary packaging tax benefits available',\n",
       "       '$90-100k + Super + Bonus', '$85k - $110k package',\n",
       "       'Attractive Salary | Flexible On Experience | Bonus',\n",
       "       '$120000.00 - $140000.00 p.a. + plus super ',\n",
       "       'Attractive expatriate package', '$90-125k + Super + Bonus',\n",
       "       '$84,457 to $115,233 + Superannuation',\n",
       "       '$120,000 - $140,000 inclusive of Super',\n",
       "       'Base Salary: $86k-$92k p.a. plus superannuation',\n",
       "       'Great Package + Convenient Location + EndUser',\n",
       "       '$120k - $130k base + super + benefits', 'Data Driven Consultancy',\n",
       "       '$53 per hour + Super',\n",
       "       'Highly competitive remuneration and benefits',\n",
       "       'Paying up to $120,000 + super ', 'Super & Bonus',\n",
       "       '$110,000 - $129,999 plus super and lease car',\n",
       "       '$120000.00 - $140000.00 p.a. + Super & Bonus',\n",
       "       '$115,000 - 130,000 per year', '$120,000 Package',\n",
       "       '$125,000-$140,000', '$100,000 - $139,999',\n",
       "       'Competitive Daily Rate', '$50 - $55 p.h.',\n",
       "       '$120000.00 - $125000.00 per annum', '$80,000 - $100,00 + super',\n",
       "       '$120,000 + super + 10% bonus. OTE circa $150,000',\n",
       "       '$110000.00 - $120000.00 p.a. + Super',\n",
       "       'Up to $150K Base + Super + Bonus',\n",
       "       '$110000.00 - $120000.00 p.a. + plus super + bonus ',\n",
       "       '$90,000 to $100,000', '$100k - $120k p.a. + + Super (13%)',\n",
       "       '$ 99,809 - $133,202 per annum plus 17% super',\n",
       "       '$130000.00 - $150000.00 p.a.', '$120,000 - $160,000 + super',\n",
       "       '$110000.00 - $130000.00 p.a. + plus super ',\n",
       "       '$120000.00 - $130000.00 p.a. + plus super ',\n",
       "       'Permanent role - paying upto $115k + super + bonus',\n",
       "       '$110k - $145k p.a.', '$100K - $120K package per year',\n",
       "       '$100000 - $110000 per annum', '$97,812 - $116,013 per annum',\n",
       "       '$90000.00 - $110000.00 p.a.', 'Attractive package',\n",
       "       '$150k - $160k p.a. + + super ', '$130k - $180k p.a.',\n",
       "       'Up to $190,000 + super + 20% bonus', '$150k - $180k p.a.',\n",
       "       '$165k - $1750k p.a. + super ',\n",
       "       '$170,000 - $200,000 + Super + Bonus',\n",
       "       'Up to $160,000 + super + 20% bonus', 'Highly competative rate',\n",
       "       '$140000 - $170000.00 per annum', '$180k - $260k p.a.',\n",
       "       '$180000.00 - $200000.00 p.a. + plus super ',\n",
       "       'Excellent Daily Rates!', '$130,000 - $170,000 package',\n",
       "       'Competitive Salary + Bonus', '$90 - $100+ per hour',\n",
       "       '$150k - $200k p.a. + bonus/ profit share + super ',\n",
       "       '$160000.00 - $180000.00 p.a. + plus super ', '180000',\n",
       "       'competitive', '$130000.00 - $140000.00 p.a. + plus super ',\n",
       "       '$140k - $141k p.a.', '$600 - $742 Per Day (Inclusive)',\n",
       "       'Up to $950 per day', 'Base + Super + Bonus',\n",
       "       '$600 - $650 per day',\n",
       "       'Long term contract - 6 months + $800-900 per day',\n",
       "       'To be discussed on application',\n",
       "       '$130000.00 - $150000.00 p.a. + plus super ', '$1k - $1200 p.d.',\n",
       "       '$130k - $150k base plus super', '+great bonus + flex work',\n",
       "       'up to $850/day', '$150,000 - $160,000', '$700 - $900 per day',\n",
       "       '$185k-$200k package + bens', 'Competitive hourly rate',\n",
       "       '$650 - $700 p.d. + + Super', '$135k - $145k p.a. + super',\n",
       "       '$130k - $145k p.a. + super', '$600 - $900 per day ', '$180000',\n",
       "       '$150k - $175k p.a.', 'Competitive Rates', '$65,000 - $69,999',\n",
       "       '$60,000 - $70,000 + Superannuation',\n",
       "       '$71,878 - $84,451 per annum plus 17% super',\n",
       "       'Up to $130k p.a. + super + work flexi + equity ',\n",
       "       '$35 - $45 p.h. + Super', '$50,000 - $60,000 + super',\n",
       "       '$50,000 - $59,999', 'Up to $35.00 p.h. + Super',\n",
       "       '$100.k - $110.k p.a. + + employers contribution to', 'No',\n",
       "       'fantastic Location', '$55,000 - $65,000 + Superannuation', '  ',\n",
       "       '$50,983 - $61,245', '$70000.00 - $80000.00 p.a.',\n",
       "       '$75,000 - $80,000 + superannuation', '$50,000 - $54,999',\n",
       "       '$73,055 - $80,336 per annum', 'Up to $120k p.a. + super',\n",
       "       '$70,000 - $84,999 plus super', '$70 - $80 p.a.',\n",
       "       'Up to $775.20/day + super', '$73,824 - $91,534 plus super',\n",
       "       '$40 - $54.29 p.a.', '$65k to $78k incl super', '$800 - $900 p.a.',\n",
       "       '$70,000 - $74,999', '$70k - $80k p.a. + Super', '   ',\n",
       "       'Excellent Benefits', '$60,000 - $64,999 plus super',\n",
       "       '$70,000 - $80,000 + Super 12 Month Fixed Term',\n",
       "       '$700 - $900 p.a. + superannuation', 'circa. $80,000',\n",
       "       'Up to $110 p.h.', '70-90,000',\n",
       "       '$14200 - $1300k p.a. + plus super', '0',\n",
       "       '$45,000-$55,000 Plus Superannuation (Neg on Exp.)',\n",
       "       'Up to $700.00 p.d.', '$70,000 - $80,000', '$70,000 - $79,999',\n",
       "       '$40-$45 per hour', '$61,500 per annum plus super',\n",
       "       '75k base pro rata',\n",
       "       '$85K - $120K incl super, subject to experience',\n",
       "       '$140 - $150 p.a. + Superannuation ',\n",
       "       '$500 - $600 per annum, Long term contract with a',\n",
       "       'Attractive salary + employee benefits', 'Daily rate contract ',\n",
       "       '$70,000-$80,000 pkg + extra leave &great bens.',\n",
       "       '$150 - $900 p.d. + Superannuation ', '$75,000 - $80,000 + super',\n",
       "       '$69 - $93K + Super', '$700 - $750 per annum', '$700 - $750 p.a.',\n",
       "       '$70,000 - $85,000 + Career Mentoring + Training',\n",
       "       '$700 - $701800 p.a. + superannuation ', 'Up to £750.00 p.d.',\n",
       "       'Up to $882 p.d.', '$30 - $35.00 per hour inc super',\n",
       "       '$70,000 - $84,999', '$70k - $80k p.a.', '$82,125 Package',\n",
       "       'As per industry standards', 'Up to £900.00 p.d.',\n",
       "       '$500 p.d. + Super', '$70K Base + Super + Uncapped $100K OTE',\n",
       "       '$45,000 - $49,999', '$55 - $60 per hour plus super',\n",
       "       '$80000.00 - $85000.00 p.a. + Super', '$400 - $450 p.d.',\n",
       "       'Competitive salary package', '$55 - $60 p.h.',\n",
       "       '$115000.0 - $125000.0 p.a. + Super', '$400 - $430 per day',\n",
       "       '$55 - $65 p.h. + Super', '12 month Fixed Term Contract',\n",
       "       '$53 per hour plus super',\n",
       "       '$125,000-$130,000 base salary plus super',\n",
       "       '$100000.00 - $120k p.a.', '$110000 - $120000 per annum',\n",
       "       'Fresh fruit delivered and work-life balance!',\n",
       "       'Generous Remuneration + Amazing Benefits',\n",
       "       'Your pathway to multiple career opportunities',\n",
       "       'Excellent salary on offer! ', '$500.00 - $650 p.d.',\n",
       "       'Attractive Package',\n",
       "       'Transport Service Grade 7 ($101,429 - $113,601)',\n",
       "       '$400 - $450 p.d. + Super', 'Cash + Super', '$106,043 - $114,146',\n",
       "       'Excellent Employee Benefits!',\n",
       "       'Package $101K-$109K p.a. including superannuation',\n",
       "       '$113,735 - $129,658 per annum plus superannuation',\n",
       "       '$100k - $120k p.a. + super', '$80000.00 - $110000.00 p.a.',\n",
       "       'Up to $130,000 + Super and 20% Bonus', '$110,000 to $120,000',\n",
       "       'Competitive salary + bonus + gym onsite',\n",
       "       '$77k to $83k + 17% super + 17.5% leave loading', 'Market Rates',\n",
       "       'Attractive Salary Package ', '$84,257 - $96,430',\n",
       "       'Competitive remuneration package', '$115k package',\n",
       "       '$90k - $100k p.a.', '$550 inc super. No local exp necessary!',\n",
       "       '$350 - $500 per day + long term contract 10 months',\n",
       "       '$90k - $100k p.a. + super',\n",
       "       '$400 - $700 p.d. + attractive package', '$55 - $60/hour + super',\n",
       "       '$100K + super', '$76,102 to $81,641',\n",
       "       '$51.50 per hour, plus 9.5% superannuation', '$110k - $120k p.a.',\n",
       "       'plus super + bonus ', '$51.50 Hourly + Super',\n",
       "       'Competitive salary + bonus + benefits', 'Open to negotiation',\n",
       "       '$80,000 - $90,000 + 9.5% Super',\n",
       "       '$84,457 – $93,365 plus superannuation',\n",
       "       'Level 6, $100,966 - $111,590 pa, PSGOCSAGA 2017',\n",
       "       '$100k - $110k p.a. + super',\n",
       "       '$80,756 - $92,957 per annum plus superannuation',\n",
       "       '$90,000 - $119,999', '$60 per hour ',\n",
       "       'Competitive Remuneration Package',\n",
       "       'Great staff benefits | Agile working culture',\n",
       "       '$120000.00 - $135000 per annum',\n",
       "       'Competitive base + 12 % super + leave loading',\n",
       "       'Paying up to $110k Base + Super + Parking',\n",
       "       '$51.50 per hour plus super',\n",
       "       '$90,000 - $100,000 plus superannuation',\n",
       "       '$115,368 - $119,402 p.a. pro rata',\n",
       "       '$100000.0 - $120000.0 p.a. + Super', '$100K - $130K p.a.',\n",
       "       '$650+Super p/d', '$500.00 - $600.00 + super / day',\n",
       "       'Attractive salary package + shares + incentives',\n",
       "       '$120000 per annum', '$120k - $140k p.a.',\n",
       "       'Contact Terry Chandramun', '$100 000 - $120 000 + Super',\n",
       "       '$90,000 - 100,000 + super', '$110000.00 - $120450.00 p.a.',\n",
       "       '$55 - $60 p.h + super', '$450 - $460 per day',\n",
       "       '$80,000 - $110,000 + Super (subject to experience)',\n",
       "       '$100,000 - $109,999', '$90k - $110k package', '$85,386- $96,103',\n",
       "       'negotiable ', '450 - 500 + Super', '$80,000 - $100,000',\n",
       "       '$90k+ to $120+ super depending on experience', '$600 per day',\n",
       "       '$125k - $135k p.a.', '$88,523 - $92,957 per annum plus 17% super',\n",
       "       'Competitive hourly rate**', '$120 -130k', '$120-140K',\n",
       "       '$419 per day + super', 'Hourly rate contract | No agency fees',\n",
       "       '$80000.00 - $110000.00 p.a. + super', '$130 k package',\n",
       "       '$40 per hour', '$80k - $100k p.a.', '$600 - $800 / Day',\n",
       "       '$80,000 - $89,999', '$75k - $100k + super', 'Up to $110k pack',\n",
       "       '$100k to $160k', '$50.00 - $60.00 p.h. + + Super ',\n",
       "       '$110 - 130K + Super + Parking',\n",
       "       '$450 - $480 p.d. + AUD 450-480/d incl super ', 'Up to $0.00 p.a.',\n",
       "       '$95,000 - $119,999', '$100,000 - $120,000',\n",
       "       '$600-$700 per day inc super',\n",
       "       '+ 5 Weeks Annual Leave + Company Bonus',\n",
       "       '$80000 - $130000 per annum', '$90,000 - $100,000',\n",
       "       '$100k - $120k p.a.', '$130k package', 'Up to $720 P/D inclusive',\n",
       "       '$85 - $100+ per hour', 'Competative rate',\n",
       "       '$700 - $800 p.d. + Attractive Daily Rate', '$700 Per day',\n",
       "       '$130,000 - $150,000', '$115 - $135 (Inc. Super) per hour ',\n",
       "       'Open Day Rates', '$ market rate', 'Competitive day rate',\n",
       "       '$600 - $620 p.d. + Super', '800.00 p/d inc. super.',\n",
       "       '$600 - $800 + Super', '6 month FTC pro rata $150,000 inc super ',\n",
       "       '$140k - $170k p.a.', '12 month contract | 40 hours per week',\n",
       "       '$700 - $1k p.d. + Competitive Daily Rate', '$75 p/h + super',\n",
       "       '$450 - $1,200 Per Day', '$620.00 + super / day',\n",
       "       'Attractive Daily Rate', '$130k - $150k p.a.',\n",
       "       '$550.00 - $620.00 p.d. + Super', 'Up to $750 per day',\n",
       "       '$70 - $75 p.h.', '$500 - $800 per day',\n",
       "       '$700 - $800 p.d. + Super', '$650.00 - $750.00 p.d. + Super',\n",
       "       'Up to $650 p.d. + Super', '$600.00 - $700.00 p.d. + Super',\n",
       "       '$800/day', 'Attractive day rate', '$700 - $800 p.d. + Super ',\n",
       "       'Up to $900 + Super per day ', '$800 per day + super',\n",
       "       'Daily rate of upto $650+ s depending on experience',\n",
       "       '$800 - $900 p.h.', '$70 - $75 per hour + Plus Super ',\n",
       "       'Darwin based role', '$600-650 per day', 'Up to $800 p.d.',\n",
       "       'Rate commensurate with experience ', '$ competitive',\n",
       "       '$646 - $775.20 p.d. + Super', '$600 - $700 p.d.',\n",
       "       'up to $1,000 per day', 'Up to $1,000 pe day',\n",
       "       '$130k - $140k p.a. + super + 10% bonus', '$680 - $820 p.h.',\n",
       "       '$700 - $1200 p.d. + attractive package', '$700-$800+Super',\n",
       "       '$130K + Super to $140K + Super | North Sydney ',\n",
       "       '$800 - $900 p.d.', 'Day rate contract | No agency admin fees',\n",
       "       '$750 - $900 p.d.', 'No agency fees', '$130k - $150k p.a. + bonus',\n",
       "       '$646 - $850 per day', 'Great Daily Rate ',\n",
       "       '$800 per day + Super.', '$ negotiable daily rate',\n",
       "       'Up to $750 p.d. + plus super', '$750.00 p/d',\n",
       "       'competitive rates!', 'Attractive Hourly Rate',\n",
       "       '$700 - $750 p.d. + super', '$160k-$180k + negotiable',\n",
       "       'Top $$ for deserving candidate', '$700 - $750 per day',\n",
       "       '130 - 140k + Super + Bonus', '$Neg', '$750 - $751 p.d.',\n",
       "       '$140,000 + Super + Bonus', '+ Bonus',\n",
       "       '$100 - $115 (Inc. Super) per hour ',\n",
       "       '$650 - $775.20 p.d. + Super', 'Contract until June 2020',\n",
       "       '$700.00 - $800.00 p.d. + Super', '17.5% Leave Loading',\n",
       "       '$700 - $800 p.d.', '$120,000 - $129,999',\n",
       "       '$80 - $90 p.h. + Super', '$550 Day Rate ', '$650 per day',\n",
       "       '12 month contract', '-', '$700 - $800 p.d. + .', '$120,000',\n",
       "       '$130k - $140k p.a. + (Including Super)',\n",
       "       '$115k - $135k p.a. + super', '$700 - $800 per day inc super.',\n",
       "       '$110,000 - $140,000 plus superannuation', 'Onsite parking',\n",
       "       '$600 pd', '$750 - $800 p.d.', '$NEG - All fees disclosed',\n",
       "       '$120,000 - $149,999 base plus commission',\n",
       "       '$110,000 - $140,000 + Bonus', '$645 - $770 p.d. + Super',\n",
       "       '$750 - $800 pd', '$130k base - $140k base plus super',\n",
       "       '$700 - $1200 p.d.', 'Open to Rate', 'Circa $150k + Super + Bonus',\n",
       "       '$NEG - All agent client fees disclosed', '$140K APX NEG',\n",
       "       '$900inc super', '$100 - $112 (Inc. Super) per hour',\n",
       "       '$110000.00 - $120000.00 per annum',\n",
       "       'up to $750 inc super per day', 'Competitive daily rate',\n",
       "       '$700 - $750 p.d. + Inclusive of Super', 'Competitive pay rate',\n",
       "       'Super', '$160K APX', '$130K+', '$500 - $550 p.d. + Super',\n",
       "       '$700 - $900 p.d. + plus super', 'Bonus',\n",
       "       '$110,000 - $120,000 + super ', '800 - 900',\n",
       "       '$700 - $775 p.d. + Super ', '$120,000 - $179,999',\n",
       "       '$120-$150k package available', '$120,692 - $161,511'],\n",
       "      dtype=object)"
      ]
     },
     "execution_count": 27,
     "metadata": {},
     "output_type": "execute_result"
    }
   ],
   "source": [
    "seek['Salary'].unique()"
   ]
  },
  {
   "cell_type": "markdown",
   "metadata": {},
   "source": [
    "As you can see salary shown in seek website is not uniform. Some are in range, day, k, per hour... etc.\n",
    "\n",
    "Looking through the job advertisements, I can make some observations as below:\n",
    "\n",
    "Salaries are mentioned either in the 'Salary' section, 'Job Title' or 'Job Description' section. For this I will search through all profile of job and extract the salary. I will use a keyword search to extract this detail as a separate feature. Moreover, using this information I will convert all salaries to annual for comparative and prediction purpose."
   ]
  },
  {
   "cell_type": "code",
   "execution_count": 28,
   "metadata": {},
   "outputs": [],
   "source": [
    "def get_sal(txt, gets=None):  # Give 'sal_type' to get salary type\n",
    "\n",
    "    if isinstance(txt,str):\n",
    "        # Get Pay Type\n",
    "        if any(word in txt for word in ['/day', '/ day', 'p/d', 'pd', 'p.d', 'daily', 'per day']):\n",
    "            pay_type = 'day'\n",
    "        elif any(word in txt for word in ['week', 'p.w', 'p/w']):\n",
    "            pay_type = 'week'\n",
    "        elif any(word in txt for word in ['ph ','p.h', 'p/h', 'h/r', 'per hour']):\n",
    "            pay_type = 'hour'\n",
    "        else:\n",
    "            pay_type = 'year'\n",
    "\n",
    "        # Replace symbols & keywords\n",
    "        txt = txt.replace(',', '')\n",
    "        for kw in ['000k', '000k+', 'k ', 'k+']:\n",
    "            txt = txt.lower().replace(kw, '000 ') \n",
    "            \n",
    "        for kw in ['-','(',')', '$', '/']:\n",
    "            txt = txt.replace(kw, ' ')\n",
    "            \n",
    "        numbers = []\n",
    "        pay_dict = {'hour': 8*260, 'day': 260, 'week': 52, 'year': 1}\n",
    "\n",
    "        for w in txt.split():\n",
    "            try:\n",
    "                sal = float(w)\n",
    "                numbers.append(sal * pay_dict[pay_type])\n",
    "            except:\n",
    "                continue\n",
    "\n",
    "        if len(numbers) > 0:\n",
    "            if max(numbers) > 30000 and max(numbers) < 300000:\n",
    "                if gets=='sal_type':\n",
    "                    return pay_type\n",
    "                else:\n",
    "                    return max(numbers)\n",
    "        else:\n",
    "            return None"
   ]
  },
  {
   "cell_type": "code",
   "execution_count": 29,
   "metadata": {},
   "outputs": [],
   "source": [
    "# Fill null values with 'na' to be able to run function\n",
    "seek['salary'] = seek['Salary'].map(lambda x: 'na' if pd.isnull(x) else x) \n",
    "\n",
    "# Extract Salary from Salary / Title / Description columns\n",
    "seek['salary_from_salary'] = seek['Salary'].map(lambda x: get_sal(x)).astype(float)\n",
    "seek['salary_from_title'] = seek['Title'].map(lambda x: get_sal(x))\n",
    "seek['salary_from_desc'] = seek['Job Description'].map(lambda x: get_sal(x))\n",
    "seek['final_salary'] = seek[['salary_from_salary', 'salary_from_title', 'salary_from_desc']].max(axis=1)\n",
    "\n",
    "# Extract Salary Type from Salary / Title / Description columns\n",
    "seek['sal_type1'] = seek['Salary'].map(lambda x: get_sal(x, gets='sal_type'))\n",
    "seek['sal_type2'] = seek['Title'].map(lambda x: get_sal(x, gets='sal_type'))\n",
    "seek['sal_type3'] = seek['Job Description'].map(lambda x: get_sal(x, gets='sal_type'))\n",
    "\n",
    "#Merge Salary type from the above three columns\n",
    "sal_types = []\n",
    "for tup in seek[['sal_type1', 'sal_type2', 'sal_type3']].itertuples():\n",
    "    found = 0\n",
    "    for typ in [tup.sal_type1, tup.sal_type2 ,tup.sal_type3]:\n",
    "        if typ!=None and found==0:\n",
    "            sal_types.append(typ)\n",
    "            found += 1\n",
    "    if found==0:\n",
    "         sal_types.append(None)\n",
    "        \n",
    "seek['salary_type'] = sal_types\n",
    "\n",
    "# # Drop all extra created columns\n",
    "seek = seek.drop(['salary_from_salary', 'salary_from_title', 'salary_from_desc', \n",
    "                                    'sal_type1', 'sal_type2', 'sal_type3'], axis=1)"
   ]
  },
  {
   "cell_type": "code",
   "execution_count": 30,
   "metadata": {},
   "outputs": [
    {
     "data": {
      "text/plain": [
       "Index(['Salary Range', 'Link', 'Title', 'Listing Date', 'Expiry Date',\n",
       "       'Job Title', 'Job Teaser', 'Advertiser', 'Area', 'Work Type',\n",
       "       'Classification', 'Salary', 'Salary Type', 'JD', 'Location',\n",
       "       'Job Description', 'Strong Words', 'Location_few', 'new_job_title',\n",
       "       'new_category', 'exp_level', 'salary', 'final_salary', 'salary_type'],\n",
       "      dtype='object')"
      ]
     },
     "execution_count": 30,
     "metadata": {},
     "output_type": "execute_result"
    }
   ],
   "source": [
    "seek.columns"
   ]
  },
  {
   "cell_type": "code",
   "execution_count": 31,
   "metadata": {},
   "outputs": [
    {
     "data": {
      "text/plain": [
       "count       468.000000\n",
       "mean     139884.019231\n",
       "std       62369.352929\n",
       "min       35000.000000\n",
       "25%       93600.000000\n",
       "50%      125000.000000\n",
       "75%      180000.000000\n",
       "max      297508.000000\n",
       "Name: final_salary, dtype: float64"
      ]
     },
     "execution_count": 31,
     "metadata": {},
     "output_type": "execute_result"
    }
   ],
   "source": [
    "seek.final_salary.describe()"
   ]
  },
  {
   "cell_type": "code",
   "execution_count": 32,
   "metadata": {},
   "outputs": [],
   "source": [
    "\n",
    "salary_medians = seek.groupby('new_category')['final_salary'].median()\n",
    "final_salary_nona = seek.set_index('new_category')['final_salary']\\\n",
    "                        .fillna(value=salary_medians)\n",
    "seek['final_salary_nona']=final_salary_nona.reset_index(drop=True)"
   ]
  },
  {
   "cell_type": "code",
   "execution_count": 33,
   "metadata": {},
   "outputs": [
    {
     "data": {
      "text/html": [
       "<div>\n",
       "<style scoped>\n",
       "    .dataframe tbody tr th:only-of-type {\n",
       "        vertical-align: middle;\n",
       "    }\n",
       "\n",
       "    .dataframe tbody tr th {\n",
       "        vertical-align: top;\n",
       "    }\n",
       "\n",
       "    .dataframe thead th {\n",
       "        text-align: right;\n",
       "    }\n",
       "</style>\n",
       "<table border=\"1\" class=\"dataframe\">\n",
       "  <thead>\n",
       "    <tr style=\"text-align: right;\">\n",
       "      <th></th>\n",
       "      <th>final_salary</th>\n",
       "    </tr>\n",
       "    <tr>\n",
       "      <th>new_category</th>\n",
       "      <th></th>\n",
       "    </tr>\n",
       "  </thead>\n",
       "  <tbody>\n",
       "    <tr>\n",
       "      <th>accounting_services</th>\n",
       "      <td>32</td>\n",
       "    </tr>\n",
       "    <tr>\n",
       "      <th>govt_health</th>\n",
       "      <td>33</td>\n",
       "    </tr>\n",
       "    <tr>\n",
       "      <th>information_technology</th>\n",
       "      <td>316</td>\n",
       "    </tr>\n",
       "    <tr>\n",
       "      <th>other</th>\n",
       "      <td>37</td>\n",
       "    </tr>\n",
       "    <tr>\n",
       "      <th>sales_marketing</th>\n",
       "      <td>10</td>\n",
       "    </tr>\n",
       "    <tr>\n",
       "      <th>science_technology</th>\n",
       "      <td>40</td>\n",
       "    </tr>\n",
       "  </tbody>\n",
       "</table>\n",
       "</div>"
      ],
      "text/plain": [
       "                        final_salary\n",
       "new_category                        \n",
       "accounting_services               32\n",
       "govt_health                       33\n",
       "information_technology           316\n",
       "other                             37\n",
       "sales_marketing                   10\n",
       "science_technology                40"
      ]
     },
     "execution_count": 33,
     "metadata": {},
     "output_type": "execute_result"
    }
   ],
   "source": [
    "seek[['final_salary', 'new_category']].groupby('new_category').count()"
   ]
  },
  {
   "cell_type": "code",
   "execution_count": 34,
   "metadata": {},
   "outputs": [],
   "source": [
    "data_missing = seek[seek['final_salary_nona'].isnull()][['Location_few', 'new_job_title', 'exp_level', 'new_category',\n",
    "                                              'final_salary_nona', 'salary_type']]\n"
   ]
  },
  {
   "cell_type": "code",
   "execution_count": 35,
   "metadata": {},
   "outputs": [
    {
     "data": {
      "text/html": [
       "<div>\n",
       "<style scoped>\n",
       "    .dataframe tbody tr th:only-of-type {\n",
       "        vertical-align: middle;\n",
       "    }\n",
       "\n",
       "    .dataframe tbody tr th {\n",
       "        vertical-align: top;\n",
       "    }\n",
       "\n",
       "    .dataframe thead th {\n",
       "        text-align: right;\n",
       "    }\n",
       "</style>\n",
       "<table border=\"1\" class=\"dataframe\">\n",
       "  <thead>\n",
       "    <tr style=\"text-align: right;\">\n",
       "      <th></th>\n",
       "      <th>Location_few</th>\n",
       "      <th>new_job_title</th>\n",
       "      <th>exp_level</th>\n",
       "      <th>new_category</th>\n",
       "      <th>final_salary_nona</th>\n",
       "      <th>salary_type</th>\n",
       "    </tr>\n",
       "  </thead>\n",
       "  <tbody>\n",
       "    <tr>\n",
       "      <th>1437</th>\n",
       "      <td>Sydney</td>\n",
       "      <td>business analyst</td>\n",
       "      <td>2 Mid-Level</td>\n",
       "      <td>accounting_services</td>\n",
       "      <td>NaN</td>\n",
       "      <td>None</td>\n",
       "    </tr>\n",
       "    <tr>\n",
       "      <th>1438</th>\n",
       "      <td>other</td>\n",
       "      <td>business analyst</td>\n",
       "      <td>2 Mid-Level</td>\n",
       "      <td>information_technology</td>\n",
       "      <td>NaN</td>\n",
       "      <td>None</td>\n",
       "    </tr>\n",
       "    <tr>\n",
       "      <th>1439</th>\n",
       "      <td>other</td>\n",
       "      <td>business analyst</td>\n",
       "      <td>2 Mid-Level</td>\n",
       "      <td>information_technology</td>\n",
       "      <td>NaN</td>\n",
       "      <td>None</td>\n",
       "    </tr>\n",
       "  </tbody>\n",
       "</table>\n",
       "</div>"
      ],
      "text/plain": [
       "     Location_few     new_job_title    exp_level            new_category  \\\n",
       "1437       Sydney  business analyst  2 Mid-Level     accounting_services   \n",
       "1438        other  business analyst  2 Mid-Level  information_technology   \n",
       "1439        other  business analyst  2 Mid-Level  information_technology   \n",
       "\n",
       "      final_salary_nona salary_type  \n",
       "1437                NaN        None  \n",
       "1438                NaN        None  \n",
       "1439                NaN        None  "
      ]
     },
     "execution_count": 35,
     "metadata": {},
     "output_type": "execute_result"
    }
   ],
   "source": [
    "data_missing"
   ]
  },
  {
   "cell_type": "code",
   "execution_count": 36,
   "metadata": {},
   "outputs": [],
   "source": [
    "seek.dropna(axis=0, how='all', inplace=True)"
   ]
  },
  {
   "cell_type": "code",
   "execution_count": 37,
   "metadata": {},
   "outputs": [
    {
     "data": {
      "text/html": [
       "<div>\n",
       "<style scoped>\n",
       "    .dataframe tbody tr th:only-of-type {\n",
       "        vertical-align: middle;\n",
       "    }\n",
       "\n",
       "    .dataframe tbody tr th {\n",
       "        vertical-align: top;\n",
       "    }\n",
       "\n",
       "    .dataframe thead th {\n",
       "        text-align: right;\n",
       "    }\n",
       "</style>\n",
       "<table border=\"1\" class=\"dataframe\">\n",
       "  <thead>\n",
       "    <tr style=\"text-align: right;\">\n",
       "      <th></th>\n",
       "      <th>Location_few</th>\n",
       "      <th>new_job_title</th>\n",
       "      <th>exp_level</th>\n",
       "      <th>new_category</th>\n",
       "      <th>final_salary_nona</th>\n",
       "      <th>salary_type</th>\n",
       "    </tr>\n",
       "  </thead>\n",
       "  <tbody>\n",
       "    <tr>\n",
       "      <th>1437</th>\n",
       "      <td>Sydney</td>\n",
       "      <td>business analyst</td>\n",
       "      <td>2 Mid-Level</td>\n",
       "      <td>accounting_services</td>\n",
       "      <td>NaN</td>\n",
       "      <td>None</td>\n",
       "    </tr>\n",
       "    <tr>\n",
       "      <th>1438</th>\n",
       "      <td>other</td>\n",
       "      <td>business analyst</td>\n",
       "      <td>2 Mid-Level</td>\n",
       "      <td>information_technology</td>\n",
       "      <td>NaN</td>\n",
       "      <td>None</td>\n",
       "    </tr>\n",
       "    <tr>\n",
       "      <th>1439</th>\n",
       "      <td>other</td>\n",
       "      <td>business analyst</td>\n",
       "      <td>2 Mid-Level</td>\n",
       "      <td>information_technology</td>\n",
       "      <td>NaN</td>\n",
       "      <td>None</td>\n",
       "    </tr>\n",
       "  </tbody>\n",
       "</table>\n",
       "</div>"
      ],
      "text/plain": [
       "     Location_few     new_job_title    exp_level            new_category  \\\n",
       "1437       Sydney  business analyst  2 Mid-Level     accounting_services   \n",
       "1438        other  business analyst  2 Mid-Level  information_technology   \n",
       "1439        other  business analyst  2 Mid-Level  information_technology   \n",
       "\n",
       "      final_salary_nona salary_type  \n",
       "1437                NaN        None  \n",
       "1438                NaN        None  \n",
       "1439                NaN        None  "
      ]
     },
     "execution_count": 37,
     "metadata": {},
     "output_type": "execute_result"
    }
   ],
   "source": [
    "data_missing"
   ]
  },
  {
   "cell_type": "code",
   "execution_count": 38,
   "metadata": {},
   "outputs": [
    {
     "data": {
      "text/html": [
       "<div>\n",
       "<style scoped>\n",
       "    .dataframe tbody tr th:only-of-type {\n",
       "        vertical-align: middle;\n",
       "    }\n",
       "\n",
       "    .dataframe tbody tr th {\n",
       "        vertical-align: top;\n",
       "    }\n",
       "\n",
       "    .dataframe thead th {\n",
       "        text-align: right;\n",
       "    }\n",
       "</style>\n",
       "<table border=\"1\" class=\"dataframe\">\n",
       "  <thead>\n",
       "    <tr style=\"text-align: right;\">\n",
       "      <th></th>\n",
       "      <th>Salary Range</th>\n",
       "      <th>Link</th>\n",
       "      <th>Title</th>\n",
       "      <th>Listing Date</th>\n",
       "      <th>Expiry Date</th>\n",
       "      <th>Job Title</th>\n",
       "      <th>Job Teaser</th>\n",
       "      <th>Advertiser</th>\n",
       "      <th>Area</th>\n",
       "      <th>Work Type</th>\n",
       "      <th>...</th>\n",
       "      <th>Job Description</th>\n",
       "      <th>Strong Words</th>\n",
       "      <th>Location_few</th>\n",
       "      <th>new_job_title</th>\n",
       "      <th>new_category</th>\n",
       "      <th>exp_level</th>\n",
       "      <th>salary</th>\n",
       "      <th>final_salary</th>\n",
       "      <th>salary_type</th>\n",
       "      <th>final_salary_nona</th>\n",
       "    </tr>\n",
       "  </thead>\n",
       "  <tbody>\n",
       "    <tr>\n",
       "      <th>0</th>\n",
       "      <td>0-70000</td>\n",
       "      <td>https://www.seek.com.au/job/40345298</td>\n",
       "      <td>Junior Data Scientist</td>\n",
       "      <td>2019-11-08T01:16:08.000Z</td>\n",
       "      <td>2019-12-08T12:59:59.000Z</td>\n",
       "      <td>Junior Data Scientist</td>\n",
       "      <td>JUNIOR DATA SCIENTIST | SYDNEY CBD | OPPORTUNI...</td>\n",
       "      <td>Opus Recruitment Solutions</td>\n",
       "      <td>NaN</td>\n",
       "      <td>Full Time</td>\n",
       "      <td>...</td>\n",
       "      <td>JUNIOR DATA SCIENTIST | SYDNEY CBD | OPPORTUNI...</td>\n",
       "      <td>['JUNIOR DATA SCIENTIST | SYDNEY CBD | OPPORTU...</td>\n",
       "      <td>Sydney</td>\n",
       "      <td>data scientist</td>\n",
       "      <td>information_technology</td>\n",
       "      <td>1 Junior</td>\n",
       "      <td>$70000 - $80000 per annum</td>\n",
       "      <td>80000.0</td>\n",
       "      <td>year</td>\n",
       "      <td>80000.0</td>\n",
       "    </tr>\n",
       "    <tr>\n",
       "      <th>1</th>\n",
       "      <td>0-70000</td>\n",
       "      <td>https://www.seek.com.au/job/40369561</td>\n",
       "      <td>Quantitative Analyst / Data Scientist</td>\n",
       "      <td>2019-11-12T02:46:05.000Z</td>\n",
       "      <td>2019-12-12T12:59:59.000Z</td>\n",
       "      <td>Quantitative Analyst / Data Scientist</td>\n",
       "      <td>Exciting opportunity for an experienced Data S...</td>\n",
       "      <td>Ethos BeathChapman</td>\n",
       "      <td>CBD, Inner West &amp; Eastern Suburbs</td>\n",
       "      <td>Full Time</td>\n",
       "      <td>...</td>\n",
       "      <td>Data Scientist – Investment ManagementAre you ...</td>\n",
       "      <td>['Data Scientist – Investment Management', 'Re...</td>\n",
       "      <td>Sydney</td>\n",
       "      <td>data scientist</td>\n",
       "      <td>accounting_services</td>\n",
       "      <td>2 Mid-Level</td>\n",
       "      <td>na</td>\n",
       "      <td>NaN</td>\n",
       "      <td>None</td>\n",
       "      <td>115000.0</td>\n",
       "    </tr>\n",
       "    <tr>\n",
       "      <th>2</th>\n",
       "      <td>0-70000</td>\n",
       "      <td>https://www.seek.com.au/job/40285384</td>\n",
       "      <td>Data Scientist</td>\n",
       "      <td>2019-10-31T00:31:30.000Z</td>\n",
       "      <td>2019-11-30T12:59:59.000Z</td>\n",
       "      <td>Data Scientist</td>\n",
       "      <td>Conduct innovative research by utilising state...</td>\n",
       "      <td>Swinburne University of Technology</td>\n",
       "      <td>CBD &amp; Inner Suburbs</td>\n",
       "      <td>Full Time</td>\n",
       "      <td>...</td>\n",
       "      <td>About the JobIn this exciting role, you could ...</td>\n",
       "      <td>['About the Job', 'About Swinburne University ...</td>\n",
       "      <td>Melbourne</td>\n",
       "      <td>data scientist</td>\n",
       "      <td>science_technology</td>\n",
       "      <td>2 Mid-Level</td>\n",
       "      <td>na</td>\n",
       "      <td>54000.0</td>\n",
       "      <td>year</td>\n",
       "      <td>54000.0</td>\n",
       "    </tr>\n",
       "    <tr>\n",
       "      <th>3</th>\n",
       "      <td>0-70000</td>\n",
       "      <td>https://www.seek.com.au/job/40285385</td>\n",
       "      <td>Data Scientist</td>\n",
       "      <td>2019-10-31T00:31:30.000Z</td>\n",
       "      <td>2019-11-30T12:59:59.000Z</td>\n",
       "      <td>Data Scientist</td>\n",
       "      <td>Conduct innovative research by utilising state...</td>\n",
       "      <td>Swinburne University of Technology</td>\n",
       "      <td>CBD &amp; Inner Suburbs</td>\n",
       "      <td>Full Time</td>\n",
       "      <td>...</td>\n",
       "      <td>About the JobIn this exciting role, you could ...</td>\n",
       "      <td>['About the Job', 'About Swinburne University ...</td>\n",
       "      <td>Melbourne</td>\n",
       "      <td>data scientist</td>\n",
       "      <td>science_technology</td>\n",
       "      <td>2 Mid-Level</td>\n",
       "      <td>na</td>\n",
       "      <td>54000.0</td>\n",
       "      <td>year</td>\n",
       "      <td>54000.0</td>\n",
       "    </tr>\n",
       "    <tr>\n",
       "      <th>4</th>\n",
       "      <td>0-70000</td>\n",
       "      <td>https://www.seek.com.au/job/40241958</td>\n",
       "      <td>Data Scientist</td>\n",
       "      <td>2019-10-24T15:25:27.000Z</td>\n",
       "      <td>2019-11-24T12:59:59.000Z</td>\n",
       "      <td>Data Scientist</td>\n",
       "      <td>Data Scientist Role with Deloitte Consulting  ...</td>\n",
       "      <td>Deloitte</td>\n",
       "      <td>CBD &amp; Inner Suburbs</td>\n",
       "      <td>Full Time</td>\n",
       "      <td>...</td>\n",
       "      <td>Salary packaging - to suit your personal and f...</td>\n",
       "      <td>['About the team', '', 'What will your typical...</td>\n",
       "      <td>Melbourne</td>\n",
       "      <td>data scientist</td>\n",
       "      <td>information_technology</td>\n",
       "      <td>2 Mid-Level</td>\n",
       "      <td>na</td>\n",
       "      <td>NaN</td>\n",
       "      <td>None</td>\n",
       "      <td>140000.0</td>\n",
       "    </tr>\n",
       "  </tbody>\n",
       "</table>\n",
       "<p>5 rows × 25 columns</p>\n",
       "</div>"
      ],
      "text/plain": [
       "  Salary Range                                  Link  \\\n",
       "0      0-70000  https://www.seek.com.au/job/40345298   \n",
       "1      0-70000  https://www.seek.com.au/job/40369561   \n",
       "2      0-70000  https://www.seek.com.au/job/40285384   \n",
       "3      0-70000  https://www.seek.com.au/job/40285385   \n",
       "4      0-70000  https://www.seek.com.au/job/40241958   \n",
       "\n",
       "                                   Title              Listing Date  \\\n",
       "0                  Junior Data Scientist  2019-11-08T01:16:08.000Z   \n",
       "1  Quantitative Analyst / Data Scientist  2019-11-12T02:46:05.000Z   \n",
       "2                         Data Scientist  2019-10-31T00:31:30.000Z   \n",
       "3                         Data Scientist  2019-10-31T00:31:30.000Z   \n",
       "4                         Data Scientist  2019-10-24T15:25:27.000Z   \n",
       "\n",
       "                Expiry Date                              Job Title  \\\n",
       "0  2019-12-08T12:59:59.000Z                  Junior Data Scientist   \n",
       "1  2019-12-12T12:59:59.000Z  Quantitative Analyst / Data Scientist   \n",
       "2  2019-11-30T12:59:59.000Z                         Data Scientist   \n",
       "3  2019-11-30T12:59:59.000Z                         Data Scientist   \n",
       "4  2019-11-24T12:59:59.000Z                        Data Scientist    \n",
       "\n",
       "                                          Job Teaser  \\\n",
       "0  JUNIOR DATA SCIENTIST | SYDNEY CBD | OPPORTUNI...   \n",
       "1  Exciting opportunity for an experienced Data S...   \n",
       "2  Conduct innovative research by utilising state...   \n",
       "3  Conduct innovative research by utilising state...   \n",
       "4  Data Scientist Role with Deloitte Consulting  ...   \n",
       "\n",
       "                           Advertiser                               Area  \\\n",
       "0          Opus Recruitment Solutions                                NaN   \n",
       "1                  Ethos BeathChapman  CBD, Inner West & Eastern Suburbs   \n",
       "2  Swinburne University of Technology                CBD & Inner Suburbs   \n",
       "3  Swinburne University of Technology                CBD & Inner Suburbs   \n",
       "4                            Deloitte                CBD & Inner Suburbs   \n",
       "\n",
       "   Work Type  ...                                    Job Description  \\\n",
       "0  Full Time  ...  JUNIOR DATA SCIENTIST | SYDNEY CBD | OPPORTUNI...   \n",
       "1  Full Time  ...  Data Scientist – Investment ManagementAre you ...   \n",
       "2  Full Time  ...  About the JobIn this exciting role, you could ...   \n",
       "3  Full Time  ...  About the JobIn this exciting role, you could ...   \n",
       "4  Full Time  ...  Salary packaging - to suit your personal and f...   \n",
       "\n",
       "                                        Strong Words Location_few  \\\n",
       "0  ['JUNIOR DATA SCIENTIST | SYDNEY CBD | OPPORTU...       Sydney   \n",
       "1  ['Data Scientist – Investment Management', 'Re...       Sydney   \n",
       "2  ['About the Job', 'About Swinburne University ...    Melbourne   \n",
       "3  ['About the Job', 'About Swinburne University ...    Melbourne   \n",
       "4  ['About the team', '', 'What will your typical...    Melbourne   \n",
       "\n",
       "    new_job_title            new_category    exp_level  \\\n",
       "0  data scientist  information_technology     1 Junior   \n",
       "1  data scientist     accounting_services  2 Mid-Level   \n",
       "2  data scientist      science_technology  2 Mid-Level   \n",
       "3  data scientist      science_technology  2 Mid-Level   \n",
       "4  data scientist  information_technology  2 Mid-Level   \n",
       "\n",
       "                      salary final_salary salary_type final_salary_nona  \n",
       "0  $70000 - $80000 per annum      80000.0        year           80000.0  \n",
       "1                         na          NaN        None          115000.0  \n",
       "2                         na      54000.0        year           54000.0  \n",
       "3                         na      54000.0        year           54000.0  \n",
       "4                         na          NaN        None          140000.0  \n",
       "\n",
       "[5 rows x 25 columns]"
      ]
     },
     "execution_count": 38,
     "metadata": {},
     "output_type": "execute_result"
    }
   ],
   "source": [
    "final_salary_nona.nunique()\n",
    "seek.head()"
   ]
  },
  {
   "cell_type": "code",
   "execution_count": 39,
   "metadata": {},
   "outputs": [],
   "source": [
    "data = seek"
   ]
  },
  {
   "cell_type": "markdown",
   "metadata": {},
   "source": [
    "**EDA**"
   ]
  },
  {
   "cell_type": "markdown",
   "metadata": {},
   "source": [
    "Let's work on data visualisation"
   ]
  },
  {
   "cell_type": "markdown",
   "metadata": {},
   "source": [
    "Salary comparison between Sydney and Melbourne"
   ]
  },
  {
   "cell_type": "code",
   "execution_count": 40,
   "metadata": {},
   "outputs": [
    {
     "data": {
      "image/png": "[encoded data removed]",
      "text/plain": [
       "<Figure size 720x360 with 1 Axes>"
      ]
     },
     "metadata": {
      "needs_background": "light"
     },
     "output_type": "display_data"
    }
   ],
   "source": [
    "fig, ax = plt.subplots(1,1, figsize=(10,5))\n",
    "for city in ['Sydney', 'Melbourne']:\n",
    "    sns.kdeplot(data[data['Location_few'].str.contains(city)]['final_salary_nona'], shade=True, ax=ax, label=city)\n",
    "\n",
    "plt.title('Salary Comparison Between Sydney and Melbourne', fontsize=16)\n",
    "plt.xlabel('Salary', fontsize=14)\n",
    "plt.ylabel('')\n",
    "plt.xticks(fontsize=12)\n",
    "plt.yticks(fontsize=12)\n",
    "plt.legend(fontsize=14)\n",
    "plt.show()"
   ]
  },
  {
   "cell_type": "code",
   "execution_count": 41,
   "metadata": {},
   "outputs": [
    {
     "data": {
      "image/png": "[encoded data removed]",
      "text/plain": [
       "<Figure size 720x360 with 1 Axes>"
      ]
     },
     "metadata": {
      "needs_background": "light"
     },
     "output_type": "display_data"
    }
   ],
   "source": [
    "fig, ax = plt.subplots(1,1, figsize=(10,5))\n",
    "for job in data['new_job_title'].unique()[:2]:\n",
    "    sns.kdeplot(data[data['new_job_title']==job]['final_salary_nona'], shade=False, ax=ax, label=job)\n",
    "\n",
    "plt.title('Salary Comparison Between Analysts and Scientists', fontsize=16)\n",
    "plt.xlabel('Salary', fontsize=14)\n",
    "plt.ylabel('')\n",
    "plt.xticks(fontsize=12)\n",
    "plt.yticks(fontsize=12)\n",
    "plt.legend(fontsize=14)\n",
    "plt.show()"
   ]
  },
  {
   "cell_type": "code",
   "execution_count": 42,
   "metadata": {},
   "outputs": [
    {
     "data": {
      "image/png": "[encoded data removed]",
      "text/plain": [
       "<Figure size 720x216 with 1 Axes>"
      ]
     },
     "metadata": {
      "needs_background": "light"
     },
     "output_type": "display_data"
    }
   ],
   "source": [
    "newyorkTimezone = seek['Location'].value_counts(normalize=True).head()*100\n",
    "plt.figure(figsize=(10, 3))\n",
    "sns.barplot(y = newyorkTimezone.index, x = newyorkTimezone.values, alpha=0.8)\n",
    "plt.title('Location', fontsize=20)\n",
    "plt.ylabel('', fontsize=10)\n",
    "plt.yticks(fontsize=20)\n",
    "plt.xlabel('Percentage of all results', fontsize=20)\n",
    "plt.xticks(fontsize=15)\n",
    "plt.show()"
   ]
  },
  {
   "cell_type": "code",
   "execution_count": 43,
   "metadata": {},
   "outputs": [
    {
     "data": {
      "image/png": "[encoded data removed]",
      "text/plain": [
       "<Figure size 1440x432 with 1 Axes>"
      ]
     },
     "metadata": {
      "needs_background": "light"
     },
     "output_type": "display_data"
    }
   ],
   "source": [
    "newyorkTimezone = seek['new_job_title'].value_counts(normalize=True)*100\n",
    "plt.figure(figsize=(20, 6))\n",
    "sns.barplot(y = newyorkTimezone.index, x = newyorkTimezone.values, alpha=0.8)\n",
    "plt.title('Job Titles', fontsize=20)\n",
    "plt.ylabel('', fontsize=10)\n",
    "plt.yticks(fontsize=20)\n",
    "plt.xlabel('Percentage of all results', fontsize=20)\n",
    "plt.xticks(fontsize=15)\n",
    "plt.show()"
   ]
  },
  {
   "cell_type": "code",
   "execution_count": 44,
   "metadata": {},
   "outputs": [
    {
     "data": {
      "image/png": "[encoded data removed]",
      "text/plain": [
       "<Figure size 720x216 with 1 Axes>"
      ]
     },
     "metadata": {
      "needs_background": "light"
     },
     "output_type": "display_data"
    }
   ],
   "source": [
    "newyorkTimezone = seek['Work Type'].value_counts(normalize=True).head()*100\n",
    "plt.figure(figsize=(10, 3))\n",
    "sns.barplot(y = newyorkTimezone.index, x = newyorkTimezone.values, alpha=0.8)\n",
    "plt.title('Work type', fontsize=20)\n",
    "plt.ylabel('', fontsize=10)\n",
    "plt.yticks(fontsize=20)\n",
    "plt.xlabel('Percentage of all results', fontsize=20)\n",
    "plt.xticks(fontsize=15)\n",
    "plt.show()"
   ]
  },
  {
   "cell_type": "code",
   "execution_count": 45,
   "metadata": {},
   "outputs": [
    {
     "data": {
      "image/png": "[encoded data removed]",
      "text/plain": [
       "<Figure size 1440x432 with 1 Axes>"
      ]
     },
     "metadata": {
      "needs_background": "light"
     },
     "output_type": "display_data"
    }
   ],
   "source": [
    "fig = plt.figure(figsize=(20,6))\n",
    "sns.violinplot(x='new_job_title', y='final_salary_nona', hue='new_category', data=seek[seek['new_category']!='other'])\n",
    "plt.legend(loc=(0.9, 0.77))\n",
    "plt.show()"
   ]
  },
  {
   "cell_type": "code",
   "execution_count": 46,
   "metadata": {},
   "outputs": [
    {
     "data": {
      "image/png": "[encoded data removed]",
      "text/plain": [
       "<Figure size 1008x432 with 1 Axes>"
      ]
     },
     "metadata": {
      "needs_background": "light"
     },
     "output_type": "display_data"
    }
   ],
   "source": [
    "fig = plt.figure(figsize=(14,6))\n",
    "sns.lvplot(x='new_job_title', y='final_salary_nona', hue='new_category', data=seek[seek['new_category']!='other'])\n",
    "plt.legend(loc=(0.9, 0.77))\n",
    "plt.show()"
   ]
  },
  {
   "cell_type": "markdown",
   "metadata": {},
   "source": [
    "Spread of job categories in different job titles with respect to salary range. IT seems to have a wider spread of salary range in all job titles. Data Scientists and data scientists on average make higher salary in all categories. "
   ]
  },
  {
   "cell_type": "code",
   "execution_count": 47,
   "metadata": {},
   "outputs": [],
   "source": [
    "for col in data.columns:\n",
    "    seek[col] = data[col]\n",
    "\n",
    "seek.to_csv('final_data.csv', index=False)"
   ]
  }
 ],
 "metadata": {
  "kernelspec": {
   "display_name": "Python 3",
   "language": "python",
   "name": "python3"
  },
  "language_info": {
   "codemirror_mode": {
    "name": "ipython",
    "version": 3
   },
   "file_extension": ".py",
   "mimetype": "text/x-python",
   "name": "python",
   "nbconvert_exporter": "python",
   "pygments_lexer": "ipython3",
   "version": "3.7.3"
  }
 },
 "nbformat": 4,
 "nbformat_minor": 2
}
