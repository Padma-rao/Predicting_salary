{
 "cells": [
  {
   "cell_type": "markdown",
   "metadata": {},
   "source": [
    "**Modelling**\n",
    "\n",
    "After EDA let's do Modelling"
   ]
  },
  {
   "cell_type": "code",
   "execution_count": 1,
   "metadata": {},
   "outputs": [],
   "source": [
    "# General Libraries\n",
    "import pandas as pd\n",
    "import numpy as np\n",
    "from itertools import product\n",
    "import warnings\n",
    "from tqdm import tqdm\n",
    "\n",
    "# Plotting libraries\n",
    "import seaborn as sns\n",
    "import matplotlib.pyplot as plt\n",
    "\n",
    "# Preprocessing, modelling & evaluation\n",
    "from sklearn.linear_model import LinearRegression, LogisticRegression\n",
    "from sklearn.svm import SVR\n",
    "from sklearn.ensemble import ExtraTreesRegressor, ExtraTreesClassifier\n",
    "from sklearn.neighbors import KNeighborsRegressor\n",
    "from sklearn.neighbors import KNeighborsClassifier\n",
    "from sklearn.preprocessing import StandardScaler, label_binarize\n",
    "from sklearn.model_selection import train_test_split, GridSearchCV\n",
    "from sklearn.metrics import r2_score,  accuracy_score, precision_recall_fscore_support\n",
    "from sklearn.feature_selection import SelectKBest, f_regression, mutual_info_regression\n",
    "\n",
    "# Language Processing\n",
    "from sklearn.feature_extraction.text import TfidfVectorizer, ENGLISH_STOP_WORDS\n",
    "from nltk.stem import WordNetLemmatizer\n",
    "from nltk import word_tokenize\n",
    "\n",
    "warnings.filterwarnings('ignore')\n",
    "sns.set_style('darkgrid')"
   ]
  },
  {
   "cell_type": "code",
   "execution_count": 2,
   "metadata": {},
   "outputs": [],
   "source": [
    "seek = pd.read_csv('final_data.csv')"
   ]
  },
  {
   "cell_type": "code",
   "execution_count": 3,
   "metadata": {},
   "outputs": [
    {
     "data": {
      "text/html": [
       "<div>\n",
       "<style scoped>\n",
       "    .dataframe tbody tr th:only-of-type {\n",
       "        vertical-align: middle;\n",
       "    }\n",
       "\n",
       "    .dataframe tbody tr th {\n",
       "        vertical-align: top;\n",
       "    }\n",
       "\n",
       "    .dataframe thead th {\n",
       "        text-align: right;\n",
       "    }\n",
       "</style>\n",
       "<table border=\"1\" class=\"dataframe\">\n",
       "  <thead>\n",
       "    <tr style=\"text-align: right;\">\n",
       "      <th></th>\n",
       "      <th>Salary Range</th>\n",
       "      <th>Link</th>\n",
       "      <th>Title</th>\n",
       "      <th>Listing Date</th>\n",
       "      <th>Expiry Date</th>\n",
       "      <th>Job Title</th>\n",
       "      <th>Job Teaser</th>\n",
       "      <th>Advertiser</th>\n",
       "      <th>Area</th>\n",
       "      <th>Work Type</th>\n",
       "      <th>...</th>\n",
       "      <th>Job Description</th>\n",
       "      <th>Strong Words</th>\n",
       "      <th>Location_few</th>\n",
       "      <th>new_job_title</th>\n",
       "      <th>new_category</th>\n",
       "      <th>exp_level</th>\n",
       "      <th>salary</th>\n",
       "      <th>final_salary</th>\n",
       "      <th>salary_type</th>\n",
       "      <th>final_salary_nona</th>\n",
       "    </tr>\n",
       "  </thead>\n",
       "  <tbody>\n",
       "    <tr>\n",
       "      <th>0</th>\n",
       "      <td>0-70000</td>\n",
       "      <td>https://www.seek.com.au/job/40345298</td>\n",
       "      <td>Junior Data Scientist</td>\n",
       "      <td>2019-11-08T01:16:08.000Z</td>\n",
       "      <td>2019-12-08T12:59:59.000Z</td>\n",
       "      <td>Junior Data Scientist</td>\n",
       "      <td>JUNIOR DATA SCIENTIST | SYDNEY CBD | OPPORTUNI...</td>\n",
       "      <td>Opus Recruitment Solutions</td>\n",
       "      <td>NaN</td>\n",
       "      <td>Full Time</td>\n",
       "      <td>...</td>\n",
       "      <td>JUNIOR DATA SCIENTIST | SYDNEY CBD | OPPORTUNI...</td>\n",
       "      <td>['JUNIOR DATA SCIENTIST | SYDNEY CBD | OPPORTU...</td>\n",
       "      <td>Sydney</td>\n",
       "      <td>data scientist</td>\n",
       "      <td>information_technology</td>\n",
       "      <td>1 Junior</td>\n",
       "      <td>$70000 - $80000 per annum</td>\n",
       "      <td>80000.0</td>\n",
       "      <td>year</td>\n",
       "      <td>80000.0</td>\n",
       "    </tr>\n",
       "    <tr>\n",
       "      <th>1</th>\n",
       "      <td>0-70000</td>\n",
       "      <td>https://www.seek.com.au/job/40369561</td>\n",
       "      <td>Quantitative Analyst / Data Scientist</td>\n",
       "      <td>2019-11-12T02:46:05.000Z</td>\n",
       "      <td>2019-12-12T12:59:59.000Z</td>\n",
       "      <td>Quantitative Analyst / Data Scientist</td>\n",
       "      <td>Exciting opportunity for an experienced Data S...</td>\n",
       "      <td>Ethos BeathChapman</td>\n",
       "      <td>CBD, Inner West &amp; Eastern Suburbs</td>\n",
       "      <td>Full Time</td>\n",
       "      <td>...</td>\n",
       "      <td>Data Scientist – Investment ManagementAre you ...</td>\n",
       "      <td>['Data Scientist – Investment Management', 'Re...</td>\n",
       "      <td>Sydney</td>\n",
       "      <td>data scientist</td>\n",
       "      <td>accounting_services</td>\n",
       "      <td>2 Mid-Level</td>\n",
       "      <td>na</td>\n",
       "      <td>NaN</td>\n",
       "      <td>NaN</td>\n",
       "      <td>115000.0</td>\n",
       "    </tr>\n",
       "    <tr>\n",
       "      <th>2</th>\n",
       "      <td>0-70000</td>\n",
       "      <td>https://www.seek.com.au/job/40285384</td>\n",
       "      <td>Data Scientist</td>\n",
       "      <td>2019-10-31T00:31:30.000Z</td>\n",
       "      <td>2019-11-30T12:59:59.000Z</td>\n",
       "      <td>Data Scientist</td>\n",
       "      <td>Conduct innovative research by utilising state...</td>\n",
       "      <td>Swinburne University of Technology</td>\n",
       "      <td>CBD &amp; Inner Suburbs</td>\n",
       "      <td>Full Time</td>\n",
       "      <td>...</td>\n",
       "      <td>About the JobIn this exciting role, you could ...</td>\n",
       "      <td>['About the Job', 'About Swinburne University ...</td>\n",
       "      <td>Melbourne</td>\n",
       "      <td>data scientist</td>\n",
       "      <td>science_technology</td>\n",
       "      <td>2 Mid-Level</td>\n",
       "      <td>na</td>\n",
       "      <td>54000.0</td>\n",
       "      <td>year</td>\n",
       "      <td>54000.0</td>\n",
       "    </tr>\n",
       "    <tr>\n",
       "      <th>3</th>\n",
       "      <td>0-70000</td>\n",
       "      <td>https://www.seek.com.au/job/40285385</td>\n",
       "      <td>Data Scientist</td>\n",
       "      <td>2019-10-31T00:31:30.000Z</td>\n",
       "      <td>2019-11-30T12:59:59.000Z</td>\n",
       "      <td>Data Scientist</td>\n",
       "      <td>Conduct innovative research by utilising state...</td>\n",
       "      <td>Swinburne University of Technology</td>\n",
       "      <td>CBD &amp; Inner Suburbs</td>\n",
       "      <td>Full Time</td>\n",
       "      <td>...</td>\n",
       "      <td>About the JobIn this exciting role, you could ...</td>\n",
       "      <td>['About the Job', 'About Swinburne University ...</td>\n",
       "      <td>Melbourne</td>\n",
       "      <td>data scientist</td>\n",
       "      <td>science_technology</td>\n",
       "      <td>2 Mid-Level</td>\n",
       "      <td>na</td>\n",
       "      <td>54000.0</td>\n",
       "      <td>year</td>\n",
       "      <td>54000.0</td>\n",
       "    </tr>\n",
       "    <tr>\n",
       "      <th>4</th>\n",
       "      <td>0-70000</td>\n",
       "      <td>https://www.seek.com.au/job/40241958</td>\n",
       "      <td>Data Scientist</td>\n",
       "      <td>2019-10-24T15:25:27.000Z</td>\n",
       "      <td>2019-11-24T12:59:59.000Z</td>\n",
       "      <td>Data Scientist</td>\n",
       "      <td>Data Scientist Role with Deloitte Consulting  ...</td>\n",
       "      <td>Deloitte</td>\n",
       "      <td>CBD &amp; Inner Suburbs</td>\n",
       "      <td>Full Time</td>\n",
       "      <td>...</td>\n",
       "      <td>Salary packaging - to suit your personal and f...</td>\n",
       "      <td>['About the team', '', 'What will your typical...</td>\n",
       "      <td>Melbourne</td>\n",
       "      <td>data scientist</td>\n",
       "      <td>information_technology</td>\n",
       "      <td>2 Mid-Level</td>\n",
       "      <td>na</td>\n",
       "      <td>NaN</td>\n",
       "      <td>NaN</td>\n",
       "      <td>140000.0</td>\n",
       "    </tr>\n",
       "  </tbody>\n",
       "</table>\n",
       "<p>5 rows × 25 columns</p>\n",
       "</div>"
      ],
      "text/plain": [
       "  Salary Range                                  Link  \\\n",
       "0      0-70000  https://www.seek.com.au/job/40345298   \n",
       "1      0-70000  https://www.seek.com.au/job/40369561   \n",
       "2      0-70000  https://www.seek.com.au/job/40285384   \n",
       "3      0-70000  https://www.seek.com.au/job/40285385   \n",
       "4      0-70000  https://www.seek.com.au/job/40241958   \n",
       "\n",
       "                                   Title              Listing Date  \\\n",
       "0                  Junior Data Scientist  2019-11-08T01:16:08.000Z   \n",
       "1  Quantitative Analyst / Data Scientist  2019-11-12T02:46:05.000Z   \n",
       "2                         Data Scientist  2019-10-31T00:31:30.000Z   \n",
       "3                         Data Scientist  2019-10-31T00:31:30.000Z   \n",
       "4                         Data Scientist  2019-10-24T15:25:27.000Z   \n",
       "\n",
       "                Expiry Date                              Job Title  \\\n",
       "0  2019-12-08T12:59:59.000Z                  Junior Data Scientist   \n",
       "1  2019-12-12T12:59:59.000Z  Quantitative Analyst / Data Scientist   \n",
       "2  2019-11-30T12:59:59.000Z                         Data Scientist   \n",
       "3  2019-11-30T12:59:59.000Z                         Data Scientist   \n",
       "4  2019-11-24T12:59:59.000Z                        Data Scientist    \n",
       "\n",
       "                                          Job Teaser  \\\n",
       "0  JUNIOR DATA SCIENTIST | SYDNEY CBD | OPPORTUNI...   \n",
       "1  Exciting opportunity for an experienced Data S...   \n",
       "2  Conduct innovative research by utilising state...   \n",
       "3  Conduct innovative research by utilising state...   \n",
       "4  Data Scientist Role with Deloitte Consulting  ...   \n",
       "\n",
       "                           Advertiser                               Area  \\\n",
       "0          Opus Recruitment Solutions                                NaN   \n",
       "1                  Ethos BeathChapman  CBD, Inner West & Eastern Suburbs   \n",
       "2  Swinburne University of Technology                CBD & Inner Suburbs   \n",
       "3  Swinburne University of Technology                CBD & Inner Suburbs   \n",
       "4                            Deloitte                CBD & Inner Suburbs   \n",
       "\n",
       "   Work Type  ...                                    Job Description  \\\n",
       "0  Full Time  ...  JUNIOR DATA SCIENTIST | SYDNEY CBD | OPPORTUNI...   \n",
       "1  Full Time  ...  Data Scientist – Investment ManagementAre you ...   \n",
       "2  Full Time  ...  About the JobIn this exciting role, you could ...   \n",
       "3  Full Time  ...  About the JobIn this exciting role, you could ...   \n",
       "4  Full Time  ...  Salary packaging - to suit your personal and f...   \n",
       "\n",
       "                                        Strong Words Location_few  \\\n",
       "0  ['JUNIOR DATA SCIENTIST | SYDNEY CBD | OPPORTU...       Sydney   \n",
       "1  ['Data Scientist – Investment Management', 'Re...       Sydney   \n",
       "2  ['About the Job', 'About Swinburne University ...    Melbourne   \n",
       "3  ['About the Job', 'About Swinburne University ...    Melbourne   \n",
       "4  ['About the team', '', 'What will your typical...    Melbourne   \n",
       "\n",
       "    new_job_title            new_category    exp_level  \\\n",
       "0  data scientist  information_technology     1 Junior   \n",
       "1  data scientist     accounting_services  2 Mid-Level   \n",
       "2  data scientist      science_technology  2 Mid-Level   \n",
       "3  data scientist      science_technology  2 Mid-Level   \n",
       "4  data scientist  information_technology  2 Mid-Level   \n",
       "\n",
       "                      salary final_salary salary_type final_salary_nona  \n",
       "0  $70000 - $80000 per annum      80000.0        year           80000.0  \n",
       "1                         na          NaN         NaN          115000.0  \n",
       "2                         na      54000.0        year           54000.0  \n",
       "3                         na      54000.0        year           54000.0  \n",
       "4                         na          NaN         NaN          140000.0  \n",
       "\n",
       "[5 rows x 25 columns]"
      ]
     },
     "execution_count": 3,
     "metadata": {},
     "output_type": "execute_result"
    }
   ],
   "source": [
    "seek.head()"
   ]
  },
  {
   "cell_type": "markdown",
   "metadata": {},
   "source": [
    "sal_mean = seek['final_salary_nona'].mean()\n",
    "y_pred_baseline = [sal_mean for i in range(len(seek))]\n",
    "y_pred_baseline"
   ]
  },
  {
   "cell_type": "code",
   "execution_count": 4,
   "metadata": {},
   "outputs": [],
   "source": [
    "seek.rename(columns={\"Job Description\": \"Job_Description\", \"Salary Range\":\"Salary_Range\"}, inplace=True)"
   ]
  },
  {
   "cell_type": "code",
   "execution_count": 5,
   "metadata": {},
   "outputs": [
    {
     "data": {
      "text/plain": [
       "(1437, 25)"
      ]
     },
     "execution_count": 5,
     "metadata": {},
     "output_type": "execute_result"
    }
   ],
   "source": [
    "seek.shape"
   ]
  },
  {
   "cell_type": "code",
   "execution_count": 6,
   "metadata": {},
   "outputs": [
    {
     "data": {
      "text/plain": [
       "Index(['Salary_Range', 'Link', 'Title', 'Listing Date', 'Expiry Date',\n",
       "       'Job Title', 'Job Teaser', 'Advertiser', 'Area', 'Work Type',\n",
       "       'Classification', 'Salary', 'Salary Type', 'JD', 'Location',\n",
       "       'Job_Description', 'Strong Words', 'Location_few', 'new_job_title',\n",
       "       'new_category', 'exp_level', 'salary', 'final_salary', 'salary_type',\n",
       "       'final_salary_nona'],\n",
       "      dtype='object')"
      ]
     },
     "execution_count": 6,
     "metadata": {},
     "output_type": "execute_result"
    }
   ],
   "source": [
    "seek.columns"
   ]
  },
  {
   "cell_type": "code",
   "execution_count": 7,
   "metadata": {},
   "outputs": [
    {
     "data": {
      "text/plain": [
       "year    349\n",
       "day      80\n",
       "hour     29\n",
       "week     10\n",
       "Name: salary_type, dtype: int64"
      ]
     },
     "execution_count": 7,
     "metadata": {},
     "output_type": "execute_result"
    }
   ],
   "source": [
    "seek['salary_type'].value_counts()"
   ]
  },
  {
   "cell_type": "code",
   "execution_count": 8,
   "metadata": {},
   "outputs": [],
   "source": [
    "#take categorical features which you want to use for modelling\n",
    "feature_subset = seek[['Location_few', 'new_job_title', 'new_category', 'exp_level', 'Work Type', 'final_salary_nona']]"
   ]
  },
  {
   "cell_type": "code",
   "execution_count": 9,
   "metadata": {},
   "outputs": [
    {
     "data": {
      "text/html": [
       "<div>\n",
       "<style scoped>\n",
       "    .dataframe tbody tr th:only-of-type {\n",
       "        vertical-align: middle;\n",
       "    }\n",
       "\n",
       "    .dataframe tbody tr th {\n",
       "        vertical-align: top;\n",
       "    }\n",
       "\n",
       "    .dataframe thead th {\n",
       "        text-align: right;\n",
       "    }\n",
       "</style>\n",
       "<table border=\"1\" class=\"dataframe\">\n",
       "  <thead>\n",
       "    <tr style=\"text-align: right;\">\n",
       "      <th></th>\n",
       "      <th>Location_few</th>\n",
       "      <th>new_job_title</th>\n",
       "      <th>new_category</th>\n",
       "      <th>exp_level</th>\n",
       "      <th>Work Type</th>\n",
       "      <th>final_salary_nona</th>\n",
       "    </tr>\n",
       "  </thead>\n",
       "  <tbody>\n",
       "    <tr>\n",
       "      <th>0</th>\n",
       "      <td>Sydney</td>\n",
       "      <td>data scientist</td>\n",
       "      <td>information_technology</td>\n",
       "      <td>1 Junior</td>\n",
       "      <td>Full Time</td>\n",
       "      <td>80000.0</td>\n",
       "    </tr>\n",
       "    <tr>\n",
       "      <th>1</th>\n",
       "      <td>Sydney</td>\n",
       "      <td>data scientist</td>\n",
       "      <td>accounting_services</td>\n",
       "      <td>2 Mid-Level</td>\n",
       "      <td>Full Time</td>\n",
       "      <td>115000.0</td>\n",
       "    </tr>\n",
       "    <tr>\n",
       "      <th>2</th>\n",
       "      <td>Melbourne</td>\n",
       "      <td>data scientist</td>\n",
       "      <td>science_technology</td>\n",
       "      <td>2 Mid-Level</td>\n",
       "      <td>Full Time</td>\n",
       "      <td>54000.0</td>\n",
       "    </tr>\n",
       "    <tr>\n",
       "      <th>3</th>\n",
       "      <td>Melbourne</td>\n",
       "      <td>data scientist</td>\n",
       "      <td>science_technology</td>\n",
       "      <td>2 Mid-Level</td>\n",
       "      <td>Full Time</td>\n",
       "      <td>54000.0</td>\n",
       "    </tr>\n",
       "    <tr>\n",
       "      <th>4</th>\n",
       "      <td>Melbourne</td>\n",
       "      <td>data scientist</td>\n",
       "      <td>information_technology</td>\n",
       "      <td>2 Mid-Level</td>\n",
       "      <td>Full Time</td>\n",
       "      <td>140000.0</td>\n",
       "    </tr>\n",
       "  </tbody>\n",
       "</table>\n",
       "</div>"
      ],
      "text/plain": [
       "  Location_few   new_job_title            new_category    exp_level  \\\n",
       "0       Sydney  data scientist  information_technology     1 Junior   \n",
       "1       Sydney  data scientist     accounting_services  2 Mid-Level   \n",
       "2    Melbourne  data scientist      science_technology  2 Mid-Level   \n",
       "3    Melbourne  data scientist      science_technology  2 Mid-Level   \n",
       "4    Melbourne  data scientist  information_technology  2 Mid-Level   \n",
       "\n",
       "   Work Type  final_salary_nona  \n",
       "0  Full Time            80000.0  \n",
       "1  Full Time           115000.0  \n",
       "2  Full Time            54000.0  \n",
       "3  Full Time            54000.0  \n",
       "4  Full Time           140000.0  "
      ]
     },
     "execution_count": 9,
     "metadata": {},
     "output_type": "execute_result"
    }
   ],
   "source": [
    "feature_subset.head()"
   ]
  },
  {
   "cell_type": "code",
   "execution_count": 10,
   "metadata": {},
   "outputs": [],
   "source": [
    "#converting categorical features to numerical features\n",
    "#Use get dummies. Only for sequential give 1, 2, 3 not for location \n"
   ]
  },
  {
   "cell_type": "code",
   "execution_count": 11,
   "metadata": {},
   "outputs": [],
   "source": [
    "feature_subset.dropna(axis=0, how='any', inplace=True)"
   ]
  },
  {
   "cell_type": "code",
   "execution_count": 12,
   "metadata": {},
   "outputs": [
    {
     "data": {
      "text/plain": [
       "Location_few         0\n",
       "new_job_title        0\n",
       "new_category         0\n",
       "exp_level            0\n",
       "Work Type            0\n",
       "final_salary_nona    0\n",
       "dtype: int64"
      ]
     },
     "execution_count": 12,
     "metadata": {},
     "output_type": "execute_result"
    }
   ],
   "source": [
    "feature_subset.isnull().sum()"
   ]
  },
  {
   "cell_type": "code",
   "execution_count": 13,
   "metadata": {},
   "outputs": [
    {
     "data": {
      "text/plain": [
       "Index(['Location_few', 'new_job_title', 'new_category', 'exp_level',\n",
       "       'Work Type', 'final_salary_nona'],\n",
       "      dtype='object')"
      ]
     },
     "execution_count": 13,
     "metadata": {},
     "output_type": "execute_result"
    }
   ],
   "source": [
    "feature_subset.columns"
   ]
  },
  {
   "cell_type": "markdown",
   "metadata": {},
   "source": [
    "Creating train and test tset"
   ]
  },
  {
   "cell_type": "code",
   "execution_count": 14,
   "metadata": {},
   "outputs": [],
   "source": [
    "train , test = train_test_split(feature_subset, test_size = 0.2)\n",
    "\n",
    "x_train = train.drop('final_salary_nona', axis=1)\n",
    "y_train = train['final_salary_nona']\n",
    "\n",
    "x_test = test.drop('final_salary_nona', axis = 1)\n",
    "y_test = test['final_salary_nona']"
   ]
  },
  {
   "cell_type": "code",
   "execution_count": 15,
   "metadata": {},
   "outputs": [
    {
     "data": {
      "text/html": [
       "<div>\n",
       "<style scoped>\n",
       "    .dataframe tbody tr th:only-of-type {\n",
       "        vertical-align: middle;\n",
       "    }\n",
       "\n",
       "    .dataframe tbody tr th {\n",
       "        vertical-align: top;\n",
       "    }\n",
       "\n",
       "    .dataframe thead th {\n",
       "        text-align: right;\n",
       "    }\n",
       "</style>\n",
       "<table border=\"1\" class=\"dataframe\">\n",
       "  <thead>\n",
       "    <tr style=\"text-align: right;\">\n",
       "      <th></th>\n",
       "      <th>Location_few_Melbourne</th>\n",
       "      <th>Location_few_Sydney</th>\n",
       "      <th>Location_few_other</th>\n",
       "      <th>new_job_title_business analyst</th>\n",
       "      <th>new_job_title_data analyst</th>\n",
       "      <th>new_job_title_data engineer</th>\n",
       "      <th>new_job_title_data scientist</th>\n",
       "      <th>new_category_accounting_services</th>\n",
       "      <th>new_category_govt_health</th>\n",
       "      <th>new_category_information_technology</th>\n",
       "      <th>new_category_other</th>\n",
       "      <th>new_category_sales_marketing</th>\n",
       "      <th>new_category_science_technology</th>\n",
       "      <th>exp_level_1 Junior</th>\n",
       "      <th>exp_level_2 Mid-Level</th>\n",
       "      <th>exp_level_3 Senior</th>\n",
       "      <th>Work Type_Casual/Vacation</th>\n",
       "      <th>Work Type_Contract/Temp</th>\n",
       "      <th>Work Type_Full Time</th>\n",
       "      <th>Work Type_Part Time</th>\n",
       "    </tr>\n",
       "  </thead>\n",
       "  <tbody>\n",
       "    <tr>\n",
       "      <th>1038</th>\n",
       "      <td>0</td>\n",
       "      <td>1</td>\n",
       "      <td>0</td>\n",
       "      <td>1</td>\n",
       "      <td>0</td>\n",
       "      <td>0</td>\n",
       "      <td>0</td>\n",
       "      <td>0</td>\n",
       "      <td>0</td>\n",
       "      <td>0</td>\n",
       "      <td>1</td>\n",
       "      <td>0</td>\n",
       "      <td>0</td>\n",
       "      <td>0</td>\n",
       "      <td>1</td>\n",
       "      <td>0</td>\n",
       "      <td>0</td>\n",
       "      <td>0</td>\n",
       "      <td>1</td>\n",
       "      <td>0</td>\n",
       "    </tr>\n",
       "    <tr>\n",
       "      <th>1276</th>\n",
       "      <td>0</td>\n",
       "      <td>1</td>\n",
       "      <td>0</td>\n",
       "      <td>1</td>\n",
       "      <td>0</td>\n",
       "      <td>0</td>\n",
       "      <td>0</td>\n",
       "      <td>0</td>\n",
       "      <td>0</td>\n",
       "      <td>1</td>\n",
       "      <td>0</td>\n",
       "      <td>0</td>\n",
       "      <td>0</td>\n",
       "      <td>0</td>\n",
       "      <td>0</td>\n",
       "      <td>1</td>\n",
       "      <td>0</td>\n",
       "      <td>1</td>\n",
       "      <td>0</td>\n",
       "      <td>0</td>\n",
       "    </tr>\n",
       "    <tr>\n",
       "      <th>1051</th>\n",
       "      <td>0</td>\n",
       "      <td>1</td>\n",
       "      <td>0</td>\n",
       "      <td>1</td>\n",
       "      <td>0</td>\n",
       "      <td>0</td>\n",
       "      <td>0</td>\n",
       "      <td>0</td>\n",
       "      <td>0</td>\n",
       "      <td>1</td>\n",
       "      <td>0</td>\n",
       "      <td>0</td>\n",
       "      <td>0</td>\n",
       "      <td>0</td>\n",
       "      <td>1</td>\n",
       "      <td>0</td>\n",
       "      <td>0</td>\n",
       "      <td>1</td>\n",
       "      <td>0</td>\n",
       "      <td>0</td>\n",
       "    </tr>\n",
       "    <tr>\n",
       "      <th>1338</th>\n",
       "      <td>0</td>\n",
       "      <td>1</td>\n",
       "      <td>0</td>\n",
       "      <td>1</td>\n",
       "      <td>0</td>\n",
       "      <td>0</td>\n",
       "      <td>0</td>\n",
       "      <td>0</td>\n",
       "      <td>0</td>\n",
       "      <td>1</td>\n",
       "      <td>0</td>\n",
       "      <td>0</td>\n",
       "      <td>0</td>\n",
       "      <td>0</td>\n",
       "      <td>1</td>\n",
       "      <td>0</td>\n",
       "      <td>0</td>\n",
       "      <td>1</td>\n",
       "      <td>0</td>\n",
       "      <td>0</td>\n",
       "    </tr>\n",
       "    <tr>\n",
       "      <th>361</th>\n",
       "      <td>0</td>\n",
       "      <td>0</td>\n",
       "      <td>1</td>\n",
       "      <td>0</td>\n",
       "      <td>1</td>\n",
       "      <td>0</td>\n",
       "      <td>0</td>\n",
       "      <td>0</td>\n",
       "      <td>0</td>\n",
       "      <td>1</td>\n",
       "      <td>0</td>\n",
       "      <td>0</td>\n",
       "      <td>0</td>\n",
       "      <td>0</td>\n",
       "      <td>1</td>\n",
       "      <td>0</td>\n",
       "      <td>0</td>\n",
       "      <td>1</td>\n",
       "      <td>0</td>\n",
       "      <td>0</td>\n",
       "    </tr>\n",
       "  </tbody>\n",
       "</table>\n",
       "</div>"
      ],
      "text/plain": [
       "      Location_few_Melbourne  Location_few_Sydney  Location_few_other  \\\n",
       "1038                       0                    1                   0   \n",
       "1276                       0                    1                   0   \n",
       "1051                       0                    1                   0   \n",
       "1338                       0                    1                   0   \n",
       "361                        0                    0                   1   \n",
       "\n",
       "      new_job_title_business analyst  new_job_title_data analyst  \\\n",
       "1038                               1                           0   \n",
       "1276                               1                           0   \n",
       "1051                               1                           0   \n",
       "1338                               1                           0   \n",
       "361                                0                           1   \n",
       "\n",
       "      new_job_title_data engineer  new_job_title_data scientist  \\\n",
       "1038                            0                             0   \n",
       "1276                            0                             0   \n",
       "1051                            0                             0   \n",
       "1338                            0                             0   \n",
       "361                             0                             0   \n",
       "\n",
       "      new_category_accounting_services  new_category_govt_health  \\\n",
       "1038                                 0                         0   \n",
       "1276                                 0                         0   \n",
       "1051                                 0                         0   \n",
       "1338                                 0                         0   \n",
       "361                                  0                         0   \n",
       "\n",
       "      new_category_information_technology  new_category_other  \\\n",
       "1038                                    0                   1   \n",
       "1276                                    1                   0   \n",
       "1051                                    1                   0   \n",
       "1338                                    1                   0   \n",
       "361                                     1                   0   \n",
       "\n",
       "      new_category_sales_marketing  new_category_science_technology  \\\n",
       "1038                             0                                0   \n",
       "1276                             0                                0   \n",
       "1051                             0                                0   \n",
       "1338                             0                                0   \n",
       "361                              0                                0   \n",
       "\n",
       "      exp_level_1 Junior  exp_level_2 Mid-Level  exp_level_3 Senior  \\\n",
       "1038                   0                      1                   0   \n",
       "1276                   0                      0                   1   \n",
       "1051                   0                      1                   0   \n",
       "1338                   0                      1                   0   \n",
       "361                    0                      1                   0   \n",
       "\n",
       "      Work Type_Casual/Vacation  Work Type_Contract/Temp  Work Type_Full Time  \\\n",
       "1038                          0                        0                    1   \n",
       "1276                          0                        1                    0   \n",
       "1051                          0                        1                    0   \n",
       "1338                          0                        1                    0   \n",
       "361                           0                        1                    0   \n",
       "\n",
       "      Work Type_Part Time  \n",
       "1038                    0  \n",
       "1276                    0  \n",
       "1051                    0  \n",
       "1338                    0  \n",
       "361                     0  "
      ]
     },
     "execution_count": 15,
     "metadata": {},
     "output_type": "execute_result"
    }
   ],
   "source": [
    "x_train = pd.get_dummies(x_train)\n",
    "x_train.head()\n"
   ]
  },
  {
   "cell_type": "code",
   "execution_count": 16,
   "metadata": {},
   "outputs": [],
   "source": [
    "x_test = pd.get_dummies(x_test)"
   ]
  },
  {
   "cell_type": "code",
   "execution_count": 17,
   "metadata": {},
   "outputs": [
    {
     "data": {
      "text/plain": [
       "pandas.core.frame.DataFrame"
      ]
     },
     "execution_count": 17,
     "metadata": {},
     "output_type": "execute_result"
    }
   ],
   "source": [
    "type(x_test)"
   ]
  },
  {
   "cell_type": "code",
   "execution_count": 18,
   "metadata": {},
   "outputs": [
    {
     "data": {
      "text/plain": [
       "[]"
      ]
     },
     "execution_count": 18,
     "metadata": {},
     "output_type": "execute_result"
    }
   ],
   "source": [
    "#find columns with low variance!**\n",
    "low_var_columns = []\n",
    "for column in list(feature_subset.columns):\n",
    "    if np.max(feature_subset[column].value_counts(normalize=True)) > 0.9:\n",
    "        low_var_columns.append(column)\n",
    "low_var_columns"
   ]
  },
  {
   "cell_type": "markdown",
   "metadata": {},
   "source": [
    "Our features are ready for the model. "
   ]
  },
  {
   "cell_type": "code",
   "execution_count": 19,
   "metadata": {},
   "outputs": [],
   "source": [
    "from sklearn.linear_model import LinearRegression, LogisticRegression, Lasso, LassoCV\n",
    "from sklearn.tree import DecisionTreeRegressor, DecisionTreeClassifier\n",
    "from sklearn.model_selection import GridSearchCV, cross_val_score"
   ]
  },
  {
   "cell_type": "code",
   "execution_count": 20,
   "metadata": {},
   "outputs": [],
   "source": [
    "x = feature_subset.drop('final_salary_nona', axis=1)"
   ]
  },
  {
   "cell_type": "code",
   "execution_count": 21,
   "metadata": {},
   "outputs": [],
   "source": [
    "x = pd.get_dummies(x)"
   ]
  },
  {
   "cell_type": "code",
   "execution_count": 22,
   "metadata": {},
   "outputs": [],
   "source": [
    "y = feature_subset['final_salary_nona']"
   ]
  },
  {
   "cell_type": "code",
   "execution_count": 23,
   "metadata": {},
   "outputs": [
    {
     "data": {
      "text/plain": [
       "((1147, 20), (287, 20), (1147,), (287,))"
      ]
     },
     "execution_count": 23,
     "metadata": {},
     "output_type": "execute_result"
    }
   ],
   "source": [
    "x_train, x_test, y_train, y_test = train_test_split(x, y, test_size=0.2, random_state=42)\n",
    "x_train.shape, x_test.shape, y_train.shape, y_test.shape"
   ]
  },
  {
   "cell_type": "markdown",
   "metadata": {},
   "source": [
    "**KNN Regression**"
   ]
  },
  {
   "cell_type": "code",
   "execution_count": 24,
   "metadata": {},
   "outputs": [
    {
     "data": {
      "text/plain": [
       "GridSearchCV(cv=3, error_score='raise-deprecating',\n",
       "             estimator=KNeighborsRegressor(algorithm='auto', leaf_size=30,\n",
       "                                           metric='minkowski',\n",
       "                                           metric_params=None, n_jobs=None,\n",
       "                                           n_neighbors=5, p=2,\n",
       "                                           weights='uniform'),\n",
       "             iid='warn', n_jobs=None,\n",
       "             param_grid={'n_neighbors': [1, 2, 3, 4, 5, 6, 7, 8, 9, 10, 11, 12,\n",
       "                                         13, 14, 15, 16, 17, 18, 19, 20, 21, 22,\n",
       "                                         23, 24, 25, 26, 27, 28, 29, 30, ...],\n",
       "                         'weights': ['distance', 'uniform']},\n",
       "             pre_dispatch='2*n_jobs', refit=True, return_train_score=False,\n",
       "             scoring=None, verbose=0)"
      ]
     },
     "execution_count": 24,
     "metadata": {},
     "output_type": "execute_result"
    }
   ],
   "source": [
    "from sklearn.neighbors import KNeighborsRegressor\n",
    "knn = KNeighborsRegressor()\n",
    "\n",
    "knn_params = {\n",
    "    'n_neighbors':list(range(1,100)),\n",
    "    'weights':['distance','uniform']\n",
    "}\n",
    "knn_gs = GridSearchCV(knn, knn_params, cv=3)\n",
    "knn_gs.fit(x_train, y_train)\n"
   ]
  },
  {
   "cell_type": "code",
   "execution_count": 25,
   "metadata": {},
   "outputs": [
    {
     "name": "stdout",
     "output_type": "stream",
     "text": [
      "{'n_neighbors': 64, 'weights': 'uniform'}\n",
      "0.052050965586563996\n"
     ]
    }
   ],
   "source": [
    "knn_best = knn_gs.best_estimator_\n",
    "print(knn_gs.best_params_)\n",
    "print(knn_gs.best_score_)"
   ]
  },
  {
   "cell_type": "markdown",
   "metadata": {},
   "source": [
    "**SVR**"
   ]
  },
  {
   "cell_type": "code",
   "execution_count": 26,
   "metadata": {},
   "outputs": [
    {
     "name": "stdout",
     "output_type": "stream",
     "text": [
      "Fitting 3 folds for each of 2 candidates, totalling 6 fits\n"
     ]
    },
    {
     "name": "stderr",
     "output_type": "stream",
     "text": [
      "[Parallel(n_jobs=-1)]: Using backend LokyBackend with 8 concurrent workers.\n",
      "[Parallel(n_jobs=-1)]: Done   6 out of   6 | elapsed:    2.2s finished\n"
     ]
    },
    {
     "data": {
      "text/plain": [
       "GridSearchCV(cv=3, error_score='raise-deprecating',\n",
       "             estimator=SVR(C=1.0, cache_size=200, coef0=0.0, degree=3,\n",
       "                           epsilon=0.1, gamma='auto_deprecated', kernel='rbf',\n",
       "                           max_iter=-1, shrinking=True, tol=0.001,\n",
       "                           verbose=False),\n",
       "             iid='warn', n_jobs=-1, param_grid={'kernel': ['poly', 'rbf']},\n",
       "             pre_dispatch='2*n_jobs', refit=True, return_train_score=False,\n",
       "             scoring=None, verbose=1)"
      ]
     },
     "execution_count": 26,
     "metadata": {},
     "output_type": "execute_result"
    }
   ],
   "source": [
    "from sklearn.svm import SVR\n",
    "svr_params = {'kernel': ['poly', 'rbf']}\n",
    "svr = SVR()\n",
    "\n",
    "\n",
    "svr_gs = GridSearchCV(SVR(), svr_params, n_jobs=-1, cv=3, verbose=1)\n",
    "svr_gs.fit(x_train, y_train)"
   ]
  },
  {
   "cell_type": "code",
   "execution_count": 27,
   "metadata": {},
   "outputs": [
    {
     "name": "stdout",
     "output_type": "stream",
     "text": [
      "{'kernel': 'rbf'}\n",
      "-0.024429158736716635\n"
     ]
    }
   ],
   "source": [
    "best_svr = svr_gs.best_estimator_\n",
    "print(svr_gs.best_params_)\n",
    "print(svr_gs.best_score_)"
   ]
  },
  {
   "cell_type": "markdown",
   "metadata": {},
   "source": [
    "**Extra Tree Regressor**"
   ]
  },
  {
   "cell_type": "code",
   "execution_count": 28,
   "metadata": {},
   "outputs": [
    {
     "name": "stderr",
     "output_type": "stream",
     "text": [
      "[Parallel(n_jobs=-1)]: Using backend LokyBackend with 8 concurrent workers.\n"
     ]
    },
    {
     "name": "stdout",
     "output_type": "stream",
     "text": [
      "Fitting 3 folds for each of 3 candidates, totalling 9 fits\n"
     ]
    },
    {
     "name": "stderr",
     "output_type": "stream",
     "text": [
      "[Parallel(n_jobs=-1)]: Done   4 out of   9 | elapsed:    2.1s remaining:    2.6s\n",
      "[Parallel(n_jobs=-1)]: Done   9 out of   9 | elapsed:    3.7s finished\n"
     ]
    },
    {
     "data": {
      "text/plain": [
       "GridSearchCV(cv=3, error_score='raise-deprecating',\n",
       "             estimator=ExtraTreesRegressor(bootstrap=False, criterion='mse',\n",
       "                                           max_depth=None, max_features='auto',\n",
       "                                           max_leaf_nodes=None,\n",
       "                                           min_impurity_decrease=0.0,\n",
       "                                           min_impurity_split=None,\n",
       "                                           min_samples_leaf=1,\n",
       "                                           min_samples_split=2,\n",
       "                                           min_weight_fraction_leaf=0.0,\n",
       "                                           n_estimators='warn', n_jobs=-1,\n",
       "                                           oob_score=False, random_state=3,\n",
       "                                           verbose=0, warm_start=False),\n",
       "             iid='warn', n_jobs=-1,\n",
       "             param_grid={'n_estimators': [500, 750, 1000]},\n",
       "             pre_dispatch='2*n_jobs', refit=True, return_train_score=False,\n",
       "             scoring=None, verbose=1)"
      ]
     },
     "execution_count": 28,
     "metadata": {},
     "output_type": "execute_result"
    }
   ],
   "source": [
    "from sklearn.ensemble import ExtraTreesRegressor, ExtraTreesClassifier\n",
    "rfr = ExtraTreesRegressor(random_state=3, n_jobs=-1)\n",
    "rfr_params = {'n_estimators': [500, 750, 1000]}\n",
    "\n",
    "rfr_gs = GridSearchCV(rfr, rfr_params, n_jobs=-1, cv=3, verbose=1)\n",
    "rfr_gs.fit(x_train, y_train)"
   ]
  },
  {
   "cell_type": "code",
   "execution_count": 29,
   "metadata": {},
   "outputs": [
    {
     "name": "stdout",
     "output_type": "stream",
     "text": [
      "{'n_estimators': 750}\n",
      "-0.09352161085430069\n"
     ]
    }
   ],
   "source": [
    "best_rfr = rfr_gs.best_estimator_\n",
    "print(rfr_gs.best_params_)\n",
    "print(rfr_gs.best_score_)"
   ]
  },
  {
   "cell_type": "markdown",
   "metadata": {},
   "source": [
    "**Decision Tree Regressor**"
   ]
  },
  {
   "cell_type": "code",
   "execution_count": 30,
   "metadata": {},
   "outputs": [
    {
     "name": "stdout",
     "output_type": "stream",
     "text": [
      "Fitting 5 folds for each of 847 candidates, totalling 4235 fits\n"
     ]
    },
    {
     "name": "stderr",
     "output_type": "stream",
     "text": [
      "[Parallel(n_jobs=-1)]: Using backend LokyBackend with 8 concurrent workers.\n",
      "[Parallel(n_jobs=-1)]: Done 592 tasks      | elapsed:    0.7s\n",
      "[Parallel(n_jobs=-1)]: Done 4235 out of 4235 | elapsed:    3.6s finished\n"
     ]
    },
    {
     "data": {
      "text/plain": [
       "GridSearchCV(cv=5, error_score='raise-deprecating',\n",
       "             estimator=DecisionTreeRegressor(criterion='mse', max_depth=None,\n",
       "                                             max_features=None,\n",
       "                                             max_leaf_nodes=None,\n",
       "                                             min_impurity_decrease=0.0,\n",
       "                                             min_impurity_split=None,\n",
       "                                             min_samples_leaf=1,\n",
       "                                             min_samples_split=2,\n",
       "                                             min_weight_fraction_leaf=0.0,\n",
       "                                             presort=False, random_state=None,\n",
       "                                             splitter='best'),\n",
       "             iid='warn', n_jobs=-1,\n",
       "             param_grid={'max_depth': [None, 1, 2, 3, 4, 5, 6, 7, 8, 9, 10],\n",
       "                         'max_features': [None, 'log2', 'sqrt', 2, 3, 4, 5],\n",
       "                         'min_samples_split': [2, 3, 4, 5, 10, 15, 20, 25, 30,\n",
       "                                               40, 50]},\n",
       "             pre_dispatch='2*n_jobs', refit=True, return_train_score=False,\n",
       "             scoring=None, verbose=1)"
      ]
     },
     "execution_count": 30,
     "metadata": {},
     "output_type": "execute_result"
    }
   ],
   "source": [
    "# Perform a gridsearch to get the optimal hyperparameters for our decision tree model, based on ou X and Y variables\n",
    "\n",
    "dtr_params = {\n",
    "    'max_depth':[None,1,2,3,4,5,6,7,8,9,10],\n",
    "    'max_features':[None,'log2','sqrt',2,3,4,5],\n",
    "    'min_samples_split':[2,3,4,5,10,15,20,25,30,40,50]\n",
    "}\n",
    "\n",
    "dtr = DecisionTreeRegressor()\n",
    "dtr_gs = GridSearchCV(dtr, dtr_params, cv=5, n_jobs=-1, verbose=1, refit=True)\n",
    "\n",
    "# Fit the data to the gridsearch\n",
    "dtr_gs.fit(x, y)"
   ]
  },
  {
   "cell_type": "code",
   "execution_count": 31,
   "metadata": {},
   "outputs": [
    {
     "name": "stdout",
     "output_type": "stream",
     "text": [
      "{'max_depth': 3, 'max_features': 5, 'min_samples_split': 15}\n",
      "-0.03214092206828861\n"
     ]
    }
   ],
   "source": [
    "best_dtr = dtr_gs.best_estimator_\n",
    "print(dtr_gs.best_params_)\n",
    "print(dtr_gs.best_score_)"
   ]
  },
  {
   "cell_type": "markdown",
   "metadata": {},
   "source": [
    "**Evaluation of Models**"
   ]
  },
  {
   "cell_type": "code",
   "execution_count": 32,
   "metadata": {},
   "outputs": [
    {
     "data": {
      "text/html": [
       "<div>\n",
       "<style scoped>\n",
       "    .dataframe tbody tr th:only-of-type {\n",
       "        vertical-align: middle;\n",
       "    }\n",
       "\n",
       "    .dataframe tbody tr th {\n",
       "        vertical-align: top;\n",
       "    }\n",
       "\n",
       "    .dataframe thead th {\n",
       "        text-align: right;\n",
       "    }\n",
       "</style>\n",
       "<table border=\"1\" class=\"dataframe\">\n",
       "  <thead>\n",
       "    <tr style=\"text-align: right;\">\n",
       "      <th></th>\n",
       "      <th>Regressor</th>\n",
       "      <th>Training Accuracy (using CV)</th>\n",
       "      <th>Testing Accuracy</th>\n",
       "    </tr>\n",
       "  </thead>\n",
       "  <tbody>\n",
       "    <tr>\n",
       "      <th>3</th>\n",
       "      <td>DTR</td>\n",
       "      <td>-0.032</td>\n",
       "      <td>0.005</td>\n",
       "    </tr>\n",
       "    <tr>\n",
       "      <th>2</th>\n",
       "      <td>ExtraTreesRegressor</td>\n",
       "      <td>-0.094</td>\n",
       "      <td>-0.237</td>\n",
       "    </tr>\n",
       "    <tr>\n",
       "      <th>0</th>\n",
       "      <td>KNN</td>\n",
       "      <td>0.052</td>\n",
       "      <td>0.071</td>\n",
       "    </tr>\n",
       "    <tr>\n",
       "      <th>1</th>\n",
       "      <td>SVR</td>\n",
       "      <td>-0.024</td>\n",
       "      <td>-0.035</td>\n",
       "    </tr>\n",
       "  </tbody>\n",
       "</table>\n",
       "</div>"
      ],
      "text/plain": [
       "             Regressor  Training Accuracy (using CV)  Testing Accuracy\n",
       "3                  DTR                        -0.032             0.005\n",
       "2  ExtraTreesRegressor                        -0.094            -0.237\n",
       "0                  KNN                         0.052             0.071\n",
       "1                  SVR                        -0.024            -0.035"
      ]
     },
     "execution_count": 32,
     "metadata": {},
     "output_type": "execute_result"
    }
   ],
   "source": [
    "evaluation = pd.DataFrame()\n",
    "evaluation['Regressor'] = ['KNN', 'SVR', 'ExtraTreesRegressor', 'DTR']\n",
    "evaluation['Training Accuracy (using CV)'] = [round(knn_gs.best_score_,3),\n",
    "                                             round(svr_gs.best_score_, 3),\n",
    "                                             \n",
    "                                             round(rfr_gs.best_score_, 3),\n",
    "                                             round(dtr_gs.best_score_, 3)] \n",
    "evaluation['Testing Accuracy'] = [\n",
    "                                round(knn_best.score(x_test, y_test), 3),\n",
    "                                round(best_svr.score(x_test, y_test), 3),\n",
    "                                round(best_rfr.score(x_test, y_test), 3),\n",
    "                                round(best_dtr.score(x_test, y_test), 3)] \n",
    "evaluation.sort_values(by= 'Regressor', inplace = False)"
   ]
  },
  {
   "cell_type": "markdown",
   "metadata": {},
   "source": [
    "Above, I have tried regression models by imputing salary values. \n",
    "\n",
    "Next, I will be trying classification model by giving low and high salary threshold"
   ]
  },
  {
   "cell_type": "markdown",
   "metadata": {},
   "source": [
    "**NLP of Job Description**"
   ]
  },
  {
   "cell_type": "code",
   "execution_count": 33,
   "metadata": {},
   "outputs": [],
   "source": [
    "from nltk.tokenize import RegexpTokenizer"
   ]
  },
  {
   "cell_type": "code",
   "execution_count": 34,
   "metadata": {},
   "outputs": [],
   "source": [
    "from nltk.tokenize import word_tokenize\n",
    "from nltk.stem import WordNetLemmatizer\n",
    "from nltk.corpus import stopwords\n",
    "from nltk.tokenize import RegexpTokenizer\n",
    "import re\n",
    "\n",
    "#tokenize words\n",
    "seek['tokens'] = seek.Job_Description.apply(lambda x: [w for w in word_tokenize(x.lower()) if w.isalpha()])\n",
    "\n",
    "#remove words over 9 characters long\n",
    "seek['s_tokens'] =seek.tokens.apply(lambda x: [word for word in x if len(word) <= 7])\n",
    "\n",
    "# Remove stop words\n",
    "seek['noStops'] = seek.s_tokens.apply(lambda x: [w for w in x if w not in stopwords.words('english')])\n",
    "\n",
    "# Instantiate the WordNetLemmatizer\n",
    "wordnet_lemmatizer = WordNetLemmatizer()\n",
    "\n",
    "# Lemmatize\n",
    "seek['lemmatized'] = seek.noStops.apply(lambda x: [wordnet_lemmatizer.lemmatize(w) for w in x])\n",
    "\n",
    "# Put it all together in a single string\n",
    "seek['lemmatizedStr'] = seek.lemmatized.apply(lambda x: ' '.join(x))"
   ]
  },
  {
   "cell_type": "code",
   "execution_count": 35,
   "metadata": {},
   "outputs": [
    {
     "data": {
      "text/html": [
       "<div>\n",
       "<style scoped>\n",
       "    .dataframe tbody tr th:only-of-type {\n",
       "        vertical-align: middle;\n",
       "    }\n",
       "\n",
       "    .dataframe tbody tr th {\n",
       "        vertical-align: top;\n",
       "    }\n",
       "\n",
       "    .dataframe thead th {\n",
       "        text-align: right;\n",
       "    }\n",
       "</style>\n",
       "<table border=\"1\" class=\"dataframe\">\n",
       "  <thead>\n",
       "    <tr style=\"text-align: right;\">\n",
       "      <th></th>\n",
       "      <th>tokens</th>\n",
       "      <th>s_tokens</th>\n",
       "      <th>noStops</th>\n",
       "      <th>lemmatized</th>\n",
       "      <th>lemmatizedStr</th>\n",
       "    </tr>\n",
       "  </thead>\n",
       "  <tbody>\n",
       "    <tr>\n",
       "      <th>136</th>\n",
       "      <td>[a, global, leader, in, consulting, technology...</td>\n",
       "      <td>[a, global, leader, in, and, digital, the, gro...</td>\n",
       "      <td>[global, leader, digital, group, address, enti...</td>\n",
       "      <td>[global, leader, digital, group, address, enti...</td>\n",
       "      <td>global leader digital group address entire bre...</td>\n",
       "    </tr>\n",
       "    <tr>\n",
       "      <th>580</th>\n",
       "      <td>[due, to, a, spike, in, potential, lending, op...</td>\n",
       "      <td>[due, to, a, spike, in, lending, my, client, h...</td>\n",
       "      <td>[due, spike, lending, client, work, flow, issu...</td>\n",
       "      <td>[due, spike, lending, client, work, flow, issu...</td>\n",
       "      <td>due spike lending client work flow issue need ...</td>\n",
       "    </tr>\n",
       "    <tr>\n",
       "      <th>720</th>\n",
       "      <td>[month, contract, federal, government, agency,...</td>\n",
       "      <td>[month, federal, agency, desired, about, the, ...</td>\n",
       "      <td>[month, federal, agency, desired, group, feder...</td>\n",
       "      <td>[month, federal, agency, desired, group, feder...</td>\n",
       "      <td>month federal agency desired group federal age...</td>\n",
       "    </tr>\n",
       "    <tr>\n",
       "      <th>1401</th>\n",
       "      <td>[role, purpose, to, use, your, significant, an...</td>\n",
       "      <td>[role, purpose, to, use, your, and, bi, to, an...</td>\n",
       "      <td>[role, purpose, use, bi, analyse, plan, lead, ...</td>\n",
       "      <td>[role, purpose, use, bi, analyse, plan, lead, ...</td>\n",
       "      <td>role purpose use bi analyse plan lead bi proje...</td>\n",
       "    </tr>\n",
       "    <tr>\n",
       "      <th>1081</th>\n",
       "      <td>[about, sigma, healthcare, sigma, healthcare, ...</td>\n",
       "      <td>[about, sigma, sigma, is, a, leading, full, li...</td>\n",
       "      <td>[sigma, sigma, leading, full, line, operate, n...</td>\n",
       "      <td>[sigma, sigma, leading, full, line, operate, n...</td>\n",
       "      <td>sigma sigma leading full line operate network ...</td>\n",
       "    </tr>\n",
       "    <tr>\n",
       "      <th>886</th>\n",
       "      <td>[we, are, looking, for, a, quantitative, analy...</td>\n",
       "      <td>[we, are, looking, for, a, analyst, to, join, ...</td>\n",
       "      <td>[looking, analyst, join, team, key, role, data...</td>\n",
       "      <td>[looking, analyst, join, team, key, role, data...</td>\n",
       "      <td>looking analyst join team key role data across...</td>\n",
       "    </tr>\n",
       "    <tr>\n",
       "      <th>1378</th>\n",
       "      <td>[business, analyst, at, a, nfp, organisation, ...</td>\n",
       "      <td>[analyst, at, a, nfp, your, new, company, a, n...</td>\n",
       "      <td>[analyst, nfp, new, company, nfp, based, looki...</td>\n",
       "      <td>[analyst, nfp, new, company, nfp, based, looki...</td>\n",
       "      <td>analyst nfp new company nfp based looking anal...</td>\n",
       "    </tr>\n",
       "    <tr>\n",
       "      <th>397</th>\n",
       "      <td>[company, overviewan, exciting, opportunity, e...</td>\n",
       "      <td>[company, exists, to, join, a, wealth, company...</td>\n",
       "      <td>[company, exists, join, wealth, company, withi...</td>\n",
       "      <td>[company, exists, join, wealth, company, withi...</td>\n",
       "      <td>company exists join wealth company within team...</td>\n",
       "    </tr>\n",
       "    <tr>\n",
       "      <th>985</th>\n",
       "      <td>[the, companya, financial, institution, is, se...</td>\n",
       "      <td>[the, is, seeking, to, work, on, a, analyst, w...</td>\n",
       "      <td>[seeking, work, analyst, work, aim, support, a...</td>\n",
       "      <td>[seeking, work, analyst, work, aim, support, a...</td>\n",
       "      <td>seeking work analyst work aim support analyst ...</td>\n",
       "    </tr>\n",
       "    <tr>\n",
       "      <th>759</th>\n",
       "      <td>[the, role, melbourne, cbd, location, competit...</td>\n",
       "      <td>[the, role, cbd, salary, month, fixed, term, r...</td>\n",
       "      <td>[role, cbd, salary, month, fixed, term, racv, ...</td>\n",
       "      <td>[role, cbd, salary, month, fixed, term, racv, ...</td>\n",
       "      <td>role cbd salary month fixed term racv growth t...</td>\n",
       "    </tr>\n",
       "  </tbody>\n",
       "</table>\n",
       "</div>"
      ],
      "text/plain": [
       "                                                 tokens  \\\n",
       "136   [a, global, leader, in, consulting, technology...   \n",
       "580   [due, to, a, spike, in, potential, lending, op...   \n",
       "720   [month, contract, federal, government, agency,...   \n",
       "1401  [role, purpose, to, use, your, significant, an...   \n",
       "1081  [about, sigma, healthcare, sigma, healthcare, ...   \n",
       "886   [we, are, looking, for, a, quantitative, analy...   \n",
       "1378  [business, analyst, at, a, nfp, organisation, ...   \n",
       "397   [company, overviewan, exciting, opportunity, e...   \n",
       "985   [the, companya, financial, institution, is, se...   \n",
       "759   [the, role, melbourne, cbd, location, competit...   \n",
       "\n",
       "                                               s_tokens  \\\n",
       "136   [a, global, leader, in, and, digital, the, gro...   \n",
       "580   [due, to, a, spike, in, lending, my, client, h...   \n",
       "720   [month, federal, agency, desired, about, the, ...   \n",
       "1401  [role, purpose, to, use, your, and, bi, to, an...   \n",
       "1081  [about, sigma, sigma, is, a, leading, full, li...   \n",
       "886   [we, are, looking, for, a, analyst, to, join, ...   \n",
       "1378  [analyst, at, a, nfp, your, new, company, a, n...   \n",
       "397   [company, exists, to, join, a, wealth, company...   \n",
       "985   [the, is, seeking, to, work, on, a, analyst, w...   \n",
       "759   [the, role, cbd, salary, month, fixed, term, r...   \n",
       "\n",
       "                                                noStops  \\\n",
       "136   [global, leader, digital, group, address, enti...   \n",
       "580   [due, spike, lending, client, work, flow, issu...   \n",
       "720   [month, federal, agency, desired, group, feder...   \n",
       "1401  [role, purpose, use, bi, analyse, plan, lead, ...   \n",
       "1081  [sigma, sigma, leading, full, line, operate, n...   \n",
       "886   [looking, analyst, join, team, key, role, data...   \n",
       "1378  [analyst, nfp, new, company, nfp, based, looki...   \n",
       "397   [company, exists, join, wealth, company, withi...   \n",
       "985   [seeking, work, analyst, work, aim, support, a...   \n",
       "759   [role, cbd, salary, month, fixed, term, racv, ...   \n",
       "\n",
       "                                             lemmatized  \\\n",
       "136   [global, leader, digital, group, address, enti...   \n",
       "580   [due, spike, lending, client, work, flow, issu...   \n",
       "720   [month, federal, agency, desired, group, feder...   \n",
       "1401  [role, purpose, use, bi, analyse, plan, lead, ...   \n",
       "1081  [sigma, sigma, leading, full, line, operate, n...   \n",
       "886   [looking, analyst, join, team, key, role, data...   \n",
       "1378  [analyst, nfp, new, company, nfp, based, looki...   \n",
       "397   [company, exists, join, wealth, company, withi...   \n",
       "985   [seeking, work, analyst, work, aim, support, a...   \n",
       "759   [role, cbd, salary, month, fixed, term, racv, ...   \n",
       "\n",
       "                                          lemmatizedStr  \n",
       "136   global leader digital group address entire bre...  \n",
       "580   due spike lending client work flow issue need ...  \n",
       "720   month federal agency desired group federal age...  \n",
       "1401  role purpose use bi analyse plan lead bi proje...  \n",
       "1081  sigma sigma leading full line operate network ...  \n",
       "886   looking analyst join team key role data across...  \n",
       "1378  analyst nfp new company nfp based looking anal...  \n",
       "397   company exists join wealth company within team...  \n",
       "985   seeking work analyst work aim support analyst ...  \n",
       "759   role cbd salary month fixed term racv growth t...  "
      ]
     },
     "execution_count": 35,
     "metadata": {},
     "output_type": "execute_result"
    }
   ],
   "source": [
    "seek[['tokens', 's_tokens', 'noStops', 'lemmatized','lemmatizedStr']].sample(10)"
   ]
  },
  {
   "cell_type": "markdown",
   "metadata": {},
   "source": [
    "Now, I will use a classifier model"
   ]
  },
  {
   "cell_type": "code",
   "execution_count": 36,
   "metadata": {},
   "outputs": [
    {
     "data": {
      "text/plain": [
       "70000-120000     656\n",
       "120000-999999    466\n",
       "0-70000          315\n",
       "Name: Salary_Range, dtype: int64"
      ]
     },
     "execution_count": 36,
     "metadata": {},
     "output_type": "execute_result"
    }
   ],
   "source": [
    "seek.Salary_Range.value_counts(sort=True)"
   ]
  },
  {
   "cell_type": "code",
   "execution_count": 37,
   "metadata": {},
   "outputs": [
    {
     "data": {
      "text/plain": [
       "1437"
      ]
     },
     "execution_count": 37,
     "metadata": {},
     "output_type": "execute_result"
    }
   ],
   "source": [
    "seek.Salary_Range.value_counts().sum()"
   ]
  },
  {
   "cell_type": "code",
   "execution_count": 38,
   "metadata": {},
   "outputs": [
    {
     "data": {
      "text/plain": [
       "0"
      ]
     },
     "execution_count": 38,
     "metadata": {},
     "output_type": "execute_result"
    }
   ],
   "source": [
    "seek.Salary_Range.isnull().sum()"
   ]
  },
  {
   "cell_type": "markdown",
   "metadata": {},
   "source": [
    "For the salary range, I will make the average value. For lower and below salary range, will take the value just above or below the range."
   ]
  },
  {
   "cell_type": "code",
   "execution_count": 39,
   "metadata": {},
   "outputs": [],
   "source": [
    "salary_range_map = {'70000-120000': 95000, '120000-999999': 140000, '0-70000': 60000}\n",
    "\n",
    "seek['Salary_Range'] = seek.Salary_Range.map(salary_range_map)"
   ]
  },
  {
   "cell_type": "code",
   "execution_count": 40,
   "metadata": {},
   "outputs": [],
   "source": [
    "salary_threshold = []\n",
    "for salary in seek.Salary_Range:\n",
    "    if salary < 115000:\n",
    "        salary_threshold.append('lower_threshold')\n",
    "    else:\n",
    "        salary_threshold.append('upper_threshold')\n",
    "    \n",
    "seek['salary_threshold'] = salary_threshold"
   ]
  },
  {
   "cell_type": "code",
   "execution_count": 41,
   "metadata": {},
   "outputs": [],
   "source": [
    "word_data = seek[['salary_threshold','lemmatizedStr','Classification','Location']]"
   ]
  },
  {
   "cell_type": "code",
   "execution_count": 42,
   "metadata": {},
   "outputs": [],
   "source": [
    "salary_threshold_map = {\n",
    "                        'lower_threshold' : 0,\n",
    "                        'upper_threshold' : 1}\n",
    "\n",
    "word_data['salary_threshold'] = word_data.salary_threshold.map(salary_threshold_map)"
   ]
  },
  {
   "cell_type": "code",
   "execution_count": 43,
   "metadata": {},
   "outputs": [
    {
     "data": {
      "text/html": [
       "<div>\n",
       "<style scoped>\n",
       "    .dataframe tbody tr th:only-of-type {\n",
       "        vertical-align: middle;\n",
       "    }\n",
       "\n",
       "    .dataframe tbody tr th {\n",
       "        vertical-align: top;\n",
       "    }\n",
       "\n",
       "    .dataframe thead th {\n",
       "        text-align: right;\n",
       "    }\n",
       "</style>\n",
       "<table border=\"1\" class=\"dataframe\">\n",
       "  <thead>\n",
       "    <tr style=\"text-align: right;\">\n",
       "      <th></th>\n",
       "      <th>salary_threshold</th>\n",
       "      <th>lemmatizedStr</th>\n",
       "      <th>Classification</th>\n",
       "      <th>Location</th>\n",
       "    </tr>\n",
       "  </thead>\n",
       "  <tbody>\n",
       "    <tr>\n",
       "      <th>0</th>\n",
       "      <td>0</td>\n",
       "      <td>junior data sydney cbd grow ideal recent year ...</td>\n",
       "      <td>Information &amp; Communication Technology</td>\n",
       "      <td>Sydney</td>\n",
       "    </tr>\n",
       "    <tr>\n",
       "      <th>1</th>\n",
       "      <td>0</td>\n",
       "      <td>data data looking next step career working dat...</td>\n",
       "      <td>Banking &amp; Financial Services</td>\n",
       "      <td>Sydney</td>\n",
       "    </tr>\n",
       "    <tr>\n",
       "      <th>2</th>\n",
       "      <td>0</td>\n",
       "      <td>jobin role could main area centre allow develo...</td>\n",
       "      <td>Science &amp; Technology</td>\n",
       "      <td>Melbourne</td>\n",
       "    </tr>\n",
       "    <tr>\n",
       "      <th>3</th>\n",
       "      <td>0</td>\n",
       "      <td>jobin role could main area centre allow develo...</td>\n",
       "      <td>Education &amp; Training</td>\n",
       "      <td>Melbourne</td>\n",
       "    </tr>\n",
       "    <tr>\n",
       "      <th>4</th>\n",
       "      <td>0</td>\n",
       "      <td>salary suit apple hp lenovo see data wish woul...</td>\n",
       "      <td>Consulting &amp; Strategy</td>\n",
       "      <td>Melbourne</td>\n",
       "    </tr>\n",
       "  </tbody>\n",
       "</table>\n",
       "</div>"
      ],
      "text/plain": [
       "   salary_threshold                                      lemmatizedStr  \\\n",
       "0                 0  junior data sydney cbd grow ideal recent year ...   \n",
       "1                 0  data data looking next step career working dat...   \n",
       "2                 0  jobin role could main area centre allow develo...   \n",
       "3                 0  jobin role could main area centre allow develo...   \n",
       "4                 0  salary suit apple hp lenovo see data wish woul...   \n",
       "\n",
       "                           Classification   Location  \n",
       "0  Information & Communication Technology     Sydney  \n",
       "1            Banking & Financial Services     Sydney  \n",
       "2                    Science & Technology  Melbourne  \n",
       "3                    Education & Training  Melbourne  \n",
       "4                   Consulting & Strategy  Melbourne  "
      ]
     },
     "execution_count": 43,
     "metadata": {},
     "output_type": "execute_result"
    }
   ],
   "source": [
    "word_data.head()"
   ]
  },
  {
   "cell_type": "code",
   "execution_count": 44,
   "metadata": {},
   "outputs": [
    {
     "data": {
      "text/html": [
       "<div>\n",
       "<style scoped>\n",
       "    .dataframe tbody tr th:only-of-type {\n",
       "        vertical-align: middle;\n",
       "    }\n",
       "\n",
       "    .dataframe tbody tr th {\n",
       "        vertical-align: top;\n",
       "    }\n",
       "\n",
       "    .dataframe thead th {\n",
       "        text-align: right;\n",
       "    }\n",
       "</style>\n",
       "<table border=\"1\" class=\"dataframe\">\n",
       "  <thead>\n",
       "    <tr style=\"text-align: right;\">\n",
       "      <th></th>\n",
       "      <th>salary_threshold</th>\n",
       "      <th>lemmatizedStr</th>\n",
       "      <th>Classification</th>\n",
       "      <th>Location</th>\n",
       "    </tr>\n",
       "  </thead>\n",
       "  <tbody>\n",
       "    <tr>\n",
       "      <th>1432</th>\n",
       "      <td>1</td>\n",
       "      <td>ayan urgent data role must full work right job...</td>\n",
       "      <td>Information &amp; Communication Technology</td>\n",
       "      <td>Melbourne</td>\n",
       "    </tr>\n",
       "    <tr>\n",
       "      <th>1433</th>\n",
       "      <td>1</td>\n",
       "      <td>conduct system remedy gap engage resolve issue...</td>\n",
       "      <td>Information &amp; Communication Technology</td>\n",
       "      <td>Melbourne</td>\n",
       "    </tr>\n",
       "    <tr>\n",
       "      <th>1434</th>\n",
       "      <td>1</td>\n",
       "      <td>cx leading contact centre partner leading acro...</td>\n",
       "      <td>Banking &amp; Financial Services</td>\n",
       "      <td>Sydney</td>\n",
       "    </tr>\n",
       "    <tr>\n",
       "      <th>1435</th>\n",
       "      <td>1</td>\n",
       "      <td>analyst thrive highly variety working product ...</td>\n",
       "      <td>Information &amp; Communication Technology</td>\n",
       "      <td>Brisbane</td>\n",
       "    </tr>\n",
       "    <tr>\n",
       "      <th>1436</th>\n",
       "      <td>1</td>\n",
       "      <td>month initial based defense best company clien...</td>\n",
       "      <td>Information &amp; Communication Technology</td>\n",
       "      <td>Adelaide</td>\n",
       "    </tr>\n",
       "  </tbody>\n",
       "</table>\n",
       "</div>"
      ],
      "text/plain": [
       "      salary_threshold                                      lemmatizedStr  \\\n",
       "1432                 1  ayan urgent data role must full work right job...   \n",
       "1433                 1  conduct system remedy gap engage resolve issue...   \n",
       "1434                 1  cx leading contact centre partner leading acro...   \n",
       "1435                 1  analyst thrive highly variety working product ...   \n",
       "1436                 1  month initial based defense best company clien...   \n",
       "\n",
       "                              Classification   Location  \n",
       "1432  Information & Communication Technology  Melbourne  \n",
       "1433  Information & Communication Technology  Melbourne  \n",
       "1434            Banking & Financial Services     Sydney  \n",
       "1435  Information & Communication Technology   Brisbane  \n",
       "1436  Information & Communication Technology   Adelaide  "
      ]
     },
     "execution_count": 44,
     "metadata": {},
     "output_type": "execute_result"
    }
   ],
   "source": [
    "word_data.tail()"
   ]
  },
  {
   "cell_type": "markdown",
   "metadata": {},
   "source": [
    "**Converting Words to Numerical Data**\n",
    "\n",
    "Models work with only numerical data. So, TfidfVectorizer and CountVectorizer both are methods used for converting text data into vectors.\n",
    "\n",
    "TFIDFVectorizer measures value which increases proportionally to count, but is offset by the frequency of the word in the corpus\n",
    "CountVectorizer counts the word frequencies\n"
   ]
  },
  {
   "cell_type": "markdown",
   "metadata": {},
   "source": [
    "**Hashing and TF-IDF**"
   ]
  },
  {
   "cell_type": "code",
   "execution_count": 45,
   "metadata": {},
   "outputs": [],
   "source": [
    "stop_words = ('people', 'client', 'using', 'please', 'apply', 'science', 'data', 'year', 'need', 'process',\n",
    "             'within', 'across', 'support', 'working', 'set', 'system', 'part', 'company', 'ensure', 'join',\n",
    "             'looking', 'provide', 'include', 'level', 'tool', 'contact', 'key', 'change', 'deliver', 'new',\n",
    "             'based', 'ability', 'use', 'user', 'market', 'project', 'group', 'product', 'service', 'range',\n",
    "             'report', 'career', 'highly', 'develop', 'make', 'month', 'well', 'leading', 'offer', 'world',\n",
    "             'end', 'one', 'build', 'big', 'help', 'best', 'source', 'also', 'value', 'assist', 'drive', 'like',\n",
    "             'sydney', 'via', 'would', 'excel', 'must', 'click', 'plan', 'field', 'high', 'good', 'method', 'making', 'submit',\n",
    "             'online', 'member', 'life')"
   ]
  },
  {
   "cell_type": "code",
   "execution_count": 46,
   "metadata": {},
   "outputs": [],
   "source": [
    "from sklearn.model_selection import train_test_split\n",
    "X = word_data.lemmatizedStr\n",
    "y = word_data.salary_threshold\n",
    "X_train, X_test, y_train, y_test = train_test_split(X, y, stratify=y, random_state=42)"
   ]
  },
  {
   "cell_type": "code",
   "execution_count": 47,
   "metadata": {},
   "outputs": [
    {
     "name": "stdout",
     "output_type": "stream",
     "text": [
      "['aami', 'aaron', 'aasifa', 'ab', 'abhinav', 'abide', 'abigail', 'able', 'abreast', 'abroad']\n",
      "[[0. 0. 0. ... 0. 0. 0.]\n",
      " [0. 0. 0. ... 0. 0. 0.]\n",
      " [0. 0. 0. ... 0. 0. 0.]\n",
      " [0. 0. 0. ... 0. 0. 0.]\n",
      " [0. 0. 0. ... 0. 0. 0.]]\n"
     ]
    }
   ],
   "source": [
    "from sklearn.feature_extraction.text import TfidfVectorizer\n",
    "\n",
    "tfidf_vectorizer = TfidfVectorizer(max_df=0.7, stop_words=stop_words)\n",
    "tfidf_train_fit = tfidf_vectorizer.fit(X_train)\n",
    "tfidf_train = tfidf_vectorizer.transform(X_train)\n",
    "\n",
    "tfidf_test = tfidf_vectorizer.transform(X_test)\n",
    "print(tfidf_vectorizer.get_feature_names()[:10])\n",
    "\n",
    "# Print the first 5 vectors of the tfidf training data\n",
    "print(tfidf_train.A[:5])"
   ]
  },
  {
   "cell_type": "code",
   "execution_count": 48,
   "metadata": {},
   "outputs": [],
   "source": [
    "tfidf_X = tfidf_vectorizer.transform(X)"
   ]
  },
  {
   "cell_type": "markdown",
   "metadata": {},
   "source": [
    "**TF-IDF and Logistic Regression**"
   ]
  },
  {
   "cell_type": "code",
   "execution_count": 49,
   "metadata": {},
   "outputs": [],
   "source": [
    "from sklearn.linear_model import LogisticRegression\n",
    "lr = LogisticRegression(C=0.03, class_weight='balanced', solver='newton-cg', random_state=42)\n",
    "lr.fit(tfidf_train, y_train)\n",
    "y_predicted_counts = lr.predict(tfidf_test)"
   ]
  },
  {
   "cell_type": "code",
   "execution_count": 50,
   "metadata": {},
   "outputs": [
    {
     "name": "stdout",
     "output_type": "stream",
     "text": [
      "=== Classification Report ===\n",
      "              precision    recall  f1-score   support\n",
      "\n",
      "           0       0.79      0.76      0.77       243\n",
      "           1       0.54      0.57      0.55       117\n",
      "\n",
      "    accuracy                           0.70       360\n",
      "   macro avg       0.66      0.67      0.66       360\n",
      "weighted avg       0.71      0.70      0.70       360\n",
      "\n"
     ]
    }
   ],
   "source": [
    "from sklearn.metrics import classification_report, roc_auc_score\n",
    "print(\"=== Classification Report ===\")\n",
    "print(classification_report(y_test, y_predicted_counts))"
   ]
  },
  {
   "cell_type": "code",
   "execution_count": 51,
   "metadata": {},
   "outputs": [
    {
     "name": "stdout",
     "output_type": "stream",
     "text": [
      "0.6669832225387781\n"
     ]
    }
   ],
   "source": [
    "from sklearn.metrics import roc_auc_score\n",
    "roc_test_tfidf_lr = roc_auc_score(y_test, y_predicted_counts)\n",
    "print(roc_auc_score(y_test, y_predicted_counts))"
   ]
  },
  {
   "cell_type": "code",
   "execution_count": 52,
   "metadata": {},
   "outputs": [
    {
     "name": "stdout",
     "output_type": "stream",
     "text": [
      "[CV]  ................................................................\n",
      "[CV] ................................................. , total=   0.0s\n",
      "[CV]  ................................................................\n",
      "[CV] ................................................. , total=   0.0s\n",
      "[CV]  ................................................................\n",
      "[CV] ................................................. , total=   0.0s\n",
      "[CV]  ................................................................\n",
      "[CV] ................................................. , total=   0.0s\n",
      "[CV]  ................................................................\n",
      "[CV] ................................................. , total=   0.0s\n",
      "[CV]  ................................................................\n",
      "[CV] ................................................. , total=   0.0s\n",
      "[CV]  ................................................................\n",
      "[CV] ................................................. , total=   0.0s\n",
      "[CV]  ................................................................\n",
      "[CV] ................................................. , total=   0.0s\n",
      "[CV]  ................................................................\n",
      "[CV] ................................................. , total=   0.0s\n",
      "[CV]  ................................................................\n",
      "[CV] ................................................. , total=   0.0s\n",
      "Cross Validation 10 fold ROC_AUC mean is 0.7534808143958157\n"
     ]
    },
    {
     "name": "stderr",
     "output_type": "stream",
     "text": [
      "[Parallel(n_jobs=1)]: Using backend SequentialBackend with 1 concurrent workers.\n",
      "[Parallel(n_jobs=1)]: Done   1 out of   1 | elapsed:    0.0s remaining:    0.0s\n",
      "[Parallel(n_jobs=1)]: Done  10 out of  10 | elapsed:    0.2s finished\n"
     ]
    }
   ],
   "source": [
    "\n",
    "from sklearn.model_selection import cross_val_score\n",
    "cv_results_tfidf_lr = cross_val_score(lr, tfidf_X, y,\n",
    "                             cv = 10, #10 folds\n",
    "                             scoring = \"roc_auc\",\n",
    "                             verbose = 2\n",
    "                            )\n",
    "print('Cross Validation 10 fold ROC_AUC mean is',cv_results_tfidf_lr.mean())"
   ]
  },
  {
   "cell_type": "markdown",
   "metadata": {},
   "source": [
    "TF-IDF and Random FOrest Classifier"
   ]
  },
  {
   "cell_type": "code",
   "execution_count": 53,
   "metadata": {},
   "outputs": [
    {
     "name": "stdout",
     "output_type": "stream",
     "text": [
      "[[217  26]\n",
      " [ 78  39]]\n"
     ]
    }
   ],
   "source": [
    "from sklearn.metrics import classification_report, roc_auc_score\n",
    "import sklearn.metrics as metrics\n",
    "from sklearn.ensemble import RandomForestClassifier\n",
    "rfc = RandomForestClassifier()\n",
    "\n",
    "rfc.fit(tfidf_train, y_train)\n",
    "test_pred_rfc = rfc.predict(tfidf_test)\n",
    "\n",
    "cm = metrics.confusion_matrix(y_test, test_pred_rfc)\n",
    "print(cm)"
   ]
  },
  {
   "cell_type": "code",
   "execution_count": 54,
   "metadata": {},
   "outputs": [
    {
     "name": "stdout",
     "output_type": "stream",
     "text": [
      "= Classification Report =\n",
      "              precision    recall  f1-score   support\n",
      "\n",
      "           0       0.74      0.89      0.81       243\n",
      "           1       0.60      0.33      0.43       117\n",
      "\n",
      "    accuracy                           0.71       360\n",
      "   macro avg       0.67      0.61      0.62       360\n",
      "weighted avg       0.69      0.71      0.68       360\n",
      "\n"
     ]
    }
   ],
   "source": [
    "print(\"= Classification Report =\")\n",
    "print(classification_report(y_test, test_pred_rfc))"
   ]
  },
  {
   "cell_type": "code",
   "execution_count": 55,
   "metadata": {},
   "outputs": [
    {
     "name": "stdout",
     "output_type": "stream",
     "text": [
      "0.6131687242798354\n"
     ]
    }
   ],
   "source": [
    "roc_test_tfidf_rfc = roc_auc_score(y_test, test_pred_rfc)\n",
    "print(roc_auc_score(y_test, test_pred_rfc))"
   ]
  },
  {
   "cell_type": "code",
   "execution_count": 56,
   "metadata": {},
   "outputs": [
    {
     "name": "stdout",
     "output_type": "stream",
     "text": [
      "[CV]  ................................................................\n",
      "[CV] ................................................. , total=   0.1s\n",
      "[CV]  ................................................................\n",
      "[CV] ................................................. , total=   0.1s\n",
      "[CV]  ................................................................\n"
     ]
    },
    {
     "name": "stderr",
     "output_type": "stream",
     "text": [
      "[Parallel(n_jobs=1)]: Using backend SequentialBackend with 1 concurrent workers.\n",
      "[Parallel(n_jobs=1)]: Done   1 out of   1 | elapsed:    0.1s remaining:    0.0s\n"
     ]
    },
    {
     "name": "stdout",
     "output_type": "stream",
     "text": [
      "[CV] ................................................. , total=   0.1s\n",
      "[CV]  ................................................................\n",
      "[CV] ................................................. , total=   0.1s\n",
      "[CV]  ................................................................\n",
      "[CV] ................................................. , total=   0.1s\n",
      "[CV]  ................................................................\n",
      "[CV] ................................................. , total=   0.1s\n",
      "[CV]  ................................................................\n",
      "[CV] ................................................. , total=   0.1s\n",
      "[CV]  ................................................................\n",
      "[CV] ................................................. , total=   0.1s\n",
      "[CV]  ................................................................\n",
      "[CV] ................................................. , total=   0.1s\n",
      "[CV]  ................................................................\n",
      "[CV] ................................................. , total=   0.1s\n",
      "Cross Validation 10 fold ROC_AUC mean is 0.69365521225895\n"
     ]
    },
    {
     "name": "stderr",
     "output_type": "stream",
     "text": [
      "[Parallel(n_jobs=1)]: Done  10 out of  10 | elapsed:    0.9s finished\n"
     ]
    }
   ],
   "source": [
    "\n",
    "cv_results_tfidf_rfc = cross_val_score(rfc, tfidf_X, y,\n",
    "                             cv = 10, #10 folds\n",
    "                             scoring = \"roc_auc\",\n",
    "                             verbose = 2\n",
    "                            )\n",
    "print('Cross Validation 10 fold ROC_AUC mean is',cv_results_tfidf_rfc.mean())"
   ]
  },
  {
   "cell_type": "markdown",
   "metadata": {},
   "source": [
    "**Count Vecorizer**"
   ]
  },
  {
   "cell_type": "code",
   "execution_count": 57,
   "metadata": {},
   "outputs": [],
   "source": [
    "list_corpus = word_data.lemmatizedStr\n",
    "y = word_data.salary_threshold"
   ]
  },
  {
   "cell_type": "code",
   "execution_count": 58,
   "metadata": {},
   "outputs": [],
   "source": [
    "from sklearn.model_selection import train_test_split\n",
    "X_train, X_test, y_train, y_test = train_test_split(list_corpus, y, stratify=y, random_state=42)"
   ]
  },
  {
   "cell_type": "code",
   "execution_count": 59,
   "metadata": {},
   "outputs": [],
   "source": [
    "# Bag of words or \"one hot encode\" all unique words\n",
    "from sklearn.feature_extraction.text import CountVectorizer\n",
    "# transform training data\n",
    "count_vectorizer = CountVectorizer(max_df=0.7, stop_words=stop_words)\n",
    "X_train_counts_fit = count_vectorizer.fit(X_train)\n",
    "X_train_counts = count_vectorizer.transform(X_train)\n",
    "\n",
    "X_test_counts = count_vectorizer.transform(X_test)"
   ]
  },
  {
   "cell_type": "code",
   "execution_count": 60,
   "metadata": {},
   "outputs": [],
   "source": [
    "X_counts = count_vectorizer.transform(X) #for cross val"
   ]
  },
  {
   "cell_type": "code",
   "execution_count": 61,
   "metadata": {},
   "outputs": [
    {
     "data": {
      "text/plain": [
       "(1077, 4352)"
      ]
     },
     "execution_count": 61,
     "metadata": {},
     "output_type": "execute_result"
    }
   ],
   "source": [
    "X_train_counts.shape #we can see how this has changed the dimensionality"
   ]
  },
  {
   "cell_type": "markdown",
   "metadata": {},
   "source": [
    "**CountVectorizer and Logistic Regression Model**"
   ]
  },
  {
   "cell_type": "code",
   "execution_count": 62,
   "metadata": {},
   "outputs": [],
   "source": [
    "#Logistic Regression\n",
    "from sklearn.linear_model import LogisticRegression\n",
    "lr = LogisticRegression(C=0.03, class_weight='balanced', solver='newton-cg', random_state=42)\n",
    "lr.fit(X_train_counts, y_train)\n",
    "y_predicted_counts = lr.predict(X_test_counts)"
   ]
  },
  {
   "cell_type": "code",
   "execution_count": 63,
   "metadata": {},
   "outputs": [],
   "source": [
    "test_predictions_lr = lr.predict(X_test_counts)"
   ]
  },
  {
   "cell_type": "code",
   "execution_count": 64,
   "metadata": {},
   "outputs": [
    {
     "name": "stdout",
     "output_type": "stream",
     "text": [
      "= Classification Report =\n",
      "              precision    recall  f1-score   support\n",
      "\n",
      "           0       0.79      0.70      0.74       243\n",
      "           1       0.50      0.62      0.55       117\n",
      "\n",
      "    accuracy                           0.67       360\n",
      "   macro avg       0.65      0.66      0.65       360\n",
      "weighted avg       0.70      0.67      0.68       360\n",
      "\n"
     ]
    }
   ],
   "source": [
    "from sklearn.metrics import classification_report, roc_auc_score\n",
    "print(\"= Classification Report =\")\n",
    "print(classification_report(y_test, test_predictions_lr))"
   ]
  },
  {
   "cell_type": "code",
   "execution_count": 65,
   "metadata": {},
   "outputs": [
    {
     "name": "stdout",
     "output_type": "stream",
     "text": [
      "0.6597024374802153\n"
     ]
    }
   ],
   "source": [
    "from sklearn.metrics import roc_auc_score\n",
    "roc_test_count_lr = roc_auc_score(y_test, test_predictions_lr)\n",
    "print(roc_auc_score(y_test, test_predictions_lr))"
   ]
  },
  {
   "cell_type": "code",
   "execution_count": 66,
   "metadata": {},
   "outputs": [
    {
     "name": "stdout",
     "output_type": "stream",
     "text": [
      "[CV]  ................................................................\n",
      "[CV] ................................................. , total=   0.0s\n",
      "[CV]  ................................................................\n",
      "[CV] ................................................. , total=   0.0s\n",
      "[CV]  ................................................................\n",
      "[CV] ................................................. , total=   0.0s\n",
      "[CV]  ................................................................\n"
     ]
    },
    {
     "name": "stderr",
     "output_type": "stream",
     "text": [
      "[Parallel(n_jobs=1)]: Using backend SequentialBackend with 1 concurrent workers.\n",
      "[Parallel(n_jobs=1)]: Done   1 out of   1 | elapsed:    0.1s remaining:    0.0s\n"
     ]
    },
    {
     "name": "stdout",
     "output_type": "stream",
     "text": [
      "[CV] ................................................. , total=   0.1s\n",
      "[CV]  ................................................................\n",
      "[CV] ................................................. , total=   0.1s\n",
      "[CV]  ................................................................\n",
      "[CV] ................................................. , total=   0.0s\n",
      "[CV]  ................................................................\n",
      "[CV] ................................................. , total=   0.0s\n",
      "[CV]  ................................................................\n",
      "[CV] ................................................. , total=   0.0s\n",
      "[CV]  ................................................................\n",
      "[CV] ................................................. , total=   0.1s\n",
      "[CV]  ................................................................\n",
      "[CV] ................................................. , total=   0.1s\n",
      "Cross Validation 10 fold ROC_AUC mean is 0.7447892007638002\n"
     ]
    },
    {
     "name": "stderr",
     "output_type": "stream",
     "text": [
      "[Parallel(n_jobs=1)]: Done  10 out of  10 | elapsed:    0.5s finished\n"
     ]
    }
   ],
   "source": [
    "from sklearn.model_selection import cross_val_score\n",
    "cv_results_count_lr = cross_val_score(lr, X_counts, y,\n",
    "                             cv = 10, #10 folds\n",
    "                             scoring = \"roc_auc\",\n",
    "                             verbose = 2\n",
    "                            )\n",
    "print('Cross Validation 10 fold ROC_AUC mean is',cv_results_count_lr.mean())"
   ]
  },
  {
   "cell_type": "markdown",
   "metadata": {},
   "source": [
    "**Count Vectorizer and Random Forest Classifier**"
   ]
  },
  {
   "cell_type": "code",
   "execution_count": 67,
   "metadata": {},
   "outputs": [
    {
     "name": "stdout",
     "output_type": "stream",
     "text": [
      "[[224  19]\n",
      " [ 83  34]]\n"
     ]
    }
   ],
   "source": [
    "rfc = RandomForestClassifier()\n",
    "\n",
    "rfc.fit(X_train_counts, y_train)\n",
    "test_pred_rfc = rfc.predict(X_test_counts)\n",
    "\n",
    "cm = metrics.confusion_matrix(y_test, test_pred_rfc)\n",
    "print(cm)"
   ]
  },
  {
   "cell_type": "code",
   "execution_count": 68,
   "metadata": {},
   "outputs": [
    {
     "name": "stdout",
     "output_type": "stream",
     "text": [
      "= Classification Report =\n",
      "              precision    recall  f1-score   support\n",
      "\n",
      "           0       0.73      0.92      0.81       243\n",
      "           1       0.64      0.29      0.40       117\n",
      "\n",
      "    accuracy                           0.72       360\n",
      "   macro avg       0.69      0.61      0.61       360\n",
      "weighted avg       0.70      0.72      0.68       360\n",
      "\n"
     ]
    }
   ],
   "source": [
    "print(\"= Classification Report =\")\n",
    "print(classification_report(y_test, test_pred_rfc))"
   ]
  },
  {
   "cell_type": "code",
   "execution_count": 69,
   "metadata": {},
   "outputs": [
    {
     "name": "stdout",
     "output_type": "stream",
     "text": [
      "0.606204495093384\n"
     ]
    }
   ],
   "source": [
    "roc_test_count_rfc = (roc_auc_score(y_test, test_pred_rfc))\n",
    "print(roc_auc_score(y_test, test_pred_rfc))"
   ]
  },
  {
   "cell_type": "code",
   "execution_count": 70,
   "metadata": {},
   "outputs": [
    {
     "name": "stdout",
     "output_type": "stream",
     "text": [
      "[CV]  ................................................................\n",
      "[CV] ................................................. , total=   0.1s\n",
      "[CV]  ................................................................\n"
     ]
    },
    {
     "name": "stderr",
     "output_type": "stream",
     "text": [
      "[Parallel(n_jobs=1)]: Using backend SequentialBackend with 1 concurrent workers.\n",
      "[Parallel(n_jobs=1)]: Done   1 out of   1 | elapsed:    0.1s remaining:    0.0s\n"
     ]
    },
    {
     "name": "stdout",
     "output_type": "stream",
     "text": [
      "[CV] ................................................. , total=   0.1s\n",
      "[CV]  ................................................................\n",
      "[CV] ................................................. , total=   0.1s\n",
      "[CV]  ................................................................\n",
      "[CV] ................................................. , total=   0.1s\n",
      "[CV]  ................................................................\n",
      "[CV] ................................................. , total=   0.1s\n",
      "[CV]  ................................................................\n",
      "[CV] ................................................. , total=   0.1s\n",
      "[CV]  ................................................................\n",
      "[CV] ................................................. , total=   0.1s\n",
      "[CV]  ................................................................\n",
      "[CV] ................................................. , total=   0.1s\n",
      "[CV]  ................................................................\n",
      "[CV] ................................................. , total=   0.1s\n",
      "[CV]  ................................................................\n",
      "[CV] ................................................. , total=   0.1s\n",
      "Cross Validation 10 fold ROC_AUC mean is 0.6886874845878537\n"
     ]
    },
    {
     "name": "stderr",
     "output_type": "stream",
     "text": [
      "[Parallel(n_jobs=1)]: Done  10 out of  10 | elapsed:    0.8s finished\n"
     ]
    }
   ],
   "source": [
    "cv_results_count_rfc = cross_val_score(rfc, X_counts, y,\n",
    "                             cv = 10, #10 folds\n",
    "                             scoring = \"roc_auc\",\n",
    "                             verbose = 2\n",
    "                            )\n",
    "print('Cross Validation 10 fold ROC_AUC mean is',cv_results_count_rfc.mean())"
   ]
  },
  {
   "cell_type": "markdown",
   "metadata": {},
   "source": [
    "**Comparison between NLP, models, CV score, ROC AUC score**"
   ]
  },
  {
   "cell_type": "code",
   "execution_count": 71,
   "metadata": {},
   "outputs": [
    {
     "data": {
      "text/html": [
       "<div>\n",
       "<style scoped>\n",
       "    .dataframe tbody tr th:only-of-type {\n",
       "        vertical-align: middle;\n",
       "    }\n",
       "\n",
       "    .dataframe tbody tr th {\n",
       "        vertical-align: top;\n",
       "    }\n",
       "\n",
       "    .dataframe thead th {\n",
       "        text-align: right;\n",
       "    }\n",
       "</style>\n",
       "<table border=\"1\" class=\"dataframe\">\n",
       "  <thead>\n",
       "    <tr style=\"text-align: right;\">\n",
       "      <th></th>\n",
       "      <th>NLP Method</th>\n",
       "      <th>Model</th>\n",
       "      <th>Test Data ROC AUC</th>\n",
       "      <th>Cross Validation ROC AUC mean on all data</th>\n",
       "    </tr>\n",
       "  </thead>\n",
       "  <tbody>\n",
       "    <tr>\n",
       "      <th>0</th>\n",
       "      <td>TF-IDF</td>\n",
       "      <td>LogisticRegression</td>\n",
       "      <td>0.67</td>\n",
       "      <td>0.75</td>\n",
       "    </tr>\n",
       "    <tr>\n",
       "      <th>1</th>\n",
       "      <td>TF-IDF</td>\n",
       "      <td>RandomForestClassifier</td>\n",
       "      <td>0.61</td>\n",
       "      <td>0.69</td>\n",
       "    </tr>\n",
       "    <tr>\n",
       "      <th>2</th>\n",
       "      <td>CountVectorizer</td>\n",
       "      <td>LogisticRegression</td>\n",
       "      <td>0.66</td>\n",
       "      <td>0.74</td>\n",
       "    </tr>\n",
       "    <tr>\n",
       "      <th>3</th>\n",
       "      <td>CountVectorizer</td>\n",
       "      <td>RandomForestClassifier</td>\n",
       "      <td>0.61</td>\n",
       "      <td>0.69</td>\n",
       "    </tr>\n",
       "  </tbody>\n",
       "</table>\n",
       "</div>"
      ],
      "text/plain": [
       "        NLP Method                   Model  Test Data ROC AUC  \\\n",
       "0           TF-IDF      LogisticRegression               0.67   \n",
       "1           TF-IDF  RandomForestClassifier               0.61   \n",
       "2  CountVectorizer      LogisticRegression               0.66   \n",
       "3  CountVectorizer  RandomForestClassifier               0.61   \n",
       "\n",
       "   Cross Validation ROC AUC mean on all data  \n",
       "0                                       0.75  \n",
       "1                                       0.69  \n",
       "2                                       0.74  \n",
       "3                                       0.69  "
      ]
     },
     "execution_count": 71,
     "metadata": {},
     "output_type": "execute_result"
    }
   ],
   "source": [
    "comparison = pd.DataFrame()\n",
    "comparison['NLP Method'] = ['TF-IDF', 'TF-IDF', 'CountVectorizer', 'CountVectorizer']\n",
    "comparison['Model'] = ['LogisticRegression', 'RandomForestClassifier',\n",
    "                       'LogisticRegression', 'RandomForestClassifier']\n",
    "comparison['Test Data ROC AUC'] = [round(roc_test_tfidf_lr,2), round(roc_test_tfidf_rfc,2), \n",
    "                                   round(roc_test_count_lr,2), round(roc_test_count_rfc,2)]\n",
    "comparison['Cross Validation ROC AUC mean on all data'] = [round(cv_results_tfidf_lr.mean(),2),\n",
    "                                                           round(cv_results_tfidf_rfc.mean(),2), round(cv_results_count_lr.mean(),2), \n",
    "                                                           round(cv_results_count_rfc.mean(),2)]\n",
    "\n",
    "comparison"
   ]
  },
  {
   "cell_type": "code",
   "execution_count": 72,
   "metadata": {},
   "outputs": [
    {
     "data": {
      "image/png": "[encoded data removed]",
      "text/plain": [
       "<Figure size 432x288 with 1 Axes>"
      ]
     },
     "metadata": {},
     "output_type": "display_data"
    }
   ],
   "source": [
    "sns.set(style='whitegrid')\n",
    "sns.barplot(x='Test Data ROC AUC', y='Model', data=comparison, hue='NLP Method', orient='h', \n",
    "           palette='husl')\n",
    "plt.legend(bbox_to_anchor=(1.05, 1), loc=2, borderaxespad=0.)\n",
    "plt.show()"
   ]
  },
  {
   "cell_type": "code",
   "execution_count": 73,
   "metadata": {},
   "outputs": [
    {
     "data": {
      "image/png": "[encoded data removed]",
      "text/plain": [
       "<Figure size 432x288 with 1 Axes>"
      ]
     },
     "metadata": {},
     "output_type": "display_data"
    }
   ],
   "source": [
    "sns.set(style='whitegrid')\n",
    "sns.barplot(x='Cross Validation ROC AUC mean on all data', y='Model', data=comparison, hue='NLP Method', orient='h', \n",
    "           palette='husl')\n",
    "plt.legend(bbox_to_anchor=(1.05, 1), loc=2, borderaxespad=0.)\n",
    "plt.show()"
   ]
  },
  {
   "cell_type": "markdown",
   "metadata": {},
   "source": [
    "**Importance of Cross Validation** :\n",
    "\n",
    "-It gives assurance that the model has got most of the patterns from the data correct, and its not picking up too much on the noise\n",
    "\n",
    "-This is more robust than just checking the test data set\n",
    "\n",
    "-As it performs a train test split multiple times (10 times in this case)\n",
    "\n",
    "Overall the NLP method that for best model performance was overall was TF-IDF combined with the LOgistic Regression Model"
   ]
  },
  {
   "cell_type": "markdown",
   "metadata": {},
   "source": [
    "**Important features from Logistic Regression model**"
   ]
  },
  {
   "cell_type": "code",
   "execution_count": 74,
   "metadata": {},
   "outputs": [],
   "source": [
    "\n",
    "class_labels = lr.classes_\n",
    "\n",
    "# Extract the features: feature_names\n",
    "feature_names = count_vectorizer.get_feature_names()\n",
    "\n",
    "# Zip the feature names together with the coefficient array and sort by weights: feat_with_weights\n",
    "feat_with_weights = sorted(zip(lr.coef_[0], feature_names))"
   ]
  },
  {
   "cell_type": "code",
   "execution_count": 75,
   "metadata": {},
   "outputs": [
    {
     "data": {
      "text/html": [
       "<div>\n",
       "<style scoped>\n",
       "    .dataframe tbody tr th:only-of-type {\n",
       "        vertical-align: middle;\n",
       "    }\n",
       "\n",
       "    .dataframe tbody tr th {\n",
       "        vertical-align: top;\n",
       "    }\n",
       "\n",
       "    .dataframe thead th {\n",
       "        text-align: right;\n",
       "    }\n",
       "</style>\n",
       "<table border=\"1\" class=\"dataframe\">\n",
       "  <thead>\n",
       "    <tr style=\"text-align: right;\">\n",
       "      <th></th>\n",
       "      <th>score</th>\n",
       "      <th>feature_names</th>\n",
       "    </tr>\n",
       "  </thead>\n",
       "  <tbody>\n",
       "    <tr>\n",
       "      <th>4332</th>\n",
       "      <td>0.123941</td>\n",
       "      <td>gain</td>\n",
       "    </tr>\n",
       "    <tr>\n",
       "      <th>4333</th>\n",
       "      <td>0.124688</td>\n",
       "      <td>bonus</td>\n",
       "    </tr>\n",
       "    <tr>\n",
       "      <th>4334</th>\n",
       "      <td>0.126063</td>\n",
       "      <td>used</td>\n",
       "    </tr>\n",
       "    <tr>\n",
       "      <th>4335</th>\n",
       "      <td>0.127338</td>\n",
       "      <td>engage</td>\n",
       "    </tr>\n",
       "    <tr>\n",
       "      <th>4336</th>\n",
       "      <td>0.132142</td>\n",
       "      <td>offered</td>\n",
       "    </tr>\n",
       "    <tr>\n",
       "      <th>4337</th>\n",
       "      <td>0.132899</td>\n",
       "      <td>machine</td>\n",
       "    </tr>\n",
       "    <tr>\n",
       "      <th>4338</th>\n",
       "      <td>0.135285</td>\n",
       "      <td>loan</td>\n",
       "    </tr>\n",
       "    <tr>\n",
       "      <th>4339</th>\n",
       "      <td>0.135616</td>\n",
       "      <td>strong</td>\n",
       "    </tr>\n",
       "    <tr>\n",
       "      <th>4340</th>\n",
       "      <td>0.138881</td>\n",
       "      <td>etc</td>\n",
       "    </tr>\n",
       "    <tr>\n",
       "      <th>4341</th>\n",
       "      <td>0.140803</td>\n",
       "      <td>broader</td>\n",
       "    </tr>\n",
       "    <tr>\n",
       "      <th>4342</th>\n",
       "      <td>0.147192</td>\n",
       "      <td>tech</td>\n",
       "    </tr>\n",
       "    <tr>\n",
       "      <th>4343</th>\n",
       "      <td>0.148005</td>\n",
       "      <td>legacy</td>\n",
       "    </tr>\n",
       "    <tr>\n",
       "      <th>4344</th>\n",
       "      <td>0.156071</td>\n",
       "      <td>initial</td>\n",
       "    </tr>\n",
       "    <tr>\n",
       "      <th>4345</th>\n",
       "      <td>0.164844</td>\n",
       "      <td>number</td>\n",
       "    </tr>\n",
       "    <tr>\n",
       "      <th>4346</th>\n",
       "      <td>0.165360</td>\n",
       "      <td>shell</td>\n",
       "    </tr>\n",
       "    <tr>\n",
       "      <th>4347</th>\n",
       "      <td>0.179609</td>\n",
       "      <td>kafka</td>\n",
       "    </tr>\n",
       "    <tr>\n",
       "      <th>4348</th>\n",
       "      <td>0.195152</td>\n",
       "      <td>cbd</td>\n",
       "    </tr>\n",
       "    <tr>\n",
       "      <th>4349</th>\n",
       "      <td>0.200220</td>\n",
       "      <td>large</td>\n",
       "    </tr>\n",
       "    <tr>\n",
       "      <th>4350</th>\n",
       "      <td>0.261937</td>\n",
       "      <td>rate</td>\n",
       "    </tr>\n",
       "    <tr>\n",
       "      <th>4351</th>\n",
       "      <td>0.338487</td>\n",
       "      <td>lead</td>\n",
       "    </tr>\n",
       "  </tbody>\n",
       "</table>\n",
       "</div>"
      ],
      "text/plain": [
       "         score feature_names\n",
       "4332  0.123941          gain\n",
       "4333  0.124688         bonus\n",
       "4334  0.126063          used\n",
       "4335  0.127338        engage\n",
       "4336  0.132142       offered\n",
       "4337  0.132899       machine\n",
       "4338  0.135285          loan\n",
       "4339  0.135616        strong\n",
       "4340  0.138881           etc\n",
       "4341  0.140803       broader\n",
       "4342  0.147192          tech\n",
       "4343  0.148005        legacy\n",
       "4344  0.156071       initial\n",
       "4345  0.164844        number\n",
       "4346  0.165360         shell\n",
       "4347  0.179609         kafka\n",
       "4348  0.195152           cbd\n",
       "4349  0.200220         large\n",
       "4350  0.261937          rate\n",
       "4351  0.338487          lead"
      ]
     },
     "execution_count": 75,
     "metadata": {},
     "output_type": "execute_result"
    }
   ],
   "source": [
    "pd.DataFrame(feat_with_weights, columns=['score', 'feature_names']).tail(20)"
   ]
  },
  {
   "cell_type": "markdown",
   "metadata": {},
   "source": [
    "These words were strongly associated with higher salary role"
   ]
  },
  {
   "cell_type": "code",
   "execution_count": 76,
   "metadata": {},
   "outputs": [],
   "source": [
    "from wordcloud import WordCloud\n",
    "import os\n",
    "\n",
    "from os import path"
   ]
  },
  {
   "cell_type": "code",
   "execution_count": 77,
   "metadata": {},
   "outputs": [],
   "source": [
    "feats = pd.DataFrame(feat_with_weights, columns=['score', 'feature_names']).tail(20)"
   ]
  },
  {
   "cell_type": "code",
   "execution_count": 78,
   "metadata": {},
   "outputs": [],
   "source": [
    "text = \" \".join(review for review in feats.feature_names)"
   ]
  },
  {
   "cell_type": "code",
   "execution_count": 79,
   "metadata": {},
   "outputs": [
    {
     "data": {
      "image/png": "[encoded data removed]",
      "text/plain": [
       "<Figure size 432x288 with 1 Axes>"
      ]
     },
     "metadata": {},
     "output_type": "display_data"
    }
   ],
   "source": [
    "# Generate a word cloud image\n",
    "wordcloud = WordCloud().generate(text)\n",
    "\n",
    "# lower max_font_size\n",
    "wordcloud = WordCloud(max_font_size=40).generate(text)\n",
    "plt.figure()\n",
    "plt.imshow(wordcloud, interpolation=\"bilinear\")\n",
    "plt.axis(\"off\")\n",
    "plt.show()"
   ]
  }
 ],
 "metadata": {
  "kernelspec": {
   "display_name": "Python 3",
   "language": "python",
   "name": "python3"
  },
  "language_info": {
   "codemirror_mode": {
    "name": "ipython",
    "version": 3
   },
   "file_extension": ".py",
   "mimetype": "text/x-python",
   "name": "python",
   "nbconvert_exporter": "python",
   "pygments_lexer": "ipython3",
   "version": "3.7.3"
  }
 },
 "nbformat": 4,
 "nbformat_minor": 2
}
